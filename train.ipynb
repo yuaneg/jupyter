{
 "nbformat": 4,
 "nbformat_minor": 0,
 "metadata": {
  "colab": {
   "provenance": [],
   "toc_visible": true,
   "authorship_tag": "ABX9TyNWSkgjpgltq9OpTUd/k2jj"
  },
  "kernelspec": {
   "name": "python3",
   "language": "python",
   "display_name": "Python 3 (ipykernel)"
  },
  "language_info": {
   "name": "python"
  },
  "widgets": {
   "application/vnd.jupyter.widget-state+json": {
    "193ef86c9fdb4a06a260ef75668516e4": {
     "model_module": "@jupyter-widgets/controls",
     "model_name": "HBoxModel",
     "model_module_version": "1.5.0",
     "state": {
      "_dom_classes": [],
      "_model_module": "@jupyter-widgets/controls",
      "_model_module_version": "1.5.0",
      "_model_name": "HBoxModel",
      "_view_count": null,
      "_view_module": "@jupyter-widgets/controls",
      "_view_module_version": "1.5.0",
      "_view_name": "HBoxView",
      "box_style": "",
      "children": [
       "IPY_MODEL_ff0131c8b10a4143bd121e81cd4d1e91",
       "IPY_MODEL_065406b3251945a3928622a4c3e81e99",
       "IPY_MODEL_a0ef6e076f1d4973a79d3475af086ed4"
      ],
      "layout": "IPY_MODEL_92b33b2e03e84c439ca76e91c11d2368"
     }
    },
    "ff0131c8b10a4143bd121e81cd4d1e91": {
     "model_module": "@jupyter-widgets/controls",
     "model_name": "HTMLModel",
     "model_module_version": "1.5.0",
     "state": {
      "_dom_classes": [],
      "_model_module": "@jupyter-widgets/controls",
      "_model_module_version": "1.5.0",
      "_model_name": "HTMLModel",
      "_view_count": null,
      "_view_module": "@jupyter-widgets/controls",
      "_view_module_version": "1.5.0",
      "_view_name": "HTMLView",
      "description": "",
      "description_tooltip": null,
      "layout": "IPY_MODEL_178d99555b9b488a9f2338baa78b0637",
      "placeholder": "​",
      "style": "IPY_MODEL_1910cba8a332433b8f42d0709cebd39f",
      "value": "Map: 100%"
     }
    },
    "065406b3251945a3928622a4c3e81e99": {
     "model_module": "@jupyter-widgets/controls",
     "model_name": "FloatProgressModel",
     "model_module_version": "1.5.0",
     "state": {
      "_dom_classes": [],
      "_model_module": "@jupyter-widgets/controls",
      "_model_module_version": "1.5.0",
      "_model_name": "FloatProgressModel",
      "_view_count": null,
      "_view_module": "@jupyter-widgets/controls",
      "_view_module_version": "1.5.0",
      "_view_name": "ProgressView",
      "bar_style": "success",
      "description": "",
      "description_tooltip": null,
      "layout": "IPY_MODEL_a41457b0d1f44505b0f9f1b183182d4f",
      "max": 29,
      "min": 0,
      "orientation": "horizontal",
      "style": "IPY_MODEL_3f1612b95c5f4a1c8c7b06596e76b5a9",
      "value": 29
     }
    },
    "a0ef6e076f1d4973a79d3475af086ed4": {
     "model_module": "@jupyter-widgets/controls",
     "model_name": "HTMLModel",
     "model_module_version": "1.5.0",
     "state": {
      "_dom_classes": [],
      "_model_module": "@jupyter-widgets/controls",
      "_model_module_version": "1.5.0",
      "_model_name": "HTMLModel",
      "_view_count": null,
      "_view_module": "@jupyter-widgets/controls",
      "_view_module_version": "1.5.0",
      "_view_name": "HTMLView",
      "description": "",
      "description_tooltip": null,
      "layout": "IPY_MODEL_2399e89a0c11471389fd31144324be93",
      "placeholder": "​",
      "style": "IPY_MODEL_ce328bbb83b7463c89ce48d5442b16c2",
      "value": " 29/29 [00:00&lt;00:00, 1641.81 examples/s]"
     }
    },
    "92b33b2e03e84c439ca76e91c11d2368": {
     "model_module": "@jupyter-widgets/base",
     "model_name": "LayoutModel",
     "model_module_version": "1.2.0",
     "state": {
      "_model_module": "@jupyter-widgets/base",
      "_model_module_version": "1.2.0",
      "_model_name": "LayoutModel",
      "_view_count": null,
      "_view_module": "@jupyter-widgets/base",
      "_view_module_version": "1.2.0",
      "_view_name": "LayoutView",
      "align_content": null,
      "align_items": null,
      "align_self": null,
      "border": null,
      "bottom": null,
      "display": null,
      "flex": null,
      "flex_flow": null,
      "grid_area": null,
      "grid_auto_columns": null,
      "grid_auto_flow": null,
      "grid_auto_rows": null,
      "grid_column": null,
      "grid_gap": null,
      "grid_row": null,
      "grid_template_areas": null,
      "grid_template_columns": null,
      "grid_template_rows": null,
      "height": null,
      "justify_content": null,
      "justify_items": null,
      "left": null,
      "margin": null,
      "max_height": null,
      "max_width": null,
      "min_height": null,
      "min_width": null,
      "object_fit": null,
      "object_position": null,
      "order": null,
      "overflow": null,
      "overflow_x": null,
      "overflow_y": null,
      "padding": null,
      "right": null,
      "top": null,
      "visibility": null,
      "width": null
     }
    },
    "178d99555b9b488a9f2338baa78b0637": {
     "model_module": "@jupyter-widgets/base",
     "model_name": "LayoutModel",
     "model_module_version": "1.2.0",
     "state": {
      "_model_module": "@jupyter-widgets/base",
      "_model_module_version": "1.2.0",
      "_model_name": "LayoutModel",
      "_view_count": null,
      "_view_module": "@jupyter-widgets/base",
      "_view_module_version": "1.2.0",
      "_view_name": "LayoutView",
      "align_content": null,
      "align_items": null,
      "align_self": null,
      "border": null,
      "bottom": null,
      "display": null,
      "flex": null,
      "flex_flow": null,
      "grid_area": null,
      "grid_auto_columns": null,
      "grid_auto_flow": null,
      "grid_auto_rows": null,
      "grid_column": null,
      "grid_gap": null,
      "grid_row": null,
      "grid_template_areas": null,
      "grid_template_columns": null,
      "grid_template_rows": null,
      "height": null,
      "justify_content": null,
      "justify_items": null,
      "left": null,
      "margin": null,
      "max_height": null,
      "max_width": null,
      "min_height": null,
      "min_width": null,
      "object_fit": null,
      "object_position": null,
      "order": null,
      "overflow": null,
      "overflow_x": null,
      "overflow_y": null,
      "padding": null,
      "right": null,
      "top": null,
      "visibility": null,
      "width": null
     }
    },
    "1910cba8a332433b8f42d0709cebd39f": {
     "model_module": "@jupyter-widgets/controls",
     "model_name": "DescriptionStyleModel",
     "model_module_version": "1.5.0",
     "state": {
      "_model_module": "@jupyter-widgets/controls",
      "_model_module_version": "1.5.0",
      "_model_name": "DescriptionStyleModel",
      "_view_count": null,
      "_view_module": "@jupyter-widgets/base",
      "_view_module_version": "1.2.0",
      "_view_name": "StyleView",
      "description_width": ""
     }
    },
    "a41457b0d1f44505b0f9f1b183182d4f": {
     "model_module": "@jupyter-widgets/base",
     "model_name": "LayoutModel",
     "model_module_version": "1.2.0",
     "state": {
      "_model_module": "@jupyter-widgets/base",
      "_model_module_version": "1.2.0",
      "_model_name": "LayoutModel",
      "_view_count": null,
      "_view_module": "@jupyter-widgets/base",
      "_view_module_version": "1.2.0",
      "_view_name": "LayoutView",
      "align_content": null,
      "align_items": null,
      "align_self": null,
      "border": null,
      "bottom": null,
      "display": null,
      "flex": null,
      "flex_flow": null,
      "grid_area": null,
      "grid_auto_columns": null,
      "grid_auto_flow": null,
      "grid_auto_rows": null,
      "grid_column": null,
      "grid_gap": null,
      "grid_row": null,
      "grid_template_areas": null,
      "grid_template_columns": null,
      "grid_template_rows": null,
      "height": null,
      "justify_content": null,
      "justify_items": null,
      "left": null,
      "margin": null,
      "max_height": null,
      "max_width": null,
      "min_height": null,
      "min_width": null,
      "object_fit": null,
      "object_position": null,
      "order": null,
      "overflow": null,
      "overflow_x": null,
      "overflow_y": null,
      "padding": null,
      "right": null,
      "top": null,
      "visibility": null,
      "width": null
     }
    },
    "3f1612b95c5f4a1c8c7b06596e76b5a9": {
     "model_module": "@jupyter-widgets/controls",
     "model_name": "ProgressStyleModel",
     "model_module_version": "1.5.0",
     "state": {
      "_model_module": "@jupyter-widgets/controls",
      "_model_module_version": "1.5.0",
      "_model_name": "ProgressStyleModel",
      "_view_count": null,
      "_view_module": "@jupyter-widgets/base",
      "_view_module_version": "1.2.0",
      "_view_name": "StyleView",
      "bar_color": null,
      "description_width": ""
     }
    },
    "2399e89a0c11471389fd31144324be93": {
     "model_module": "@jupyter-widgets/base",
     "model_name": "LayoutModel",
     "model_module_version": "1.2.0",
     "state": {
      "_model_module": "@jupyter-widgets/base",
      "_model_module_version": "1.2.0",
      "_model_name": "LayoutModel",
      "_view_count": null,
      "_view_module": "@jupyter-widgets/base",
      "_view_module_version": "1.2.0",
      "_view_name": "LayoutView",
      "align_content": null,
      "align_items": null,
      "align_self": null,
      "border": null,
      "bottom": null,
      "display": null,
      "flex": null,
      "flex_flow": null,
      "grid_area": null,
      "grid_auto_columns": null,
      "grid_auto_flow": null,
      "grid_auto_rows": null,
      "grid_column": null,
      "grid_gap": null,
      "grid_row": null,
      "grid_template_areas": null,
      "grid_template_columns": null,
      "grid_template_rows": null,
      "height": null,
      "justify_content": null,
      "justify_items": null,
      "left": null,
      "margin": null,
      "max_height": null,
      "max_width": null,
      "min_height": null,
      "min_width": null,
      "object_fit": null,
      "object_position": null,
      "order": null,
      "overflow": null,
      "overflow_x": null,
      "overflow_y": null,
      "padding": null,
      "right": null,
      "top": null,
      "visibility": null,
      "width": null
     }
    },
    "ce328bbb83b7463c89ce48d5442b16c2": {
     "model_module": "@jupyter-widgets/controls",
     "model_name": "DescriptionStyleModel",
     "model_module_version": "1.5.0",
     "state": {
      "_model_module": "@jupyter-widgets/controls",
      "_model_module_version": "1.5.0",
      "_model_name": "DescriptionStyleModel",
      "_view_count": null,
      "_view_module": "@jupyter-widgets/base",
      "_view_module_version": "1.2.0",
      "_view_name": "StyleView",
      "description_width": ""
     }
    },
    "fc14ac9e1614438597049719138d9e07": {
     "model_module": "@jupyter-widgets/controls",
     "model_name": "HBoxModel",
     "model_module_version": "1.5.0",
     "state": {
      "_dom_classes": [],
      "_model_module": "@jupyter-widgets/controls",
      "_model_module_version": "1.5.0",
      "_model_name": "HBoxModel",
      "_view_count": null,
      "_view_module": "@jupyter-widgets/controls",
      "_view_module_version": "1.5.0",
      "_view_name": "HBoxView",
      "box_style": "",
      "children": [
       "IPY_MODEL_ed950231ba774f9e8b3ada9a4421ff81",
       "IPY_MODEL_879ff1e12b684dae9858f3a01cc39ed4",
       "IPY_MODEL_d80b84e42c52456ba7914ff739719e04"
      ],
      "layout": "IPY_MODEL_7a04be94134e4661824ca4e92e61ecbe"
     }
    },
    "ed950231ba774f9e8b3ada9a4421ff81": {
     "model_module": "@jupyter-widgets/controls",
     "model_name": "HTMLModel",
     "model_module_version": "1.5.0",
     "state": {
      "_dom_classes": [],
      "_model_module": "@jupyter-widgets/controls",
      "_model_module_version": "1.5.0",
      "_model_name": "HTMLModel",
      "_view_count": null,
      "_view_module": "@jupyter-widgets/controls",
      "_view_module_version": "1.5.0",
      "_view_name": "HTMLView",
      "description": "",
      "description_tooltip": null,
      "layout": "IPY_MODEL_092a3ba52bbc426894c8bedfeeaabded",
      "placeholder": "​",
      "style": "IPY_MODEL_935dd93b08ff40da827c32990e87be7f",
      "value": "Map (num_proc=2): 100%"
     }
    },
    "879ff1e12b684dae9858f3a01cc39ed4": {
     "model_module": "@jupyter-widgets/controls",
     "model_name": "FloatProgressModel",
     "model_module_version": "1.5.0",
     "state": {
      "_dom_classes": [],
      "_model_module": "@jupyter-widgets/controls",
      "_model_module_version": "1.5.0",
      "_model_name": "FloatProgressModel",
      "_view_count": null,
      "_view_module": "@jupyter-widgets/controls",
      "_view_module_version": "1.5.0",
      "_view_name": "ProgressView",
      "bar_style": "success",
      "description": "",
      "description_tooltip": null,
      "layout": "IPY_MODEL_3ab2034cc6a74ff5a4bcf5fd4c57b2fa",
      "max": 29,
      "min": 0,
      "orientation": "horizontal",
      "style": "IPY_MODEL_9b906ca7d00842d886b2a7ac0b413cdd",
      "value": 29
     }
    },
    "d80b84e42c52456ba7914ff739719e04": {
     "model_module": "@jupyter-widgets/controls",
     "model_name": "HTMLModel",
     "model_module_version": "1.5.0",
     "state": {
      "_dom_classes": [],
      "_model_module": "@jupyter-widgets/controls",
      "_model_module_version": "1.5.0",
      "_model_name": "HTMLModel",
      "_view_count": null,
      "_view_module": "@jupyter-widgets/controls",
      "_view_module_version": "1.5.0",
      "_view_name": "HTMLView",
      "description": "",
      "description_tooltip": null,
      "layout": "IPY_MODEL_3efcc644267b4b62ae4f5d032e25f7c7",
      "placeholder": "​",
      "style": "IPY_MODEL_0f3b7ba5fc8a4acd9d7a7c1571b2931b",
      "value": " 29/29 [00:00&lt;00:00, 60.09 examples/s]"
     }
    },
    "7a04be94134e4661824ca4e92e61ecbe": {
     "model_module": "@jupyter-widgets/base",
     "model_name": "LayoutModel",
     "model_module_version": "1.2.0",
     "state": {
      "_model_module": "@jupyter-widgets/base",
      "_model_module_version": "1.2.0",
      "_model_name": "LayoutModel",
      "_view_count": null,
      "_view_module": "@jupyter-widgets/base",
      "_view_module_version": "1.2.0",
      "_view_name": "LayoutView",
      "align_content": null,
      "align_items": null,
      "align_self": null,
      "border": null,
      "bottom": null,
      "display": null,
      "flex": null,
      "flex_flow": null,
      "grid_area": null,
      "grid_auto_columns": null,
      "grid_auto_flow": null,
      "grid_auto_rows": null,
      "grid_column": null,
      "grid_gap": null,
      "grid_row": null,
      "grid_template_areas": null,
      "grid_template_columns": null,
      "grid_template_rows": null,
      "height": null,
      "justify_content": null,
      "justify_items": null,
      "left": null,
      "margin": null,
      "max_height": null,
      "max_width": null,
      "min_height": null,
      "min_width": null,
      "object_fit": null,
      "object_position": null,
      "order": null,
      "overflow": null,
      "overflow_x": null,
      "overflow_y": null,
      "padding": null,
      "right": null,
      "top": null,
      "visibility": null,
      "width": null
     }
    },
    "092a3ba52bbc426894c8bedfeeaabded": {
     "model_module": "@jupyter-widgets/base",
     "model_name": "LayoutModel",
     "model_module_version": "1.2.0",
     "state": {
      "_model_module": "@jupyter-widgets/base",
      "_model_module_version": "1.2.0",
      "_model_name": "LayoutModel",
      "_view_count": null,
      "_view_module": "@jupyter-widgets/base",
      "_view_module_version": "1.2.0",
      "_view_name": "LayoutView",
      "align_content": null,
      "align_items": null,
      "align_self": null,
      "border": null,
      "bottom": null,
      "display": null,
      "flex": null,
      "flex_flow": null,
      "grid_area": null,
      "grid_auto_columns": null,
      "grid_auto_flow": null,
      "grid_auto_rows": null,
      "grid_column": null,
      "grid_gap": null,
      "grid_row": null,
      "grid_template_areas": null,
      "grid_template_columns": null,
      "grid_template_rows": null,
      "height": null,
      "justify_content": null,
      "justify_items": null,
      "left": null,
      "margin": null,
      "max_height": null,
      "max_width": null,
      "min_height": null,
      "min_width": null,
      "object_fit": null,
      "object_position": null,
      "order": null,
      "overflow": null,
      "overflow_x": null,
      "overflow_y": null,
      "padding": null,
      "right": null,
      "top": null,
      "visibility": null,
      "width": null
     }
    },
    "935dd93b08ff40da827c32990e87be7f": {
     "model_module": "@jupyter-widgets/controls",
     "model_name": "DescriptionStyleModel",
     "model_module_version": "1.5.0",
     "state": {
      "_model_module": "@jupyter-widgets/controls",
      "_model_module_version": "1.5.0",
      "_model_name": "DescriptionStyleModel",
      "_view_count": null,
      "_view_module": "@jupyter-widgets/base",
      "_view_module_version": "1.2.0",
      "_view_name": "StyleView",
      "description_width": ""
     }
    },
    "3ab2034cc6a74ff5a4bcf5fd4c57b2fa": {
     "model_module": "@jupyter-widgets/base",
     "model_name": "LayoutModel",
     "model_module_version": "1.2.0",
     "state": {
      "_model_module": "@jupyter-widgets/base",
      "_model_module_version": "1.2.0",
      "_model_name": "LayoutModel",
      "_view_count": null,
      "_view_module": "@jupyter-widgets/base",
      "_view_module_version": "1.2.0",
      "_view_name": "LayoutView",
      "align_content": null,
      "align_items": null,
      "align_self": null,
      "border": null,
      "bottom": null,
      "display": null,
      "flex": null,
      "flex_flow": null,
      "grid_area": null,
      "grid_auto_columns": null,
      "grid_auto_flow": null,
      "grid_auto_rows": null,
      "grid_column": null,
      "grid_gap": null,
      "grid_row": null,
      "grid_template_areas": null,
      "grid_template_columns": null,
      "grid_template_rows": null,
      "height": null,
      "justify_content": null,
      "justify_items": null,
      "left": null,
      "margin": null,
      "max_height": null,
      "max_width": null,
      "min_height": null,
      "min_width": null,
      "object_fit": null,
      "object_position": null,
      "order": null,
      "overflow": null,
      "overflow_x": null,
      "overflow_y": null,
      "padding": null,
      "right": null,
      "top": null,
      "visibility": null,
      "width": null
     }
    },
    "9b906ca7d00842d886b2a7ac0b413cdd": {
     "model_module": "@jupyter-widgets/controls",
     "model_name": "ProgressStyleModel",
     "model_module_version": "1.5.0",
     "state": {
      "_model_module": "@jupyter-widgets/controls",
      "_model_module_version": "1.5.0",
      "_model_name": "ProgressStyleModel",
      "_view_count": null,
      "_view_module": "@jupyter-widgets/base",
      "_view_module_version": "1.2.0",
      "_view_name": "StyleView",
      "bar_color": null,
      "description_width": ""
     }
    },
    "3efcc644267b4b62ae4f5d032e25f7c7": {
     "model_module": "@jupyter-widgets/base",
     "model_name": "LayoutModel",
     "model_module_version": "1.2.0",
     "state": {
      "_model_module": "@jupyter-widgets/base",
      "_model_module_version": "1.2.0",
      "_model_name": "LayoutModel",
      "_view_count": null,
      "_view_module": "@jupyter-widgets/base",
      "_view_module_version": "1.2.0",
      "_view_name": "LayoutView",
      "align_content": null,
      "align_items": null,
      "align_self": null,
      "border": null,
      "bottom": null,
      "display": null,
      "flex": null,
      "flex_flow": null,
      "grid_area": null,
      "grid_auto_columns": null,
      "grid_auto_flow": null,
      "grid_auto_rows": null,
      "grid_column": null,
      "grid_gap": null,
      "grid_row": null,
      "grid_template_areas": null,
      "grid_template_columns": null,
      "grid_template_rows": null,
      "height": null,
      "justify_content": null,
      "justify_items": null,
      "left": null,
      "margin": null,
      "max_height": null,
      "max_width": null,
      "min_height": null,
      "min_width": null,
      "object_fit": null,
      "object_position": null,
      "order": null,
      "overflow": null,
      "overflow_x": null,
      "overflow_y": null,
      "padding": null,
      "right": null,
      "top": null,
      "visibility": null,
      "width": null
     }
    },
    "0f3b7ba5fc8a4acd9d7a7c1571b2931b": {
     "model_module": "@jupyter-widgets/controls",
     "model_name": "DescriptionStyleModel",
     "model_module_version": "1.5.0",
     "state": {
      "_model_module": "@jupyter-widgets/controls",
      "_model_module_version": "1.5.0",
      "_model_name": "DescriptionStyleModel",
      "_view_count": null,
      "_view_module": "@jupyter-widgets/base",
      "_view_module_version": "1.2.0",
      "_view_name": "StyleView",
      "description_width": ""
     }
    }
   }
  }
 },
 "cells": [
  {
   "cell_type": "markdown",
   "source": [],
   "metadata": {
    "collapsed": false
   }
  },
  {
   "cell_type": "code",
   "outputs": [],
   "source": [
    "%%capture\n",
    "# Installs Unsloth, Xformers (Flash Attention) and all other packages!\n",
    "!pip install \"unsloth[colab-new] @ git+https://github.com/unslothai/unsloth.git\"\n",
    "\n",
    "# We have to check which Torch version for Xformers (2.3 -> 0.0.27)\n",
    "from torch import __version__; from packaging.version import Version as V\n",
    "xformers = \"xformers==0.0.27\" if V(__version__) < V(\"2.4.0\") else \"xformers\"\n",
    "!pip install --no-deps {xformers} trl peft accelerate bitsandbytes triton\n",
    "import torch\n",
    "torch.__version__\n",
    "# 安装 ollama\n",
    "!curl -fsSL https://ollama.com/install.sh | sh"
   ],
   "metadata": {
    "collapsed": false,
    "ExecuteTime": {
     "end_time": "2024-09-19T02:34:50.003857Z",
     "start_time": "2024-09-19T02:33:27.717009Z"
    }
   },
   "execution_count": 1
  },
  {
   "cell_type": "markdown",
   "source": [
    "# 初始化模型"
   ],
   "metadata": {
    "collapsed": false
   }
  },
  {
   "cell_type": "code",
   "source": [
    "from unsloth import FastLanguageModel\n",
    "import torch\n",
    "max_seq_length = 2048 # Choose any! We auto support RoPE Scaling internally!\n",
    "dtype = None # None for auto detection. Float16 for Tesla T4, V100, Bfloat16 for Ampere+\n",
    "load_in_4bit = True # Use 4bit quantization to reduce memory usage. Can be False.\n",
    "\n",
    "# 4bit pre quantized models we support for 4x faster downloading + no OOMs.\n",
    "# fourbit_models = [\n",
    "#     \"unsloth/mistral-7b-v0.3-bnb-4bit\",      # New Mistral v3 2x faster!\n",
    "#     \"unsloth/mistral-7b-instruct-v0.3-bnb-4bit\",\n",
    "#     \"unsloth/llama-3-8b-bnb-4bit\",           # Llama-3 15 trillion tokens model 2x faster!\n",
    "#     \"unsloth/llama-3-8b-Instruct-bnb-4bit\",\n",
    "#     \"unsloth/llama-3-70b-bnb-4bit\",\n",
    "#     \"unsloth/Phi-3-mini-4k-instruct\",        # Phi-3 2x faster!\n",
    "#     \"unsloth/Phi-3-medium-4k-instruct\",\n",
    "#     \"unsloth/mistral-7b-bnb-4bit\",\n",
    "#     \"unsloth/gemma-7b-bnb-4bit\",             # Gemma 2.2x faster!\n",
    "# ] # More models at https://huggingface.co/unsloth\n",
    "\n",
    "model, tokenizer = FastLanguageModel.from_pretrained(\n",
    "    model_name = \"meta-llama/Meta-Llama-3.1-8B-Instruct\",\n",
    "    max_seq_length = max_seq_length,\n",
    "    dtype = dtype,\n",
    "    load_in_4bit = load_in_4bit,\n",
    "    # token = \"hf_...\", # use one if using gated models like meta-llama/Llama-2-7b-hf\n",
    ")"
   ],
   "metadata": {
    "colab": {
     "base_uri": "https://localhost:8080/"
    },
    "id": "y39ue1Xxz1bL",
    "executionInfo": {
     "status": "ok",
     "timestamp": 1725962084447,
     "user_tz": -480,
     "elapsed": 18089,
     "user": {
      "displayName": "桑桑",
      "userId": "15939856000553134307"
     }
    },
    "outputId": "4c20f101-ca79-4f6a-a797-a037e59b0d07",
    "ExecuteTime": {
     "end_time": "2024-09-19T02:36:57.291757Z",
     "start_time": "2024-09-19T02:35:03.417806Z"
    }
   },
   "execution_count": 1,
   "outputs": [
    {
     "name": "stdout",
     "output_type": "stream",
     "text": [
      "🦥 Unsloth: Will patch your computer to enable 2x faster free finetuning.\n",
      "==((====))==  Unsloth 2024.9: Fast Llama patching. Transformers = 4.44.2.\n",
      "   \\\\   /|    GPU: NVIDIA GeForce RTX 4070 SUPER. Max memory: 11.994 GB. Platform = Linux.\n",
      "O^O/ \\_/ \\    Pytorch: 2.4.1+cu121. CUDA = 8.9. CUDA Toolkit = 12.1.\n",
      "\\        /    Bfloat16 = TRUE. FA [Xformers = 0.0.27.post2. FA2 = False]\n",
      " \"-____-\"     Free Apache license: http://github.com/unslothai/unsloth\n"
     ]
    }
   ]
  },
  {
   "cell_type": "markdown",
   "source": [
    "# 模型参数设置"
   ],
   "metadata": {
    "id": "SYgxXGKmFXdF"
   }
  },
  {
   "cell_type": "code",
   "execution_count": 2,
   "metadata": {
    "colab": {
     "base_uri": "https://localhost:8080/"
    },
    "executionInfo": {
     "elapsed": 3,
     "status": "ok",
     "timestamp": 1725962102106,
     "user": {
      "displayName": "桑桑",
      "userId": "15939856000553134307"
     },
     "user_tz": -480
    },
    "id": "6bZsfBuZDeCL",
    "outputId": "ad47bcf6-6fec-40ab-eee8-62814bdbd595",
    "ExecuteTime": {
     "end_time": "2024-09-19T02:40:30.142331Z",
     "start_time": "2024-09-19T02:40:28.296826Z"
    }
   },
   "outputs": [
    {
     "name": "stderr",
     "output_type": "stream",
     "text": [
      "Unsloth 2024.9 patched 32 layers with 32 QKV layers, 32 O layers and 32 MLP layers.\n"
     ]
    }
   ],
   "source": [
    "model = FastLanguageModel.get_peft_model(\n",
    "    model,\n",
    "    r = 16, # Choose any number > 0 ! Suggested 8, 16, 32, 64, 128\n",
    "    #target_modules = [\"q_proj\", \"k_proj\", \"v_proj\", \"o_proj\"],\n",
    "\n",
    "    target_modules = [\"q_proj\", \"k_proj\", \"v_proj\", \"o_proj\",\n",
    "                      \"gate_proj\", \"up_proj\", \"down_proj\",],\n",
    "    lora_alpha = 16,\n",
    "    lora_dropout = 0, # Supports any, but = 0 is optimized\n",
    "    bias = \"none\",    # Supports any, but = \"none\" is optimized\n",
    "    # [NEW] \"unsloth\" uses 30% less VRAM, fits 2x larger batch sizes!\n",
    "    use_gradient_checkpointing = \"unsloth\", # True or \"unsloth\" for very long context\n",
    "    random_state = 3407,\n",
    "    use_rslora = False,  # We support rank stabilized LoRA\n",
    "    loftq_config = None, # And LoftQ\n",
    ")"
   ]
  },
  {
   "cell_type": "markdown",
   "source": [
    "# 加载数据集"
   ],
   "metadata": {
    "collapsed": false
   }
  },
  {
   "cell_type": "code",
   "source": [
    "from datasets import load_dataset, concatenate_datasets,Dataset\n",
    "import pandas as pd\n",
    "\n",
    "# 加载本地数据集\n",
    "#dataset = load_dataset('json', data_files='/home/jovyan/train.jsonl', split='train')\n",
    "# dataset = load_dataset(\"vicgalle/alpaca-gpt4\", split = \"train\")\n",
    "dataset1 = load_dataset('json', data_files='/home/jovyan/common_en_70k.jsonl', split='train')\n",
    "dataset2 = load_dataset('json', data_files='/home/jovyan/common_zh_70k.jsonl', split='train')\n",
    "dataset3 = load_dataset('json', data_files='/home/jovyan/computer_cn_26k_continue.jsonl', split='train')\n",
    "dataset4 = load_dataset('json', data_files='/home/jovyan/computer_en_26k_continue.jsonl', split='train')\n",
    "dataset6 = load_dataset('json', data_files='/home/jovyan/computer_en_26k(fixed).jsonl', split='train')\n",
    "dataset5 = load_dataset('json', data_files='/home/jovyan/computer_zh_26k(fixed).jsonl', split='train')\n",
    "dataset7 = load_dataset('json', data_files='/home/jovyan/unknow_zh_38k.jsonl', split='train')\n",
    "dataset8 = load_dataset('json', data_files='/home/jovyan/unknow_zh_38k_continue.jsonl', split='train')\n",
    "# 定义转换函数，将每个 conversation 转换为指定格式\n",
    "combined_dataset = concatenate_datasets([dataset1, dataset2, dataset3,dataset4, dataset5,dataset6,dataset7, dataset8])\n",
    "\n",
    "# 定义转换函数，将每个 conversation 转换为指定格式\n",
    "def convert_conversation_format(conversation):\n",
    "    new_format = {'conversations': []}\n",
    "\n",
    "    # 遍历每个对话，将 human 和 assistant 成对地插入\n",
    "    for convo in conversation:\n",
    "        new_format['conversations'].append({'content': convo['human'], 'role': 'user'})\n",
    "        new_format['conversations'].append({'content': convo['assistant'], 'role': 'assistant'})\n",
    "\n",
    "    return new_format\n",
    "# 遍历 dataset 并进行转换\n",
    "converted_data = [convert_conversation_format(item['conversation']) for item in combined_dataset]\n",
    "\n",
    "# 打印转换后的第一个结果\n",
    "\n",
    "# Convert the list of converted data into a DataFrame\n",
    "df = pd.DataFrame(converted_data)\n",
    "\n",
    "# Create a Dataset from the DataFrame\n",
    "converted_data_dataset = Dataset.from_pandas(df)\n",
    "\n",
    "# Verify the dataset\n",
    "print(converted_data_dataset[0])\n",
    "\n",
    "#print(dataset[0]['conversation'])"
   ],
   "metadata": {
    "colab": {
     "base_uri": "https://localhost:8080/"
    },
    "id": "XUW0IK-L0reg",
    "executionInfo": {
     "status": "ok",
     "timestamp": 1725962112370,
     "user_tz": -480,
     "elapsed": 813,
     "user": {
      "displayName": "桑桑",
      "userId": "15939856000553134307"
     }
    },
    "outputId": "ee7115ee-d645-4102-acb6-599b71d5fd85",
    "ExecuteTime": {
     "end_time": "2024-09-19T02:41:02.831549Z",
     "start_time": "2024-09-19T02:40:33.369852Z"
    }
   },
   "execution_count": 3,
   "outputs": [
    {
     "name": "stdout",
     "output_type": "stream",
     "text": [
      "{'conversations': [{'content': 'How much should I charge for web design by hour with profit if I need to make $8000 a month', 'role': 'user'}, {'content': \"The hourly rate for web design can vary depending on your location, experience, and the type of projects you take on. However, if you need to make $8,000 a month, you would need to charge at least $160 per hour to reach that goal (assuming you work a standard 40-hour workweek). This rate would need to be adjusted based on your costs, expenses, and desired profit margin. It's important to keep in mind that this calculation is based on a standard 40 hour workweek, if you have another working schedule it may not apply.\", 'role': 'assistant'}, {'content': 'What about if I spend 20hrs a week per project?', 'role': 'user'}, {'content': \"If you spend 20 hours per week on a project, and you want to make $8,000 per month, you would need to charge a higher hourly rate to compensate for the fewer number of hours you're working.\\nTo calculate this, you would need to divide your desired monthly income ($8,000) by the number of hours you're working per week (20). That would come out to $400 per hour.\\nThis rate should be adjusted based on your costs, expenses, and desired profit margin. Keep in mind that this calculation is based on a single project, if you're working on multiple projects at the same time you may need to adjust the hourly rate or the number of hours you're working per week.\\nIt's also important to consider the complexity of the project and the industry standards for pricing.\", 'role': 'assistant'}, {'content': 'If Im charging $400/hour, what type of web and app development projects I can take on where the client can afford it?', 'role': 'user'}, {'content': \"$400 per hour is a high hourly rate, and would typically be reserved for highly complex, custom web and app development projects for high-end clients. The types of projects you could take on at this rate would likely include:\\n* Custom enterprise-level web applications with advanced features and integrations\\n* High-end e-commerce websites with complex functionality\\n* Custom mobile apps with advanced features and integrations\\n* Large-scale web and app development projects with tight deadlines\\n* Exclusive web and app development projects for high-profile clients\\n* Niche web and app development projects that require a high level of expertise\\nKeep in mind that these are just examples and your client's budget and their requirements will ultimately decide if they can afford such hourly rate, it's important to have a clear understanding of their requirements and budget before taking on a project.\\nIt's also worth noting that this hourly rate is not the standard for web development, it's considered high and most client will not be willing to pay such amount. It's important to consider the industry standards for pricing and to be prepared to negotiate with clients and adjust your rates as needed.\", 'role': 'assistant'}, {'content': 'At $160/hr, what type of clients and projects could afford those rates?', 'role': 'user'}, {'content': \"At $160 per hour, you will likely be able to attract a wide range of clients and projects. This rate is considered more standard for web development, and would be appropriate for a wide variety of web and app development projects, including:\\n* Small to medium-sized businesses looking to build a website or web application\\n* Startups looking to build a minimum viable product (MVP)\\n* Non-profit organizations looking to build a website or web application\\n* Freelance professionals looking to build a website or web application\\n* Entrepreneurs looking to build a website or web application for their personal business\\n* Individuals looking for a personal website or blog\\n* E-commerce websites with standard features\\n* Website redesign or revamp\\n* Landing pages and brochure websites\\nIt's important to note that, while $160/hr is considered a standard rate, the complexity of the project and the industry standards for pricing in your area may affect the type of clients and projects you can attract at this rate. Also, it's important to have a clear understanding of your client's budget and their requirements before taking on a project, and be prepared to adjust your rates as needed.\", 'role': 'assistant'}]}\n"
     ]
    }
   ]
  },
  {
   "cell_type": "markdown",
   "source": [
    "# 对数据进行整合处理 并做标准化"
   ],
   "metadata": {
    "collapsed": false
   }
  },
  {
   "cell_type": "code",
   "outputs": [],
   "source": [
    "### 加载数据集\n",
    "from datasets import load_dataset,concatenate_datasets\n",
    "# 加载本地数据集\n",
    "dataset = load_dataset('json', data_files='/home/jovyan/train.jsonl', split='train')\n",
    "## 数据集整合\n",
    "from unsloth import to_sharegpt\n",
    "dataset = to_sharegpt(\n",
    "    dataset,\n",
    "    merged_prompt = \"{instruction}[[\\nYour input is:\\n{input}]]\",\n",
    "    output_column_name = \"output\",\n",
    "    conversation_extension = 3, # Select more to handle longer conversations\n",
    ")\n",
    "from unsloth import standardize_sharegpt\n",
    "dataset = standardize_sharegpt(dataset)\n",
    "dataset = concatenate_datasets([dataset,converted_data_dataset])"
   ],
   "metadata": {
    "collapsed": false,
    "ExecuteTime": {
     "end_time": "2024-09-19T02:41:36.054988Z",
     "start_time": "2024-09-19T02:41:35.769190Z"
    }
   },
   "execution_count": 4
  },
  {
   "cell_type": "markdown",
   "source": [
    "# 创建对话模板,整合到dataset中"
   ],
   "metadata": {
    "collapsed": false
   }
  },
  {
   "cell_type": "code",
   "source": [
    "chat_template = \"\"\"<|begin_of_text|><|start_header_id|>system<|end_header_id|>\n",
    "\n",
    "{SYSTEM}<|eot_id|><|start_header_id|>user<|end_header_id|>\n",
    "\n",
    "{INPUT}<|eot_id|><|start_header_id|>assistant<|end_header_id|>\n",
    "\n",
    "{OUTPUT}<|eot_id|>\"\"\"\n",
    "from unsloth import apply_chat_template\n",
    "dataset = apply_chat_template(\n",
    "    dataset,\n",
    "    tokenizer = tokenizer,\n",
    "    chat_template = chat_template,\n",
    "    default_system_message = \"你是中企动力的客服\",\n",
    ")\n",
    "print(dataset[0])"
   ],
   "metadata": {
    "colab": {
     "base_uri": "https://localhost:8080/",
     "height": 67,
     "referenced_widgets": [
      "193ef86c9fdb4a06a260ef75668516e4",
      "ff0131c8b10a4143bd121e81cd4d1e91",
      "065406b3251945a3928622a4c3e81e99",
      "a0ef6e076f1d4973a79d3475af086ed4",
      "92b33b2e03e84c439ca76e91c11d2368",
      "178d99555b9b488a9f2338baa78b0637",
      "1910cba8a332433b8f42d0709cebd39f",
      "a41457b0d1f44505b0f9f1b183182d4f",
      "3f1612b95c5f4a1c8c7b06596e76b5a9",
      "2399e89a0c11471389fd31144324be93",
      "ce328bbb83b7463c89ce48d5442b16c2"
     ]
    },
    "id": "DKoU1Vbb3zYh",
    "executionInfo": {
     "status": "ok",
     "timestamp": 1725962120534,
     "user_tz": -480,
     "elapsed": 78,
     "user": {
      "displayName": "桑桑",
      "userId": "15939856000553134307"
     }
    },
    "outputId": "4b522603-a97a-4f38-d2fd-9a7c60184756",
    "ExecuteTime": {
     "end_time": "2024-09-19T02:41:58.503748Z",
     "start_time": "2024-09-19T02:41:41.453196Z"
    }
   },
   "execution_count": 5,
   "outputs": [
    {
     "data": {
      "text/plain": "Map:   0%|          | 0/237866 [00:00<?, ? examples/s]",
      "application/vnd.jupyter.widget-view+json": {
       "version_major": 2,
       "version_minor": 0,
       "model_id": "a65ec81c85844228a5c21a02ae77d6aa"
      }
     },
     "metadata": {},
     "output_type": "display_data"
    },
    {
     "name": "stdout",
     "output_type": "stream",
     "text": [
      "{'conversations': [{'content': '中企动力和中企\\n中企和中企动力是一家公司吗？', 'role': 'user'}, {'content': '‘中企动力”简称‘中企”，是一家成立于1999年的老牌互联网公司', 'role': 'assistant'}, {'content': '中企可以为客户制作以下门户网站\\n中企能做什么类型的门户网站？', 'role': 'user'}, {'content': '内贸营销，全球营销，通用版本', 'role': 'assistant'}, {'content': '中企动力移动商城的定义\\n移动商城能做什么？', 'role': 'user'}, {'content': '助力企业打造官方独立商城\\n1、轻松实现私域锁客、老客复购、熟客裂变的全方位私域运营新生态;\\n2、覆盖小程序+H5两端，助力企业开展私域营销，打造忠诚客户池，创造持续销量;', 'role': 'assistant'}], 'text': '<|begin_of_text|><|start_header_id|>system<|end_header_id|>\\n\\n你是中企动力的客服<|eot_id|><|start_header_id|>user<|end_header_id|>\\n\\n中企动力和中企\\n中企和中企动力是一家公司吗？<|eot_id|><|start_header_id|>assistant<|end_header_id|>\\n\\n‘中企动力”简称‘中企”，是一家成立于1999年的老牌互联网公司<|eot_id|><|start_header_id|>user<|end_header_id|>\\n\\n中企可以为客户制作以下门户网站\\n中企能做什么类型的门户网站？<|eot_id|><|start_header_id|>assistant<|end_header_id|>\\n\\n内贸营销，全球营销，通用版本<|eot_id|><|start_header_id|>user<|end_header_id|>\\n\\n中企动力移动商城的定义\\n移动商城能做什么？<|eot_id|><|start_header_id|>assistant<|end_header_id|>\\n\\n助力企业打造官方独立商城\\n1、轻松实现私域锁客、老客复购、熟客裂变的全方位私域运营新生态;\\n2、覆盖小程序+H5两端，助力企业开展私域营销，打造忠诚客户池，创造持续销量;<|eot_id|>'}\n"
     ]
    }
   ]
  },
  {
   "cell_type": "markdown",
   "source": [
    "# 设置训练参数"
   ],
   "metadata": {
    "collapsed": false
   }
  },
  {
   "cell_type": "code",
   "source": [
    "from trl import SFTTrainer\n",
    "from transformers import TrainingArguments\n",
    "from unsloth import is_bfloat16_supported\n",
    "trainer = SFTTrainer(\n",
    "    model = model,\n",
    "    tokenizer = tokenizer,\n",
    "    train_dataset = dataset,\n",
    "    dataset_text_field = \"text\",\n",
    "    max_seq_length = max_seq_length,\n",
    "    dataset_num_proc = 2,\n",
    "    packing = False, # Can make training 5x faster for short sequences.\n",
    "    args = TrainingArguments(\n",
    "        per_device_train_batch_size = 2,\n",
    "        gradient_accumulation_steps = 4,\n",
    "        warmup_steps = 5,\n",
    "        max_steps = 60,\n",
    "        # num_train_epochs = 1, # For longer training runs!\n",
    "        learning_rate = 2e-4,\n",
    "        fp16 = not is_bfloat16_supported(),\n",
    "        bf16 = is_bfloat16_supported(),\n",
    "        logging_steps = 1,\n",
    "        optim = \"adamw_8bit\",\n",
    "        weight_decay = 0.01,\n",
    "        lr_scheduler_type = \"linear\",\n",
    "        seed = 3407,\n",
    "        output_dir = \"outputs\",\n",
    "    ),\n",
    ")\n",
    "\n",
    "\n",
    "\n",
    "# 查看资源使用\n",
    "gpu_stats = torch.cuda.get_device_properties(0)\n",
    "start_gpu_memory = round(torch.cuda.max_memory_reserved() / 1024 / 1024 / 1024, 3)\n",
    "max_memory = round(gpu_stats.total_memory / 1024 / 1024 / 1024, 3)\n",
    "print(f\"GPU = {gpu_stats.name}. Max memory = {max_memory} GB.\")\n",
    "print(f\"{start_gpu_memory} GB of memory reserved.\")"
   ],
   "metadata": {
    "colab": {
     "base_uri": "https://localhost:8080/",
     "height": 67,
     "referenced_widgets": [
      "fc14ac9e1614438597049719138d9e07",
      "ed950231ba774f9e8b3ada9a4421ff81",
      "879ff1e12b684dae9858f3a01cc39ed4",
      "d80b84e42c52456ba7914ff739719e04",
      "7a04be94134e4661824ca4e92e61ecbe",
      "092a3ba52bbc426894c8bedfeeaabded",
      "935dd93b08ff40da827c32990e87be7f",
      "3ab2034cc6a74ff5a4bcf5fd4c57b2fa",
      "9b906ca7d00842d886b2a7ac0b413cdd",
      "3efcc644267b4b62ae4f5d032e25f7c7",
      "0f3b7ba5fc8a4acd9d7a7c1571b2931b"
     ]
    },
    "id": "Vff_ahwX37oD",
    "executionInfo": {
     "status": "ok",
     "timestamp": 1725962126901,
     "user_tz": -480,
     "elapsed": 514,
     "user": {
      "displayName": "桑桑",
      "userId": "15939856000553134307"
     }
    },
    "outputId": "1c2615c1-0269-48cf-aa85-67e76c54c0cf",
    "is_executing": true
   },
   "execution_count": null,
   "outputs": []
  },
  {
   "cell_type": "markdown",
   "source": [
    "# 训练开始"
   ],
   "metadata": {
    "collapsed": false
   }
  },
  {
   "cell_type": "code",
   "source": [
    "trainer_stats = trainer.train()"
   ],
   "metadata": {
    "colab": {
     "base_uri": "https://localhost:8080/",
     "height": 1000
    },
    "id": "shorM3sB4HGq",
    "executionInfo": {
     "status": "ok",
     "timestamp": 1725962310730,
     "user_tz": -480,
     "elapsed": 176913,
     "user": {
      "displayName": "桑桑",
      "userId": "15939856000553134307"
     }
    },
    "outputId": "d22d17f9-bc64-4fd5-bf8e-1328cb4bfc76",
    "ExecuteTime": {
     "end_time": "2024-09-12T08:57:19.208857Z",
     "start_time": "2024-09-12T08:54:12.735151Z"
    }
   },
   "execution_count": 7,
   "outputs": [
    {
     "name": "stderr",
     "output_type": "stream",
     "text": [
      "==((====))==  Unsloth - 2x faster free finetuning | Num GPUs = 1\n",
      "   \\\\   /|    Num examples = 31 | Num Epochs = 15\n",
      "O^O/ \\_/ \\    Batch size per device = 2 | Gradient Accumulation steps = 4\n",
      "\\        /    Total batch size = 8 | Total steps = 60\n",
      " \"-____-\"     Number of trainable parameters = 13,631,488\n"
     ]
    },
    {
     "data": {
      "text/plain": "<IPython.core.display.HTML object>",
      "text/html": "\n    <div>\n      \n      <progress value='2' max='60' style='width:300px; height:20px; vertical-align: middle;'></progress>\n      [ 2/60 : < :, Epoch 0.25/15]\n    </div>\n    <table border=\"1\" class=\"dataframe\">\n  <thead>\n <tr style=\"text-align: left;\">\n      <th>Step</th>\n      <th>Training Loss</th>\n    </tr>\n  </thead>\n  <tbody>\n  </tbody>\n</table><p>"
     },
     "metadata": {},
     "output_type": "display_data"
    }
   ]
  },
  {
   "cell_type": "code",
   "source": [
    "## 查看资源使用和时间\n",
    "\n",
    "used_memory = round(torch.cuda.max_memory_reserved() / 1024 / 1024 / 1024, 3)\n",
    "used_memory_for_lora = round(used_memory - start_gpu_memory, 3)\n",
    "used_percentage = round(used_memory         /max_memory*100, 3)\n",
    "lora_percentage = round(used_memory_for_lora/max_memory*100, 3)\n",
    "print(f\"{trainer_stats.metrics['train_runtime']} seconds used for training.\")\n",
    "print(f\"{round(trainer_stats.metrics['train_runtime']/60, 2)} minutes used for training.\")\n",
    "print(f\"Peak reserved memory = {used_memory} GB.\")\n",
    "print(f\"Peak reserved memory for training = {used_memory_for_lora} GB.\")\n",
    "print(f\"Peak reserved memory % of max memory = {used_percentage} %.\")\n",
    "print(f\"Peak reserved memory for training % of max memory = {lora_percentage} %.\")"
   ],
   "metadata": {
    "colab": {
     "base_uri": "https://localhost:8080/"
    },
    "id": "olL0ZWrq4X4A",
    "executionInfo": {
     "status": "ok",
     "timestamp": 1725962356694,
     "user_tz": -480,
     "elapsed": 3,
     "user": {
      "displayName": "桑桑",
      "userId": "15939856000553134307"
     }
    },
    "outputId": "cba7ccc1-efc7-46cb-88eb-ce7ff9bcdd41",
    "ExecuteTime": {
     "end_time": "2024-09-12T09:08:58.624938Z",
     "start_time": "2024-09-12T09:08:58.503822Z"
    }
   },
   "execution_count": 8,
   "outputs": [
    {
     "name": "stdout",
     "output_type": "stream",
     "text": [
      "185.4037 seconds used for training.\n",
      "3.09 minutes used for training.\n",
      "Peak reserved memory = 7.68 GB.\n",
      "Peak reserved memory for training = 1.801 GB.\n",
      "Peak reserved memory % of max memory = 64.032 %.\n",
      "Peak reserved memory for training % of max memory = 15.016 %.\n"
     ]
    }
   ]
  },
  {
   "cell_type": "markdown",
   "source": [
    "# 模型测试"
   ],
   "metadata": {
    "collapsed": false
   }
  },
  {
   "cell_type": "code",
   "source": [
    "FastLanguageModel.for_inference(model) # Enable native 2x faster inference\n",
    "messages = [                         # Change below!\n",
    "    {\"role\": \"user\",      \"content\": \"你好呀?\"}]\n",
    "input_ids = tokenizer.apply_chat_template(\n",
    "    messages,\n",
    "    add_generation_prompt = True,\n",
    "    return_tensors = \"pt\",\n",
    ").to(\"cuda\")\n",
    "\n",
    "from transformers import TextStreamer\n",
    "text_streamer = TextStreamer(tokenizer, skip_prompt = True)\n",
    "_ = model.generate(input_ids, streamer = text_streamer, max_new_tokens = 128, pad_token_id = tokenizer.eos_token_id)"
   ],
   "metadata": {
    "colab": {
     "base_uri": "https://localhost:8080/"
    },
    "id": "vHXHxLci4Zvg",
    "executionInfo": {
     "status": "ok",
     "timestamp": 1725962365397,
     "user_tz": -480,
     "elapsed": 3398,
     "user": {
      "displayName": "桑桑",
      "userId": "15939856000553134307"
     }
    },
    "outputId": "b4eca453-8bf1-4863-bdea-e0b8edab91ce",
    "ExecuteTime": {
     "end_time": "2024-09-12T09:09:03.274695Z",
     "start_time": "2024-09-12T09:09:02.080653Z"
    }
   },
   "execution_count": 9,
   "outputs": [
    {
     "name": "stderr",
     "output_type": "stream",
     "text": [
      "The attention mask is not set and cannot be inferred from input because pad token is same as eos token. As a consequence, you may observe unexpected behavior. Please pass your input's `attention_mask` to obtain reliable results.\n"
     ]
    },
    {
     "name": "stdout",
     "output_type": "stream",
     "text": [
      "我是中企动力的智能客服，有什么可以帮到你的吗？<|eot_id|>\n"
     ]
    }
   ]
  },
  {
   "cell_type": "markdown",
   "source": [
    "#  保存模型,保存成 gguf格式"
   ],
   "metadata": {
    "collapsed": false
   }
  },
  {
   "cell_type": "code",
   "source": [
    "model.save_pretrained(\"lora_model\") # Local saving\n",
    "tokenizer.save_pretrained(\"lora_model\")\n",
    "\n",
    "# model.push_to_hub(\"your_name/lora_model\", token = \"...\") # Online saving\n",
    "# tokenizer.push_to_hub(\"your_name/lora_model\", token = \"...\") # Online saving\n",
    "#model.save_pretrained_gguf(\"model\", tokenizer, quantization_method = [\"q4_k_m\", \"q8_0\", \"q5_k_m\",],)\n",
    "\n",
    "# Save to 8bit Q8_0\n",
    "if True: model.save_pretrained_gguf(\"model\", tokenizer,)\n",
    "# Remember to go to https://huggingface.co/settings/tokens for a token!\n",
    "# And change hf to your username!\n",
    "# if False: model.push_to_hub_gguf(\"hf/model\", tokenizer, token = \"\")\n",
    "# \n",
    "# # Save to 16bit GGUF\n",
    "# if False: model.save_pretrained_gguf(\"model\", tokenizer, quantization_method = \"f16\")\n",
    "# if False: model.push_to_hub_gguf(\"hf/model\", tokenizer, quantization_method = \"f16\", token = \"\")\n",
    "# \n",
    "# # Save to q4_k_m GGUF\n",
    "# if False: model.save_pretrained_gguf(\"model\", tokenizer, quantization_method = \"q4_k_m\")\n",
    "# if False: model.push_to_hub_gguf(\"hf/model\", tokenizer, quantization_method = \"q4_k_m\", token = \"\")\n",
    "\n",
    "# Save to multiple GGUF options - much faster if you want multiple!\n",
    "#if False:\n",
    "#    model.push_to_hub_gguf(\n",
    "#        \"hf/model\", # Change hf to your username!\n",
    "#        tokenizer,\n",
    "#        quantization_method = [\"q4_k_m\", \"q8_0\", \"q5_k_m\",],\n",
    "#        token = \"\", # Get a token at https://huggingface.co/settings/tokens\n",
    "#    )"
   ],
   "metadata": {
    "colab": {
     "base_uri": "https://localhost:8080/"
    },
    "id": "c4vE-jBN41oQ",
    "executionInfo": {
     "status": "ok",
     "timestamp": 1725962376866,
     "user_tz": -480,
     "elapsed": 1521,
     "user": {
      "displayName": "桑桑",
      "userId": "15939856000553134307"
     }
    },
    "outputId": "b6530b91-1eaa-4d2f-82a2-d6297bf4fbac",
    "ExecuteTime": {
     "end_time": "2024-09-12T09:17:15.969748Z",
     "start_time": "2024-09-12T09:09:08.722461Z"
    }
   },
   "execution_count": 10,
   "outputs": [
    {
     "name": "stderr",
     "output_type": "stream",
     "text": [
      "Unsloth: ##### The current model auto adds a BOS token.\n",
      "Unsloth: ##### Your chat template has a BOS token. We shall remove it temporarily.\n"
     ]
    },
    {
     "name": "stdout",
     "output_type": "stream",
     "text": [
      "Unsloth: Merging 4bit and LoRA weights to 16bit...\n",
      "Unsloth: Will use up to 5.58 out of 15.53 RAM for saving.\n"
     ]
    },
    {
     "name": "stderr",
     "output_type": "stream",
     "text": [
      " 28%|███████████████████████▋                                                            | 9/32 [00:00<00:01, 18.89it/s]We will save to Disk and not RAM now.\n",
      "100%|███████████████████████████████████████████████████████████████████████████████████| 32/32 [00:37<00:00,  1.16s/it]\n"
     ]
    },
    {
     "name": "stdout",
     "output_type": "stream",
     "text": [
      "Unsloth: Saving tokenizer... Done.\n",
      "Unsloth: Saving model... This might take 5 minutes for Llama-7b...\n",
      "Done.\n"
     ]
    },
    {
     "name": "stderr",
     "output_type": "stream",
     "text": [
      "Unsloth: Converting llama model. Can use fast conversion = False.\n"
     ]
    },
    {
     "name": "stdout",
     "output_type": "stream",
     "text": [
      "==((====))==  Unsloth: Conversion from QLoRA to GGUF information\n",
      "   \\\\   /|    [0] Installing llama.cpp will take 3 minutes.\n",
      "O^O/ \\_/ \\    [1] Converting HF to GGUF 16bits will take 3 minutes.\n",
      "\\        /    [2] Converting GGUF 16bits to ['q8_0'] will take 10 minutes each.\n",
      " \"-____-\"     In total, you will have to wait at least 16 minutes.\n",
      "\n",
      "Unsloth: [0] Installing llama.cpp. This will take 3 minutes...\n",
      "Unsloth: [1] Converting model at model into q8_0 GGUF format.\n",
      "The output location will be ./model/unsloth.Q8_0.gguf\n",
      "This will take 3 minutes...\n",
      "INFO:hf-to-gguf:Loading model: model\n",
      "INFO:gguf.gguf_writer:gguf: This GGUF file is for Little Endian only\n",
      "INFO:hf-to-gguf:Exporting model...\n",
      "INFO:hf-to-gguf:gguf: loading model weight map from 'model.safetensors.index.json'\n",
      "INFO:hf-to-gguf:gguf: loading model part 'model-00001-of-00004.safetensors'\n",
      "INFO:hf-to-gguf:token_embd.weight,           torch.bfloat16 --> Q8_0, shape = {4096, 128256}\n",
      "INFO:hf-to-gguf:blk.0.attn_norm.weight,      torch.bfloat16 --> F32, shape = {4096}\n",
      "INFO:hf-to-gguf:blk.0.ffn_down.weight,       torch.bfloat16 --> Q8_0, shape = {14336, 4096}\n",
      "INFO:hf-to-gguf:blk.0.ffn_gate.weight,       torch.bfloat16 --> Q8_0, shape = {4096, 14336}\n",
      "INFO:hf-to-gguf:blk.0.ffn_up.weight,         torch.bfloat16 --> Q8_0, shape = {4096, 14336}\n",
      "INFO:hf-to-gguf:blk.0.ffn_norm.weight,       torch.bfloat16 --> F32, shape = {4096}\n",
      "INFO:hf-to-gguf:blk.0.attn_k.weight,         torch.bfloat16 --> Q8_0, shape = {4096, 1024}\n",
      "INFO:hf-to-gguf:blk.0.attn_output.weight,    torch.bfloat16 --> Q8_0, shape = {4096, 4096}\n",
      "INFO:hf-to-gguf:blk.0.attn_q.weight,         torch.bfloat16 --> Q8_0, shape = {4096, 4096}\n",
      "INFO:hf-to-gguf:blk.0.attn_v.weight,         torch.bfloat16 --> Q8_0, shape = {4096, 1024}\n",
      "INFO:hf-to-gguf:blk.1.attn_norm.weight,      torch.bfloat16 --> F32, shape = {4096}\n",
      "INFO:hf-to-gguf:blk.1.ffn_down.weight,       torch.bfloat16 --> Q8_0, shape = {14336, 4096}\n",
      "INFO:hf-to-gguf:blk.1.ffn_gate.weight,       torch.bfloat16 --> Q8_0, shape = {4096, 14336}\n",
      "INFO:hf-to-gguf:blk.1.ffn_up.weight,         torch.bfloat16 --> Q8_0, shape = {4096, 14336}\n",
      "INFO:hf-to-gguf:blk.1.ffn_norm.weight,       torch.bfloat16 --> F32, shape = {4096}\n",
      "INFO:hf-to-gguf:blk.1.attn_k.weight,         torch.bfloat16 --> Q8_0, shape = {4096, 1024}\n",
      "INFO:hf-to-gguf:blk.1.attn_output.weight,    torch.bfloat16 --> Q8_0, shape = {4096, 4096}\n",
      "INFO:hf-to-gguf:blk.1.attn_q.weight,         torch.bfloat16 --> Q8_0, shape = {4096, 4096}\n",
      "INFO:hf-to-gguf:blk.1.attn_v.weight,         torch.bfloat16 --> Q8_0, shape = {4096, 1024}\n",
      "INFO:hf-to-gguf:blk.2.attn_norm.weight,      torch.bfloat16 --> F32, shape = {4096}\n",
      "INFO:hf-to-gguf:blk.2.ffn_down.weight,       torch.bfloat16 --> Q8_0, shape = {14336, 4096}\n",
      "INFO:hf-to-gguf:blk.2.ffn_gate.weight,       torch.bfloat16 --> Q8_0, shape = {4096, 14336}\n",
      "INFO:hf-to-gguf:blk.2.ffn_up.weight,         torch.bfloat16 --> Q8_0, shape = {4096, 14336}\n",
      "INFO:hf-to-gguf:blk.2.ffn_norm.weight,       torch.bfloat16 --> F32, shape = {4096}\n",
      "INFO:hf-to-gguf:blk.2.attn_k.weight,         torch.bfloat16 --> Q8_0, shape = {4096, 1024}\n",
      "INFO:hf-to-gguf:blk.2.attn_output.weight,    torch.bfloat16 --> Q8_0, shape = {4096, 4096}\n",
      "INFO:hf-to-gguf:blk.2.attn_q.weight,         torch.bfloat16 --> Q8_0, shape = {4096, 4096}\n",
      "INFO:hf-to-gguf:blk.2.attn_v.weight,         torch.bfloat16 --> Q8_0, shape = {4096, 1024}\n",
      "INFO:hf-to-gguf:blk.3.attn_norm.weight,      torch.bfloat16 --> F32, shape = {4096}\n",
      "INFO:hf-to-gguf:blk.3.ffn_down.weight,       torch.bfloat16 --> Q8_0, shape = {14336, 4096}\n",
      "INFO:hf-to-gguf:blk.3.ffn_gate.weight,       torch.bfloat16 --> Q8_0, shape = {4096, 14336}\n",
      "INFO:hf-to-gguf:blk.3.ffn_up.weight,         torch.bfloat16 --> Q8_0, shape = {4096, 14336}\n",
      "INFO:hf-to-gguf:blk.3.ffn_norm.weight,       torch.bfloat16 --> F32, shape = {4096}\n",
      "INFO:hf-to-gguf:blk.3.attn_k.weight,         torch.bfloat16 --> Q8_0, shape = {4096, 1024}\n",
      "INFO:hf-to-gguf:blk.3.attn_output.weight,    torch.bfloat16 --> Q8_0, shape = {4096, 4096}\n",
      "INFO:hf-to-gguf:blk.3.attn_q.weight,         torch.bfloat16 --> Q8_0, shape = {4096, 4096}\n",
      "INFO:hf-to-gguf:blk.3.attn_v.weight,         torch.bfloat16 --> Q8_0, shape = {4096, 1024}\n",
      "INFO:hf-to-gguf:blk.4.attn_norm.weight,      torch.bfloat16 --> F32, shape = {4096}\n",
      "INFO:hf-to-gguf:blk.4.ffn_down.weight,       torch.bfloat16 --> Q8_0, shape = {14336, 4096}\n",
      "INFO:hf-to-gguf:blk.4.ffn_gate.weight,       torch.bfloat16 --> Q8_0, shape = {4096, 14336}\n",
      "INFO:hf-to-gguf:blk.4.ffn_up.weight,         torch.bfloat16 --> Q8_0, shape = {4096, 14336}\n",
      "INFO:hf-to-gguf:blk.4.ffn_norm.weight,       torch.bfloat16 --> F32, shape = {4096}\n",
      "INFO:hf-to-gguf:blk.4.attn_k.weight,         torch.bfloat16 --> Q8_0, shape = {4096, 1024}\n",
      "INFO:hf-to-gguf:blk.4.attn_output.weight,    torch.bfloat16 --> Q8_0, shape = {4096, 4096}\n",
      "INFO:hf-to-gguf:blk.4.attn_q.weight,         torch.bfloat16 --> Q8_0, shape = {4096, 4096}\n",
      "INFO:hf-to-gguf:blk.4.attn_v.weight,         torch.bfloat16 --> Q8_0, shape = {4096, 1024}\n",
      "INFO:hf-to-gguf:blk.5.attn_norm.weight,      torch.bfloat16 --> F32, shape = {4096}\n",
      "INFO:hf-to-gguf:blk.5.ffn_down.weight,       torch.bfloat16 --> Q8_0, shape = {14336, 4096}\n",
      "INFO:hf-to-gguf:blk.5.ffn_gate.weight,       torch.bfloat16 --> Q8_0, shape = {4096, 14336}\n",
      "INFO:hf-to-gguf:blk.5.ffn_up.weight,         torch.bfloat16 --> Q8_0, shape = {4096, 14336}\n",
      "INFO:hf-to-gguf:blk.5.ffn_norm.weight,       torch.bfloat16 --> F32, shape = {4096}\n",
      "INFO:hf-to-gguf:blk.5.attn_k.weight,         torch.bfloat16 --> Q8_0, shape = {4096, 1024}\n",
      "INFO:hf-to-gguf:blk.5.attn_output.weight,    torch.bfloat16 --> Q8_0, shape = {4096, 4096}\n",
      "INFO:hf-to-gguf:blk.5.attn_q.weight,         torch.bfloat16 --> Q8_0, shape = {4096, 4096}\n",
      "INFO:hf-to-gguf:blk.5.attn_v.weight,         torch.bfloat16 --> Q8_0, shape = {4096, 1024}\n",
      "INFO:hf-to-gguf:blk.6.attn_norm.weight,      torch.bfloat16 --> F32, shape = {4096}\n",
      "INFO:hf-to-gguf:blk.6.ffn_down.weight,       torch.bfloat16 --> Q8_0, shape = {14336, 4096}\n",
      "INFO:hf-to-gguf:blk.6.ffn_gate.weight,       torch.bfloat16 --> Q8_0, shape = {4096, 14336}\n",
      "INFO:hf-to-gguf:blk.6.ffn_up.weight,         torch.bfloat16 --> Q8_0, shape = {4096, 14336}\n",
      "INFO:hf-to-gguf:blk.6.ffn_norm.weight,       torch.bfloat16 --> F32, shape = {4096}\n",
      "INFO:hf-to-gguf:blk.6.attn_k.weight,         torch.bfloat16 --> Q8_0, shape = {4096, 1024}\n",
      "INFO:hf-to-gguf:blk.6.attn_output.weight,    torch.bfloat16 --> Q8_0, shape = {4096, 4096}\n",
      "INFO:hf-to-gguf:blk.6.attn_q.weight,         torch.bfloat16 --> Q8_0, shape = {4096, 4096}\n",
      "INFO:hf-to-gguf:blk.6.attn_v.weight,         torch.bfloat16 --> Q8_0, shape = {4096, 1024}\n",
      "INFO:hf-to-gguf:blk.7.attn_norm.weight,      torch.bfloat16 --> F32, shape = {4096}\n",
      "INFO:hf-to-gguf:blk.7.ffn_down.weight,       torch.bfloat16 --> Q8_0, shape = {14336, 4096}\n",
      "INFO:hf-to-gguf:blk.7.ffn_gate.weight,       torch.bfloat16 --> Q8_0, shape = {4096, 14336}\n",
      "INFO:hf-to-gguf:blk.7.ffn_up.weight,         torch.bfloat16 --> Q8_0, shape = {4096, 14336}\n",
      "INFO:hf-to-gguf:blk.7.ffn_norm.weight,       torch.bfloat16 --> F32, shape = {4096}\n",
      "INFO:hf-to-gguf:blk.7.attn_k.weight,         torch.bfloat16 --> Q8_0, shape = {4096, 1024}\n",
      "INFO:hf-to-gguf:blk.7.attn_output.weight,    torch.bfloat16 --> Q8_0, shape = {4096, 4096}\n",
      "INFO:hf-to-gguf:blk.7.attn_q.weight,         torch.bfloat16 --> Q8_0, shape = {4096, 4096}\n",
      "INFO:hf-to-gguf:blk.7.attn_v.weight,         torch.bfloat16 --> Q8_0, shape = {4096, 1024}\n",
      "INFO:hf-to-gguf:blk.8.attn_norm.weight,      torch.bfloat16 --> F32, shape = {4096}\n",
      "INFO:hf-to-gguf:blk.8.ffn_down.weight,       torch.bfloat16 --> Q8_0, shape = {14336, 4096}\n",
      "INFO:hf-to-gguf:blk.8.ffn_gate.weight,       torch.bfloat16 --> Q8_0, shape = {4096, 14336}\n",
      "INFO:hf-to-gguf:blk.8.ffn_up.weight,         torch.bfloat16 --> Q8_0, shape = {4096, 14336}\n",
      "INFO:hf-to-gguf:blk.8.ffn_norm.weight,       torch.bfloat16 --> F32, shape = {4096}\n",
      "INFO:hf-to-gguf:blk.8.attn_k.weight,         torch.bfloat16 --> Q8_0, shape = {4096, 1024}\n",
      "INFO:hf-to-gguf:blk.8.attn_output.weight,    torch.bfloat16 --> Q8_0, shape = {4096, 4096}\n",
      "INFO:hf-to-gguf:blk.8.attn_q.weight,         torch.bfloat16 --> Q8_0, shape = {4096, 4096}\n",
      "INFO:hf-to-gguf:blk.8.attn_v.weight,         torch.bfloat16 --> Q8_0, shape = {4096, 1024}\n",
      "INFO:hf-to-gguf:gguf: loading model part 'model-00002-of-00004.safetensors'\n",
      "INFO:hf-to-gguf:blk.10.attn_norm.weight,     torch.bfloat16 --> F32, shape = {4096}\n",
      "INFO:hf-to-gguf:blk.10.ffn_down.weight,      torch.bfloat16 --> Q8_0, shape = {14336, 4096}\n",
      "INFO:hf-to-gguf:blk.10.ffn_gate.weight,      torch.bfloat16 --> Q8_0, shape = {4096, 14336}\n",
      "INFO:hf-to-gguf:blk.10.ffn_up.weight,        torch.bfloat16 --> Q8_0, shape = {4096, 14336}\n",
      "INFO:hf-to-gguf:blk.10.ffn_norm.weight,      torch.bfloat16 --> F32, shape = {4096}\n",
      "INFO:hf-to-gguf:blk.10.attn_k.weight,        torch.bfloat16 --> Q8_0, shape = {4096, 1024}\n",
      "INFO:hf-to-gguf:blk.10.attn_output.weight,   torch.bfloat16 --> Q8_0, shape = {4096, 4096}\n",
      "INFO:hf-to-gguf:blk.10.attn_q.weight,        torch.bfloat16 --> Q8_0, shape = {4096, 4096}\n",
      "INFO:hf-to-gguf:blk.10.attn_v.weight,        torch.bfloat16 --> Q8_0, shape = {4096, 1024}\n",
      "INFO:hf-to-gguf:blk.11.attn_norm.weight,     torch.bfloat16 --> F32, shape = {4096}\n",
      "INFO:hf-to-gguf:blk.11.ffn_down.weight,      torch.bfloat16 --> Q8_0, shape = {14336, 4096}\n",
      "INFO:hf-to-gguf:blk.11.ffn_gate.weight,      torch.bfloat16 --> Q8_0, shape = {4096, 14336}\n",
      "INFO:hf-to-gguf:blk.11.ffn_up.weight,        torch.bfloat16 --> Q8_0, shape = {4096, 14336}\n",
      "INFO:hf-to-gguf:blk.11.ffn_norm.weight,      torch.bfloat16 --> F32, shape = {4096}\n",
      "INFO:hf-to-gguf:blk.11.attn_k.weight,        torch.bfloat16 --> Q8_0, shape = {4096, 1024}\n",
      "INFO:hf-to-gguf:blk.11.attn_output.weight,   torch.bfloat16 --> Q8_0, shape = {4096, 4096}\n",
      "INFO:hf-to-gguf:blk.11.attn_q.weight,        torch.bfloat16 --> Q8_0, shape = {4096, 4096}\n",
      "INFO:hf-to-gguf:blk.11.attn_v.weight,        torch.bfloat16 --> Q8_0, shape = {4096, 1024}\n",
      "INFO:hf-to-gguf:blk.12.attn_norm.weight,     torch.bfloat16 --> F32, shape = {4096}\n",
      "INFO:hf-to-gguf:blk.12.ffn_down.weight,      torch.bfloat16 --> Q8_0, shape = {14336, 4096}\n",
      "INFO:hf-to-gguf:blk.12.ffn_gate.weight,      torch.bfloat16 --> Q8_0, shape = {4096, 14336}\n",
      "INFO:hf-to-gguf:blk.12.ffn_up.weight,        torch.bfloat16 --> Q8_0, shape = {4096, 14336}\n",
      "INFO:hf-to-gguf:blk.12.ffn_norm.weight,      torch.bfloat16 --> F32, shape = {4096}\n",
      "INFO:hf-to-gguf:blk.12.attn_k.weight,        torch.bfloat16 --> Q8_0, shape = {4096, 1024}\n",
      "INFO:hf-to-gguf:blk.12.attn_output.weight,   torch.bfloat16 --> Q8_0, shape = {4096, 4096}\n",
      "INFO:hf-to-gguf:blk.12.attn_q.weight,        torch.bfloat16 --> Q8_0, shape = {4096, 4096}\n",
      "INFO:hf-to-gguf:blk.12.attn_v.weight,        torch.bfloat16 --> Q8_0, shape = {4096, 1024}\n",
      "INFO:hf-to-gguf:blk.13.attn_norm.weight,     torch.bfloat16 --> F32, shape = {4096}\n",
      "INFO:hf-to-gguf:blk.13.ffn_down.weight,      torch.bfloat16 --> Q8_0, shape = {14336, 4096}\n",
      "INFO:hf-to-gguf:blk.13.ffn_gate.weight,      torch.bfloat16 --> Q8_0, shape = {4096, 14336}\n",
      "INFO:hf-to-gguf:blk.13.ffn_up.weight,        torch.bfloat16 --> Q8_0, shape = {4096, 14336}\n",
      "INFO:hf-to-gguf:blk.13.ffn_norm.weight,      torch.bfloat16 --> F32, shape = {4096}\n",
      "INFO:hf-to-gguf:blk.13.attn_k.weight,        torch.bfloat16 --> Q8_0, shape = {4096, 1024}\n",
      "INFO:hf-to-gguf:blk.13.attn_output.weight,   torch.bfloat16 --> Q8_0, shape = {4096, 4096}\n",
      "INFO:hf-to-gguf:blk.13.attn_q.weight,        torch.bfloat16 --> Q8_0, shape = {4096, 4096}\n",
      "INFO:hf-to-gguf:blk.13.attn_v.weight,        torch.bfloat16 --> Q8_0, shape = {4096, 1024}\n",
      "INFO:hf-to-gguf:blk.14.attn_norm.weight,     torch.bfloat16 --> F32, shape = {4096}\n",
      "INFO:hf-to-gguf:blk.14.ffn_down.weight,      torch.bfloat16 --> Q8_0, shape = {14336, 4096}\n",
      "INFO:hf-to-gguf:blk.14.ffn_gate.weight,      torch.bfloat16 --> Q8_0, shape = {4096, 14336}\n",
      "INFO:hf-to-gguf:blk.14.ffn_up.weight,        torch.bfloat16 --> Q8_0, shape = {4096, 14336}\n",
      "INFO:hf-to-gguf:blk.14.ffn_norm.weight,      torch.bfloat16 --> F32, shape = {4096}\n",
      "INFO:hf-to-gguf:blk.14.attn_k.weight,        torch.bfloat16 --> Q8_0, shape = {4096, 1024}\n",
      "INFO:hf-to-gguf:blk.14.attn_output.weight,   torch.bfloat16 --> Q8_0, shape = {4096, 4096}\n",
      "INFO:hf-to-gguf:blk.14.attn_q.weight,        torch.bfloat16 --> Q8_0, shape = {4096, 4096}\n",
      "INFO:hf-to-gguf:blk.14.attn_v.weight,        torch.bfloat16 --> Q8_0, shape = {4096, 1024}\n",
      "INFO:hf-to-gguf:blk.15.attn_norm.weight,     torch.bfloat16 --> F32, shape = {4096}\n",
      "INFO:hf-to-gguf:blk.15.ffn_down.weight,      torch.bfloat16 --> Q8_0, shape = {14336, 4096}\n",
      "INFO:hf-to-gguf:blk.15.ffn_gate.weight,      torch.bfloat16 --> Q8_0, shape = {4096, 14336}\n",
      "INFO:hf-to-gguf:blk.15.ffn_up.weight,        torch.bfloat16 --> Q8_0, shape = {4096, 14336}\n",
      "INFO:hf-to-gguf:blk.15.ffn_norm.weight,      torch.bfloat16 --> F32, shape = {4096}\n",
      "INFO:hf-to-gguf:blk.15.attn_k.weight,        torch.bfloat16 --> Q8_0, shape = {4096, 1024}\n",
      "INFO:hf-to-gguf:blk.15.attn_output.weight,   torch.bfloat16 --> Q8_0, shape = {4096, 4096}\n",
      "INFO:hf-to-gguf:blk.15.attn_q.weight,        torch.bfloat16 --> Q8_0, shape = {4096, 4096}\n",
      "INFO:hf-to-gguf:blk.15.attn_v.weight,        torch.bfloat16 --> Q8_0, shape = {4096, 1024}\n",
      "INFO:hf-to-gguf:blk.16.attn_norm.weight,     torch.bfloat16 --> F32, shape = {4096}\n",
      "INFO:hf-to-gguf:blk.16.ffn_down.weight,      torch.bfloat16 --> Q8_0, shape = {14336, 4096}\n",
      "INFO:hf-to-gguf:blk.16.ffn_gate.weight,      torch.bfloat16 --> Q8_0, shape = {4096, 14336}\n",
      "INFO:hf-to-gguf:blk.16.ffn_up.weight,        torch.bfloat16 --> Q8_0, shape = {4096, 14336}\n",
      "INFO:hf-to-gguf:blk.16.ffn_norm.weight,      torch.bfloat16 --> F32, shape = {4096}\n",
      "INFO:hf-to-gguf:blk.16.attn_k.weight,        torch.bfloat16 --> Q8_0, shape = {4096, 1024}\n",
      "INFO:hf-to-gguf:blk.16.attn_output.weight,   torch.bfloat16 --> Q8_0, shape = {4096, 4096}\n",
      "INFO:hf-to-gguf:blk.16.attn_q.weight,        torch.bfloat16 --> Q8_0, shape = {4096, 4096}\n",
      "INFO:hf-to-gguf:blk.16.attn_v.weight,        torch.bfloat16 --> Q8_0, shape = {4096, 1024}\n",
      "INFO:hf-to-gguf:blk.17.attn_norm.weight,     torch.bfloat16 --> F32, shape = {4096}\n",
      "INFO:hf-to-gguf:blk.17.ffn_down.weight,      torch.bfloat16 --> Q8_0, shape = {14336, 4096}\n",
      "INFO:hf-to-gguf:blk.17.ffn_gate.weight,      torch.bfloat16 --> Q8_0, shape = {4096, 14336}\n",
      "INFO:hf-to-gguf:blk.17.ffn_up.weight,        torch.bfloat16 --> Q8_0, shape = {4096, 14336}\n",
      "INFO:hf-to-gguf:blk.17.ffn_norm.weight,      torch.bfloat16 --> F32, shape = {4096}\n",
      "INFO:hf-to-gguf:blk.17.attn_k.weight,        torch.bfloat16 --> Q8_0, shape = {4096, 1024}\n",
      "INFO:hf-to-gguf:blk.17.attn_output.weight,   torch.bfloat16 --> Q8_0, shape = {4096, 4096}\n",
      "INFO:hf-to-gguf:blk.17.attn_q.weight,        torch.bfloat16 --> Q8_0, shape = {4096, 4096}\n",
      "INFO:hf-to-gguf:blk.17.attn_v.weight,        torch.bfloat16 --> Q8_0, shape = {4096, 1024}\n",
      "INFO:hf-to-gguf:blk.18.attn_norm.weight,     torch.bfloat16 --> F32, shape = {4096}\n",
      "INFO:hf-to-gguf:blk.18.ffn_down.weight,      torch.bfloat16 --> Q8_0, shape = {14336, 4096}\n",
      "INFO:hf-to-gguf:blk.18.ffn_gate.weight,      torch.bfloat16 --> Q8_0, shape = {4096, 14336}\n",
      "INFO:hf-to-gguf:blk.18.ffn_up.weight,        torch.bfloat16 --> Q8_0, shape = {4096, 14336}\n",
      "INFO:hf-to-gguf:blk.18.ffn_norm.weight,      torch.bfloat16 --> F32, shape = {4096}\n",
      "INFO:hf-to-gguf:blk.18.attn_k.weight,        torch.bfloat16 --> Q8_0, shape = {4096, 1024}\n",
      "INFO:hf-to-gguf:blk.18.attn_output.weight,   torch.bfloat16 --> Q8_0, shape = {4096, 4096}\n",
      "INFO:hf-to-gguf:blk.18.attn_q.weight,        torch.bfloat16 --> Q8_0, shape = {4096, 4096}\n",
      "INFO:hf-to-gguf:blk.18.attn_v.weight,        torch.bfloat16 --> Q8_0, shape = {4096, 1024}\n",
      "INFO:hf-to-gguf:blk.19.attn_norm.weight,     torch.bfloat16 --> F32, shape = {4096}\n",
      "INFO:hf-to-gguf:blk.19.ffn_down.weight,      torch.bfloat16 --> Q8_0, shape = {14336, 4096}\n",
      "INFO:hf-to-gguf:blk.19.ffn_gate.weight,      torch.bfloat16 --> Q8_0, shape = {4096, 14336}\n",
      "INFO:hf-to-gguf:blk.19.ffn_up.weight,        torch.bfloat16 --> Q8_0, shape = {4096, 14336}\n",
      "INFO:hf-to-gguf:blk.19.ffn_norm.weight,      torch.bfloat16 --> F32, shape = {4096}\n",
      "INFO:hf-to-gguf:blk.19.attn_k.weight,        torch.bfloat16 --> Q8_0, shape = {4096, 1024}\n",
      "INFO:hf-to-gguf:blk.19.attn_output.weight,   torch.bfloat16 --> Q8_0, shape = {4096, 4096}\n",
      "INFO:hf-to-gguf:blk.19.attn_q.weight,        torch.bfloat16 --> Q8_0, shape = {4096, 4096}\n",
      "INFO:hf-to-gguf:blk.19.attn_v.weight,        torch.bfloat16 --> Q8_0, shape = {4096, 1024}\n",
      "INFO:hf-to-gguf:blk.20.ffn_gate.weight,      torch.bfloat16 --> Q8_0, shape = {4096, 14336}\n",
      "INFO:hf-to-gguf:blk.20.attn_k.weight,        torch.bfloat16 --> Q8_0, shape = {4096, 1024}\n",
      "INFO:hf-to-gguf:blk.20.attn_output.weight,   torch.bfloat16 --> Q8_0, shape = {4096, 4096}\n",
      "INFO:hf-to-gguf:blk.20.attn_q.weight,        torch.bfloat16 --> Q8_0, shape = {4096, 4096}\n",
      "INFO:hf-to-gguf:blk.20.attn_v.weight,        torch.bfloat16 --> Q8_0, shape = {4096, 1024}\n",
      "INFO:hf-to-gguf:blk.9.attn_norm.weight,      torch.bfloat16 --> F32, shape = {4096}\n",
      "INFO:hf-to-gguf:blk.9.ffn_down.weight,       torch.bfloat16 --> Q8_0, shape = {14336, 4096}\n",
      "INFO:hf-to-gguf:blk.9.ffn_gate.weight,       torch.bfloat16 --> Q8_0, shape = {4096, 14336}\n",
      "INFO:hf-to-gguf:blk.9.ffn_up.weight,         torch.bfloat16 --> Q8_0, shape = {4096, 14336}\n",
      "INFO:hf-to-gguf:blk.9.ffn_norm.weight,       torch.bfloat16 --> F32, shape = {4096}\n",
      "INFO:hf-to-gguf:blk.9.attn_k.weight,         torch.bfloat16 --> Q8_0, shape = {4096, 1024}\n",
      "INFO:hf-to-gguf:blk.9.attn_output.weight,    torch.bfloat16 --> Q8_0, shape = {4096, 4096}\n",
      "INFO:hf-to-gguf:blk.9.attn_q.weight,         torch.bfloat16 --> Q8_0, shape = {4096, 4096}\n",
      "INFO:hf-to-gguf:blk.9.attn_v.weight,         torch.bfloat16 --> Q8_0, shape = {4096, 1024}\n",
      "INFO:hf-to-gguf:gguf: loading model part 'model-00003-of-00004.safetensors'\n",
      "INFO:hf-to-gguf:blk.20.attn_norm.weight,     torch.bfloat16 --> F32, shape = {4096}\n",
      "INFO:hf-to-gguf:blk.20.ffn_down.weight,      torch.bfloat16 --> Q8_0, shape = {14336, 4096}\n",
      "INFO:hf-to-gguf:blk.20.ffn_up.weight,        torch.bfloat16 --> Q8_0, shape = {4096, 14336}\n",
      "INFO:hf-to-gguf:blk.20.ffn_norm.weight,      torch.bfloat16 --> F32, shape = {4096}\n",
      "INFO:hf-to-gguf:blk.21.attn_norm.weight,     torch.bfloat16 --> F32, shape = {4096}\n",
      "INFO:hf-to-gguf:blk.21.ffn_down.weight,      torch.bfloat16 --> Q8_0, shape = {14336, 4096}\n",
      "INFO:hf-to-gguf:blk.21.ffn_gate.weight,      torch.bfloat16 --> Q8_0, shape = {4096, 14336}\n",
      "INFO:hf-to-gguf:blk.21.ffn_up.weight,        torch.bfloat16 --> Q8_0, shape = {4096, 14336}\n",
      "INFO:hf-to-gguf:blk.21.ffn_norm.weight,      torch.bfloat16 --> F32, shape = {4096}\n",
      "INFO:hf-to-gguf:blk.21.attn_k.weight,        torch.bfloat16 --> Q8_0, shape = {4096, 1024}\n",
      "INFO:hf-to-gguf:blk.21.attn_output.weight,   torch.bfloat16 --> Q8_0, shape = {4096, 4096}\n",
      "INFO:hf-to-gguf:blk.21.attn_q.weight,        torch.bfloat16 --> Q8_0, shape = {4096, 4096}\n",
      "INFO:hf-to-gguf:blk.21.attn_v.weight,        torch.bfloat16 --> Q8_0, shape = {4096, 1024}\n",
      "INFO:hf-to-gguf:blk.22.attn_norm.weight,     torch.bfloat16 --> F32, shape = {4096}\n",
      "INFO:hf-to-gguf:blk.22.ffn_down.weight,      torch.bfloat16 --> Q8_0, shape = {14336, 4096}\n",
      "INFO:hf-to-gguf:blk.22.ffn_gate.weight,      torch.bfloat16 --> Q8_0, shape = {4096, 14336}\n",
      "INFO:hf-to-gguf:blk.22.ffn_up.weight,        torch.bfloat16 --> Q8_0, shape = {4096, 14336}\n",
      "INFO:hf-to-gguf:blk.22.ffn_norm.weight,      torch.bfloat16 --> F32, shape = {4096}\n",
      "INFO:hf-to-gguf:blk.22.attn_k.weight,        torch.bfloat16 --> Q8_0, shape = {4096, 1024}\n",
      "INFO:hf-to-gguf:blk.22.attn_output.weight,   torch.bfloat16 --> Q8_0, shape = {4096, 4096}\n",
      "INFO:hf-to-gguf:blk.22.attn_q.weight,        torch.bfloat16 --> Q8_0, shape = {4096, 4096}\n",
      "INFO:hf-to-gguf:blk.22.attn_v.weight,        torch.bfloat16 --> Q8_0, shape = {4096, 1024}\n",
      "INFO:hf-to-gguf:blk.23.attn_norm.weight,     torch.bfloat16 --> F32, shape = {4096}\n",
      "INFO:hf-to-gguf:blk.23.ffn_down.weight,      torch.bfloat16 --> Q8_0, shape = {14336, 4096}\n",
      "INFO:hf-to-gguf:blk.23.ffn_gate.weight,      torch.bfloat16 --> Q8_0, shape = {4096, 14336}\n",
      "INFO:hf-to-gguf:blk.23.ffn_up.weight,        torch.bfloat16 --> Q8_0, shape = {4096, 14336}\n",
      "INFO:hf-to-gguf:blk.23.ffn_norm.weight,      torch.bfloat16 --> F32, shape = {4096}\n",
      "INFO:hf-to-gguf:blk.23.attn_k.weight,        torch.bfloat16 --> Q8_0, shape = {4096, 1024}\n",
      "INFO:hf-to-gguf:blk.23.attn_output.weight,   torch.bfloat16 --> Q8_0, shape = {4096, 4096}\n",
      "INFO:hf-to-gguf:blk.23.attn_q.weight,        torch.bfloat16 --> Q8_0, shape = {4096, 4096}\n",
      "INFO:hf-to-gguf:blk.23.attn_v.weight,        torch.bfloat16 --> Q8_0, shape = {4096, 1024}\n",
      "INFO:hf-to-gguf:blk.24.attn_norm.weight,     torch.bfloat16 --> F32, shape = {4096}\n",
      "INFO:hf-to-gguf:blk.24.ffn_down.weight,      torch.bfloat16 --> Q8_0, shape = {14336, 4096}\n",
      "INFO:hf-to-gguf:blk.24.ffn_gate.weight,      torch.bfloat16 --> Q8_0, shape = {4096, 14336}\n",
      "INFO:hf-to-gguf:blk.24.ffn_up.weight,        torch.bfloat16 --> Q8_0, shape = {4096, 14336}\n",
      "INFO:hf-to-gguf:blk.24.ffn_norm.weight,      torch.bfloat16 --> F32, shape = {4096}\n",
      "INFO:hf-to-gguf:blk.24.attn_k.weight,        torch.bfloat16 --> Q8_0, shape = {4096, 1024}\n",
      "INFO:hf-to-gguf:blk.24.attn_output.weight,   torch.bfloat16 --> Q8_0, shape = {4096, 4096}\n",
      "INFO:hf-to-gguf:blk.24.attn_q.weight,        torch.bfloat16 --> Q8_0, shape = {4096, 4096}\n",
      "INFO:hf-to-gguf:blk.24.attn_v.weight,        torch.bfloat16 --> Q8_0, shape = {4096, 1024}\n",
      "INFO:hf-to-gguf:blk.25.attn_norm.weight,     torch.bfloat16 --> F32, shape = {4096}\n",
      "INFO:hf-to-gguf:blk.25.ffn_down.weight,      torch.bfloat16 --> Q8_0, shape = {14336, 4096}\n",
      "INFO:hf-to-gguf:blk.25.ffn_gate.weight,      torch.bfloat16 --> Q8_0, shape = {4096, 14336}\n",
      "INFO:hf-to-gguf:blk.25.ffn_up.weight,        torch.bfloat16 --> Q8_0, shape = {4096, 14336}\n",
      "INFO:hf-to-gguf:blk.25.ffn_norm.weight,      torch.bfloat16 --> F32, shape = {4096}\n",
      "INFO:hf-to-gguf:blk.25.attn_k.weight,        torch.bfloat16 --> Q8_0, shape = {4096, 1024}\n",
      "INFO:hf-to-gguf:blk.25.attn_output.weight,   torch.bfloat16 --> Q8_0, shape = {4096, 4096}\n",
      "INFO:hf-to-gguf:blk.25.attn_q.weight,        torch.bfloat16 --> Q8_0, shape = {4096, 4096}\n",
      "INFO:hf-to-gguf:blk.25.attn_v.weight,        torch.bfloat16 --> Q8_0, shape = {4096, 1024}\n",
      "INFO:hf-to-gguf:blk.26.attn_norm.weight,     torch.bfloat16 --> F32, shape = {4096}\n",
      "INFO:hf-to-gguf:blk.26.ffn_down.weight,      torch.bfloat16 --> Q8_0, shape = {14336, 4096}\n",
      "INFO:hf-to-gguf:blk.26.ffn_gate.weight,      torch.bfloat16 --> Q8_0, shape = {4096, 14336}\n",
      "INFO:hf-to-gguf:blk.26.ffn_up.weight,        torch.bfloat16 --> Q8_0, shape = {4096, 14336}\n",
      "INFO:hf-to-gguf:blk.26.ffn_norm.weight,      torch.bfloat16 --> F32, shape = {4096}\n",
      "INFO:hf-to-gguf:blk.26.attn_k.weight,        torch.bfloat16 --> Q8_0, shape = {4096, 1024}\n",
      "INFO:hf-to-gguf:blk.26.attn_output.weight,   torch.bfloat16 --> Q8_0, shape = {4096, 4096}\n",
      "INFO:hf-to-gguf:blk.26.attn_q.weight,        torch.bfloat16 --> Q8_0, shape = {4096, 4096}\n",
      "INFO:hf-to-gguf:blk.26.attn_v.weight,        torch.bfloat16 --> Q8_0, shape = {4096, 1024}\n",
      "INFO:hf-to-gguf:blk.27.attn_norm.weight,     torch.bfloat16 --> F32, shape = {4096}\n",
      "INFO:hf-to-gguf:blk.27.ffn_down.weight,      torch.bfloat16 --> Q8_0, shape = {14336, 4096}\n",
      "INFO:hf-to-gguf:blk.27.ffn_gate.weight,      torch.bfloat16 --> Q8_0, shape = {4096, 14336}\n",
      "INFO:hf-to-gguf:blk.27.ffn_up.weight,        torch.bfloat16 --> Q8_0, shape = {4096, 14336}\n",
      "INFO:hf-to-gguf:blk.27.ffn_norm.weight,      torch.bfloat16 --> F32, shape = {4096}\n",
      "INFO:hf-to-gguf:blk.27.attn_k.weight,        torch.bfloat16 --> Q8_0, shape = {4096, 1024}\n",
      "INFO:hf-to-gguf:blk.27.attn_output.weight,   torch.bfloat16 --> Q8_0, shape = {4096, 4096}\n",
      "INFO:hf-to-gguf:blk.27.attn_q.weight,        torch.bfloat16 --> Q8_0, shape = {4096, 4096}\n",
      "INFO:hf-to-gguf:blk.27.attn_v.weight,        torch.bfloat16 --> Q8_0, shape = {4096, 1024}\n",
      "INFO:hf-to-gguf:blk.28.attn_norm.weight,     torch.bfloat16 --> F32, shape = {4096}\n",
      "INFO:hf-to-gguf:blk.28.ffn_down.weight,      torch.bfloat16 --> Q8_0, shape = {14336, 4096}\n",
      "INFO:hf-to-gguf:blk.28.ffn_gate.weight,      torch.bfloat16 --> Q8_0, shape = {4096, 14336}\n",
      "INFO:hf-to-gguf:blk.28.ffn_up.weight,        torch.bfloat16 --> Q8_0, shape = {4096, 14336}\n",
      "INFO:hf-to-gguf:blk.28.ffn_norm.weight,      torch.bfloat16 --> F32, shape = {4096}\n",
      "INFO:hf-to-gguf:blk.28.attn_k.weight,        torch.bfloat16 --> Q8_0, shape = {4096, 1024}\n",
      "INFO:hf-to-gguf:blk.28.attn_output.weight,   torch.bfloat16 --> Q8_0, shape = {4096, 4096}\n",
      "INFO:hf-to-gguf:blk.28.attn_q.weight,        torch.bfloat16 --> Q8_0, shape = {4096, 4096}\n",
      "INFO:hf-to-gguf:blk.28.attn_v.weight,        torch.bfloat16 --> Q8_0, shape = {4096, 1024}\n",
      "INFO:hf-to-gguf:blk.29.attn_norm.weight,     torch.bfloat16 --> F32, shape = {4096}\n",
      "INFO:hf-to-gguf:blk.29.ffn_down.weight,      torch.bfloat16 --> Q8_0, shape = {14336, 4096}\n",
      "INFO:hf-to-gguf:blk.29.ffn_gate.weight,      torch.bfloat16 --> Q8_0, shape = {4096, 14336}\n",
      "INFO:hf-to-gguf:blk.29.ffn_up.weight,        torch.bfloat16 --> Q8_0, shape = {4096, 14336}\n",
      "INFO:hf-to-gguf:blk.29.ffn_norm.weight,      torch.bfloat16 --> F32, shape = {4096}\n",
      "INFO:hf-to-gguf:blk.29.attn_k.weight,        torch.bfloat16 --> Q8_0, shape = {4096, 1024}\n",
      "INFO:hf-to-gguf:blk.29.attn_output.weight,   torch.bfloat16 --> Q8_0, shape = {4096, 4096}\n",
      "INFO:hf-to-gguf:blk.29.attn_q.weight,        torch.bfloat16 --> Q8_0, shape = {4096, 4096}\n",
      "INFO:hf-to-gguf:blk.29.attn_v.weight,        torch.bfloat16 --> Q8_0, shape = {4096, 1024}\n",
      "INFO:hf-to-gguf:blk.30.attn_norm.weight,     torch.bfloat16 --> F32, shape = {4096}\n",
      "INFO:hf-to-gguf:blk.30.ffn_down.weight,      torch.bfloat16 --> Q8_0, shape = {14336, 4096}\n",
      "INFO:hf-to-gguf:blk.30.ffn_gate.weight,      torch.bfloat16 --> Q8_0, shape = {4096, 14336}\n",
      "INFO:hf-to-gguf:blk.30.ffn_up.weight,        torch.bfloat16 --> Q8_0, shape = {4096, 14336}\n",
      "INFO:hf-to-gguf:blk.30.ffn_norm.weight,      torch.bfloat16 --> F32, shape = {4096}\n",
      "INFO:hf-to-gguf:blk.30.attn_k.weight,        torch.bfloat16 --> Q8_0, shape = {4096, 1024}\n",
      "INFO:hf-to-gguf:blk.30.attn_output.weight,   torch.bfloat16 --> Q8_0, shape = {4096, 4096}\n",
      "INFO:hf-to-gguf:blk.30.attn_q.weight,        torch.bfloat16 --> Q8_0, shape = {4096, 4096}\n",
      "INFO:hf-to-gguf:blk.30.attn_v.weight,        torch.bfloat16 --> Q8_0, shape = {4096, 1024}\n",
      "INFO:hf-to-gguf:blk.31.ffn_gate.weight,      torch.bfloat16 --> Q8_0, shape = {4096, 14336}\n",
      "INFO:hf-to-gguf:blk.31.ffn_up.weight,        torch.bfloat16 --> Q8_0, shape = {4096, 14336}\n",
      "INFO:hf-to-gguf:blk.31.attn_k.weight,        torch.bfloat16 --> Q8_0, shape = {4096, 1024}\n",
      "INFO:hf-to-gguf:blk.31.attn_output.weight,   torch.bfloat16 --> Q8_0, shape = {4096, 4096}\n",
      "INFO:hf-to-gguf:blk.31.attn_q.weight,        torch.bfloat16 --> Q8_0, shape = {4096, 4096}\n",
      "INFO:hf-to-gguf:blk.31.attn_v.weight,        torch.bfloat16 --> Q8_0, shape = {4096, 1024}\n",
      "INFO:hf-to-gguf:gguf: loading model part 'model-00004-of-00004.safetensors'\n",
      "INFO:hf-to-gguf:output.weight,               torch.bfloat16 --> Q8_0, shape = {4096, 128256}\n",
      "INFO:hf-to-gguf:blk.31.attn_norm.weight,     torch.bfloat16 --> F32, shape = {4096}\n",
      "INFO:hf-to-gguf:blk.31.ffn_down.weight,      torch.bfloat16 --> Q8_0, shape = {14336, 4096}\n",
      "INFO:hf-to-gguf:blk.31.ffn_norm.weight,      torch.bfloat16 --> F32, shape = {4096}\n",
      "INFO:hf-to-gguf:output_norm.weight,          torch.bfloat16 --> F32, shape = {4096}\n",
      "INFO:hf-to-gguf:Set meta model\n",
      "INFO:hf-to-gguf:Set model parameters\n",
      "INFO:hf-to-gguf:gguf: context length = 131072\n",
      "INFO:hf-to-gguf:gguf: embedding length = 4096\n",
      "INFO:hf-to-gguf:gguf: feed forward length = 14336\n",
      "INFO:hf-to-gguf:gguf: head count = 32\n",
      "INFO:hf-to-gguf:gguf: key-value head count = 8\n",
      "INFO:hf-to-gguf:gguf: rope theta = 500000.0\n",
      "INFO:hf-to-gguf:gguf: rms norm epsilon = 1e-05\n",
      "INFO:hf-to-gguf:gguf: file type = 7\n",
      "INFO:hf-to-gguf:Set model tokenizer\n",
      "INFO:gguf.vocab:Adding 280147 merge(s).\n",
      "INFO:gguf.vocab:Setting special token type bos to 128000\n",
      "INFO:gguf.vocab:Setting special token type eos to 128009\n",
      "INFO:gguf.vocab:Setting special token type pad to 128004\n",
      "INFO:gguf.vocab:Setting chat_template to {% if messages[0]['role'] == 'system' %}{{ '<|start_header_id|>system<|end_header_id|>\n",
      "\n",
      "' + messages[0]['content'] + '<|eot_id|>' }}{% set loop_messages = messages[1:] %}{% else %}{{ '<|start_header_id|>system<|end_header_id|>\n",
      "\n",
      "你是中企动力的客服<|eot_id|>' }}{% set loop_messages = messages %}{% endif %}{% for message in loop_messages %}{% if message['role'] == 'user' %}{{ '<|start_header_id|>user<|end_header_id|>\n",
      "\n",
      "' + message['content'] + '<|eot_id|>' }}{% elif message['role'] == 'assistant' %}{{ '<|start_header_id|>assistant<|end_header_id|>\n",
      "\n",
      "' + message['content'] + '<|eot_id|>' }}{% else %}{{ raise_exception('Only user and assistant roles are supported!') }}{% endif %}{% endfor %}{% if add_generation_prompt %}{{ '<|start_header_id|>assistant<|end_header_id|>\n",
      "\n",
      "' }}{% endif %}\n",
      "INFO:hf-to-gguf:Set model quantization version\n",
      "INFO:gguf.gguf_writer:Writing the following files:\n",
      "INFO:gguf.gguf_writer:model/unsloth.Q8_0.gguf: n_tensors = 292, total_size = 8.5G\n",
      "Writing: 100%|██████████| 8.53G/8.53G [02:59<00:00, 47.5Mbyte/s]\n",
      "INFO:hf-to-gguf:Model successfully exported to model/unsloth.Q8_0.gguf\n"
     ]
    },
    {
     "name": "stderr",
     "output_type": "stream",
     "text": [
      "Unsloth: ##### The current model auto adds a BOS token.\n",
      "Unsloth: ##### We removed it in GGUF's chat template for you.\n"
     ]
    },
    {
     "name": "stdout",
     "output_type": "stream",
     "text": [
      "Unsloth: Conversion completed! Output location: ./model/unsloth.Q8_0.gguf\n",
      "Unsloth: Saved Ollama Modelfile to model/Modelfile\n"
     ]
    }
   ]
  },
  {
   "cell_type": "markdown",
   "source": [
    "# 通过ollama 进行文件导入导出"
   ],
   "metadata": {
    "collapsed": false
   }
  },
  {
   "cell_type": "code",
   "source": [
    "import subprocess\n",
    "subprocess.Popen([\"ollama\", \"serve\"])\n",
    "import time\n",
    "time.sleep(3) # Wait for a few seconds for Ollama to load!\n",
    "print(tokenizer._ollama_modelfile)\n"
   ],
   "metadata": {
    "id": "yF32b1y_osZe",
    "executionInfo": {
     "status": "ok",
     "timestamp": 1725962502540,
     "user_tz": -480,
     "elapsed": 3006,
     "user": {
      "displayName": "桑桑",
      "userId": "15939856000553134307"
     }
    },
    "ExecuteTime": {
     "end_time": "2024-09-12T08:07:12.155128Z",
     "start_time": "2024-09-12T08:07:09.143583Z"
    }
   },
   "execution_count": 39,
   "outputs": [
    {
     "name": "stderr",
     "output_type": "stream",
     "text": [
      "2024/09/12 08:07:11 routes.go:1125: INFO server config env=\"map[CUDA_VISIBLE_DEVICES:0 GPU_DEVICE_ORDINAL: HIP_VISIBLE_DEVICES: HSA_OVERRIDE_GFX_VERSION: OLLAMA_DEBUG:false OLLAMA_FLASH_ATTENTION:false OLLAMA_GPU_OVERHEAD:0 OLLAMA_HOST:http://127.0.0.1:11434 OLLAMA_INTEL_GPU:false OLLAMA_KEEP_ALIVE:5m0s OLLAMA_LLM_LIBRARY: OLLAMA_LOAD_TIMEOUT:5m0s OLLAMA_MAX_LOADED_MODELS:0 OLLAMA_MAX_QUEUE:512 OLLAMA_MODELS:/home/jovyan/.ollama/models OLLAMA_NOHISTORY:false OLLAMA_NOPRUNE:false OLLAMA_NUM_PARALLEL:0 OLLAMA_ORIGINS:[http://localhost https://localhost http://localhost:* https://localhost:* http://127.0.0.1 https://127.0.0.1 http://127.0.0.1:* https://127.0.0.1:* http://0.0.0.0 https://0.0.0.0 http://0.0.0.0:* https://0.0.0.0:* app://* file://* tauri://*] OLLAMA_RUNNERS_DIR: OLLAMA_SCHED_SPREAD:false OLLAMA_TMPDIR: ROCR_VISIBLE_DEVICES:]\"\n",
      "time=2024-09-12T08:07:11.841Z level=INFO source=images.go:753 msg=\"total blobs: 37\"\n",
      "time=2024-09-12T08:07:11.961Z level=INFO source=images.go:760 msg=\"total unused blobs removed: 0\"\n",
      "time=2024-09-12T08:07:12.030Z level=INFO source=routes.go:1172 msg=\"Listening on 127.0.0.1:11434 (version 0.3.10)\"\n",
      "time=2024-09-12T08:07:12.042Z level=INFO source=payload.go:30 msg=\"extracting embedded files\" dir=/tmp/ollama432180334/runners\n"
     ]
    },
    {
     "name": "stdout",
     "output_type": "stream",
     "text": [
      "FROM {__FILE_LOCATION__}\n",
      "\n",
      "TEMPLATE \"\"\"{{ if .System }}<|start_header_id|>system<|end_header_id|>\n",
      "\n",
      "{{ .System }}<|eot_id|>{{ end }}{{ if .Prompt }}<|start_header_id|>user<|end_header_id|>\n",
      "\n",
      "{{ .Prompt }}<|eot_id|>{{ end }}<|start_header_id|>assistant<|end_header_id|>\n",
      "\n",
      "{{ .Response }}<|eot_id|>\"\"\"\n",
      "\n",
      "PARAMETER stop \"<|python_tag|>\"\n",
      "PARAMETER stop \"<|end_header_id|>\"\n",
      "PARAMETER stop \"<|end_of_text|>\"\n",
      "PARAMETER stop \"<|eom_id|>\"\n",
      "PARAMETER stop \"<|start_header_id|>\"\n",
      "PARAMETER stop \"<|finetune_right_pad_id|>\"\n",
      "PARAMETER stop \"<|eot_id|>\"\n",
      "PARAMETER stop \"<|reserved_special_token_\"\n",
      "SYSTEM \"你是中企动力的客服\"\n"
     ]
    }
   ]
  },
  {
   "cell_type": "code",
   "outputs": [
    {
     "name": "stdout",
     "output_type": "stream",
     "text": [
      "FROM ./model/unsloth.Q8_0.gguf\r\n",
      "TEMPLATE \"\"\"{{- if or .System .Tools }}<|start_header_id|>system<|end_header_id|>\r\n",
      "{{- if .System }}\r\n",
      "\r\n",
      "{{ .System }}\r\n",
      "{{- end }}\r\n",
      "{{- if .Tools }}\r\n",
      "\r\n",
      "Cutting Knowledge Date: December 2023\r\n",
      "\r\n",
      "When you receive a tool call response, use the output to format an answer to the orginal user question.\r\n",
      "\r\n",
      "You are a helpful assistant with tool calling capabilities.\r\n",
      "{{- end }}\r\n",
      "{{- end }}<|eot_id|>\r\n",
      "{{- range $i, $_ := .Messages }}\r\n",
      "{{- $last := eq (len (slice $.Messages $i)) 1 }}\r\n",
      "{{- if eq .Role \"user\" }}<|start_header_id|>user<|end_header_id|>\r\n",
      "{{- if and $.Tools $last }}\r\n",
      "\r\n",
      "Given the following functions, please respond with a JSON for a function call with its proper arguments that best answers the given prompt.\r\n",
      "\r\n",
      "Respond in the format {\"name\": function name, \"parameters\": dictionary of argument name and its value}. Do not use variables.\r\n",
      "\r\n",
      "{{ range $.Tools }}\r\n",
      "{{- . }}\r\n",
      "{{ end }}\r\n",
      "{{- end }}\r\n",
      "\r\n",
      "{{ .Content }}<|eot_id|>{{ if $last }}<|start_header_id|>assistant<|end_header_id|>\r\n",
      "\r\n",
      "{{ end }}\r\n",
      "{{- else if eq .Role \"assistant\" }}<|start_header_id|>assistant<|end_header_id|>\r\n",
      "{{- if .ToolCalls }}\r\n",
      "\r\n",
      "{{- range .ToolCalls }}{\"name\": \"{{ .Function.Name }}\", \"parameters\": {{ .Function.Arguments }}}{{ end }}\r\n",
      "{{- else }}\r\n",
      "\r\n",
      "{{ .Content }}{{ if not $last }}<|eot_id|>{{ end }}\r\n",
      "{{- end }}\r\n",
      "{{- else if eq .Role \"tool\" }}<|start_header_id|>ipython<|end_header_id|>\r\n",
      "\r\n",
      "{{ .Content }}<|eot_id|>{{ if $last }}<|start_header_id|>assistant<|end_header_id|>\r\n",
      "\r\n",
      "{{ end }}\r\n",
      "{{- end }}\r\n",
      "{{- end }}\"\"\"\r\n",
      "PARAMETER stop \"<|end_header_id|>\"\r\n",
      "PARAMETER stop \"<|eom_id|>\"\r\n",
      "PARAMETER stop \"<|start_header_id|>\"\r\n",
      "PARAMETER stop \"<|end_of_text|>\"\r\n",
      "PARAMETER stop \"<|python_tag|>\"\r\n",
      "PARAMETER stop \"<|finetune_right_pad_id|>\"\r\n",
      "PARAMETER stop \"<|eot_id|>\"\r\n",
      "PARAMETER stop \"<|reserved_special_token_\"\r\n",
      "SYSTEM \"你是中企动力的客服\"\r\n",
      "LICENSE \"zhognqidongli 1.0 COMMUNITY LICENSE AGREEMENT\r\n",
      "zhognqidongli 1.0 Version Release Date: July 23, 2024\r\n",
      "\r\n",
      "“Agreement” means the terms and conditions for use, reproduction, distribution and modification of the\r\n",
      "Llama Materials set forth herein.\r\n",
      "\r\n",
      "“Documentation” means the specifications, manuals and documentation accompanying zhognqidongli 1.0\r\n",
      "distributed by Meta at https://llama.meta.com/doc/overview.\r\n",
      "\r\n",
      "“Licensee” or “you” means you, or your employer or any other person or entity (if you are entering into\r\n",
      "this Agreement on such person or entity’s behalf), of the age required under applicable laws, rules or\r\n",
      "regulations to provide legal consent and that has legal authority to bind your employer or such other\r\n",
      "person or entity if you are entering in this Agreement on their behalf.\r\n",
      "\r\n",
      "“zhognqidongli 1.0” means the foundational large language models and software and algorithms, including\r\n",
      "machine-learning model code, trained model weights, inference-enabling code, training-enabling code,\r\n",
      "fine-tuning enabling code and other elements of the foregoing distributed by Meta at\r\n",
      "https://llama.meta.com/llama-downloads.\r\n",
      "\r\n",
      "“Llama Materials” means, collectively, Meta’s proprietary zhognqidongli 1.0 and Documentation (and any\r\n",
      "portion thereof) made available under this Agreement.\r\n",
      "\r\n",
      "“Meta” or “we” means Meta Platforms Ireland Limited (if you are located in or, if you are an entity, your\r\n",
      "principal place of business is in the EEA or Switzerland) and Meta Platforms, Inc. (if you are located\r\n",
      "outside of the EEA or Switzerland).\r\n",
      "\r\n",
      "By clicking “I Accept” below or by using or distributing any portion or element of the Llama Materials,\r\n",
      "you agree to be bound by this Agreement.\r\n",
      "\r\n",
      "1. License Rights and Redistribution.\r\n",
      "\r\n",
      "  a. Grant of Rights. You are granted a non-exclusive, worldwide, non-transferable and royalty-free\r\n",
      "limited license under Meta’s intellectual property or other rights owned by Meta embodied in the Llama\r\n",
      "Materials to use, reproduce, distribute, copy, create derivative works of, and make modifications to the\r\n",
      "Llama Materials.\r\n",
      "\r\n",
      "  b. Redistribution and Use.\r\n",
      "\r\n",
      "      i. If you distribute or make available the Llama Materials (or any derivative works\r\n",
      "thereof), or a product or service (including another AI model) that contains any of them, you shall (A)\r\n",
      "provide a copy of this Agreement with any such Llama Materials; and (B) prominently display “Built with\r\n",
      "Llama” on a related website, user interface, blogpost, about page, or product documentation. If you use\r\n",
      "the Llama Materials or any outputs or results of the Llama Materials to create, train, fine tune, or\r\n",
      "otherwise improve an AI model, which is distributed or made available, you shall also include “Llama” at\r\n",
      "the beginning of any such AI model name.\r\n",
      "\r\n",
      "      ii. If you receive Llama Materials, or any derivative works thereof, from a Licensee as part\r\n",
      "of an integrated end user product, then Section 2 of this Agreement will not apply to you.\r\n",
      "\r\n",
      "      iii. You must retain in all copies of the Llama Materials that you distribute the following\r\n",
      "attribution notice within a “Notice” text file distributed as a part of such copies: “zhognqidongli 1.0 is\r\n",
      "licensed under the zhognqidongli 1.0 Community License, Copyright © Meta Platforms, Inc. All Rights\r\n",
      "Reserved.”\r\n",
      "\r\n",
      "      iv. Your use of the Llama Materials must comply with applicable laws and regulations\r\n",
      "(including trade compliance laws and regulations) and adhere to the Acceptable Use Policy for the Llama\r\n",
      "Materials (available at https://llama.meta.com/llama3_1/use-policy), which is hereby incorporated by\r\n",
      "reference into this Agreement.\r\n",
      "\r\n",
      "2. Additional Commercial Terms. If, on the zhognqidongli 1.0 version release date, the monthly active users\r\n",
      "of the products or services made available by or for Licensee, or Licensee’s affiliates, is greater than 700\r\n",
      "million monthly active users in the preceding calendar month, you must request a license from Meta,\r\n",
      "which Meta may grant to you in its sole discretion, and you are not authorized to exercise any of the\r\n",
      "rights under this Agreement unless or until Meta otherwise expressly grants you such rights.\r\n",
      "\r\n",
      "3. Disclaimer of Warranty. UNLESS REQUIRED BY APPLICABLE LAW, THE LLAMA MATERIALS AND ANY\r\n",
      "OUTPUT AND RESULTS THEREFROM ARE PROVIDED ON AN “AS IS” BASIS, WITHOUT WARRANTIES OF\r\n",
      "ANY KIND, AND META DISCLAIMS ALL WARRANTIES OF ANY KIND, BOTH EXPRESS AND IMPLIED,\r\n",
      "INCLUDING, WITHOUT LIMITATION, ANY WARRANTIES OF TITLE, NON-INFRINGEMENT,\r\n",
      "MERCHANTABILITY, OR FITNESS FOR A PARTICULAR PURPOSE. YOU ARE SOLELY RESPONSIBLE FOR\r\n",
      "DETERMINING THE APPROPRIATENESS OF USING OR REDISTRIBUTING THE LLAMA MATERIALS AND\r\n",
      "ASSUME ANY RISKS ASSOCIATED WITH YOUR USE OF THE LLAMA MATERIALS AND ANY OUTPUT AND\r\n",
      "RESULTS.\r\n",
      "\r\n",
      "4. Limitation of Liability. IN NO EVENT WILL META OR ITS AFFILIATES BE LIABLE UNDER ANY THEORY OF\r\n",
      "LIABILITY, WHETHER IN CONTRACT, TORT, NEGLIGENCE, PRODUCTS LIABILITY, OR OTHERWISE, ARISING\r\n",
      "OUT OF THIS AGREEMENT, FOR ANY LOST PROFITS OR ANY INDIRECT, SPECIAL, CONSEQUENTIAL,\r\n",
      "INCIDENTAL, EXEMPLARY OR PUNITIVE DAMAGES, EVEN IF META OR ITS AFFILIATES HAVE BEEN ADVISED\r\n",
      "OF THE POSSIBILITY OF ANY OF THE FOREGOING.\r\n",
      "\r\n",
      "5. Intellectual Property.\r\n",
      "\r\n",
      "  a. No trademark licenses are granted under this Agreement, and in connection with the Llama\r\n",
      "Materials, neither Meta nor Licensee may use any name or mark owned by or associated with the other\r\n",
      "or any of its affiliates, except as required for reasonable and customary use in describing and\r\n",
      "redistributing the Llama Materials or as set forth in this Section 5(a). Meta hereby grants you a license to\r\n",
      "use “Llama” (the “Mark”) solely as required to comply with the last sentence of Section 1.b.i. You will\r\n",
      "comply with Meta’s brand guidelines (currently accessible at\r\n",
      "https://about.meta.com/brand/resources/meta/company-brand/ ). All goodwill arising out of your use\r\n",
      "of the Mark will inure to the benefit of Meta.\r\n",
      "\r\n",
      "  b. Subject to Meta’s ownership of Llama Materials and derivatives made by or for Meta, with\r\n",
      "respect to any derivative works and modifications of the Llama Materials that are made by you, as\r\n",
      "between you and Meta, you are and will be the owner of such derivative works and modifications.\r\n",
      "\r\n",
      "  c. If you institute litigation or other proceedings against Meta or any entity (including a\r\n",
      "cross-claim or counterclaim in a lawsuit) alleging that the Llama Materials or zhognqidongli 1.0 outputs or\r\n",
      "results, or any portion of any of the foregoing, constitutes infringement of intellectual property or other\r\n",
      "rights owned or licensable by you, then any licenses granted to you under this Agreement shall\r\n",
      "terminate as of the date such litigation or claim is filed or instituted. You will indemnify and hold\r\n",
      "harmless Meta from and against any claim by any third party arising out of or related to your use or\r\n",
      "distribution of the Llama Materials.\r\n",
      "\r\n",
      "6. Term and Termination. The term of this Agreement will commence upon your acceptance of this\r\n",
      "Agreement or access to the Llama Materials and will continue in full force and effect until terminated in\r\n",
      "accordance with the terms and conditions herein. Meta may terminate this Agreement if you are in\r\n",
      "breach of any term or condition of this Agreement. Upon termination of this Agreement, you shall delete\r\n",
      "and cease use of the Llama Materials. Sections 3, 4 and 7 shall survive the termination of this\r\n",
      "Agreement.\r\n",
      "\r\n",
      "7. Governing Law and Jurisdiction. This Agreement will be governed and construed under the laws of\r\n",
      "the State of California without regard to choice of law principles, and the UN Convention on Contracts\r\n",
      "for the International Sale of Goods does not apply to this Agreement. The courts of California shall have\r\n",
      "exclusive jurisdiction of any dispute arising out of this Agreement.\r\n",
      "\r\n",
      "# zhognqidongli 1.0 Acceptable Use Policy\r\n",
      "\r\n",
      "Meta is committed to promoting safe and fair use of its tools and features, including zhognqidongli 1.0. If you\r\n",
      "access or use zhognqidongli 1.0, you agree to this Acceptable Use Policy (“Policy”). The most recent copy of\r\n",
      "this policy can be found at [https://llama.meta.com/llama3_1/use-policy](https://llama.meta.com/llama3_1/use-policy)\r\n",
      "\r\n",
      "## Prohibited Uses\r\n",
      "\r\n",
      "We want everyone to use zhognqidongli 1.0 safely and responsibly. You agree you will not use, or allow\r\n",
      "others to use, zhognqidongli 1.0 to:\r\n",
      "\r\n",
      "1. Violate the law or others’ rights, including to:\r\n",
      "    1. Engage in, promote, generate, contribute to, encourage, plan, incite, or further illegal or unlawful activity or content, such as:\r\n",
      "        1. Violence or terrorism\r\n",
      "        2. Exploitation or harm to children, including the solicitation, creation, acquisition, or dissemination of child exploitative content or failure to report Child Sexual Abuse Material\r\n",
      "        3. Human trafficking, exploitation, and sexual violence\r\n",
      "        4. The illegal distribution of information or materials to minors, including obscene materials, or failure to employ legally required age-gating in connection with such information or materials.\r\n",
      "        5. Sexual solicitation\r\n",
      "        6. Any other criminal activity\r\n",
      "    3. Engage in, promote, incite, or facilitate the harassment, abuse, threatening, or bullying of individuals or groups of individuals\r\n",
      "    4. Engage in, promote, incite, or facilitate discrimination or other unlawful or harmful conduct in the provision of employment, employment benefits, credit, housing, other economic benefits, or other essential goods and services\r\n",
      "    5. Engage in the unauthorized or unlicensed practice of any profession including, but not limited to, financial, legal, medical/health, or related professional practices\r\n",
      "    6. Collect, process, disclose, generate, or infer health, demographic, or other sensitive personal or private information about individuals without rights and consents required by applicable laws\r\n",
      "    7. Engage in or facilitate any action or generate any content that infringes, misappropriates, or otherwise violates any third-party rights, including the outputs or results of any products or services using the Llama Materials\r\n",
      "    8. Create, generate, or facilitate the creation of malicious code, malware, computer viruses or do anything else that could disable, overburden, interfere with or impair the proper working, integrity, operation or appearance of a website or computer system\r\n",
      "\r\n",
      "2. Engage in, promote, incite, facilitate, or assist in the planning or development of activities that present a risk of death or bodily harm to individuals, including use of zhognqidongli 1.0 related to the following:\r\n",
      "    1. Military, warfare, nuclear industries or applications, espionage, use for materials or activities that are subject to the International Traffic Arms Regulations (ITAR) maintained by the United States Department of State\r\n",
      "    2. Guns and illegal weapons (including weapon development)\r\n",
      "    3. Illegal drugs and regulated/controlled substances\r\n",
      "    4. Operation of critical infrastructure, transportation technologies, or heavy machinery\r\n",
      "    5. Self-harm or harm to others, including suicide, cutting, and eating disorders\r\n",
      "    6. Any content intended to incite or promote violence, abuse, or any infliction of bodily harm to an individual\r\n",
      "\r\n",
      "3. Intentionally deceive or mislead others, including use of zhognqidongli 1.0 related to the following:\r\n",
      "    1. Generating, promoting, or furthering fraud or the creation or promotion of disinformation\r\n",
      "    2. Generating, promoting, or furthering defamatory content, including the creation of defamatory statements, images, or other content\r\n",
      "    3. Generating, promoting, or further distributing spam\r\n",
      "    4. Impersonating another individual without consent, authorization, or legal right\r\n",
      "    5. Representing that the use of zhognqidongli 1.0 or outputs are human-generated\r\n",
      "    6. Generating or facilitating false online engagement, including fake reviews and other means of fake online engagement\r\n",
      "\r\n",
      "4. Fail to appropriately disclose to end users any known dangers of your AI system\r\n",
      "\r\n",
      "Please report any violation of this Policy, software “bug,” or other problems that could lead to a violation\r\n",
      "of this Policy through one of the following means:\r\n",
      "\r\n",
      "* Reporting issues with the model: [https://github.com/meta-llama/llama-models/issues](https://github.com/meta-llama/llama-models/issues)\r\n",
      "* Reporting risky content generated by the model: developers.facebook.com/llama_output_feedback\r\n",
      "* Reporting bugs and security concerns: facebook.com/whitehat/info\r\n",
      "* Reporting violations of the Acceptable Use Policy or unlicensed uses of zhognqidongli 1.0: yuanenguang@300.cn\""
     ]
    }
   ],
   "source": [
    "!cp /home/jovyan/Modelfile ./model/Modelfile\n",
    "\n",
    "!cat ./model/Modelfile"
   ],
   "metadata": {
    "collapsed": false,
    "ExecuteTime": {
     "end_time": "2024-09-12T08:08:51.317277Z",
     "start_time": "2024-09-12T08:08:50.941134Z"
    }
   },
   "execution_count": 43
  },
  {
   "cell_type": "code",
   "source": [
    "!ollama create wt0919 -f ./model/Modelfile\n",
    "!kill -9 $(pgrep -f ollama)\n",
    "print(\"结束\")"
   ],
   "metadata": {
    "colab": {
     "base_uri": "https://localhost:8080/"
    },
    "id": "d72Te2ijus7E",
    "executionInfo": {
     "status": "ok",
     "timestamp": 1725951668917,
     "user_tz": -480,
     "elapsed": 105,
     "user": {
      "displayName": "桑桑",
      "userId": "15939856000553134307"
     }
    },
    "outputId": "3f7f47ca-cc55-4b27-9c69-d97dc30f44fe",
    "ExecuteTime": {
     "end_time": "2024-09-12T08:10:07.908240Z",
     "start_time": "2024-09-12T08:08:56.011760Z"
    }
   },
   "execution_count": 44,
   "outputs": [
    {
     "name": "stdout",
     "output_type": "stream",
     "text": [
      "[GIN] 2024/09/12 - 08:08:58 | 200 |    1.056486ms |       127.0.0.1 | HEAD     \"/\"\n",
      "\u001B[?25ltransferring model data ⠋ \u001B[?25h\u001B[?25l\u001B[2K\u001B[1Gtransferring model data ⠙ \u001B[?25h\u001B[?25l\u001B[2K\u001B[1Gtransferring model data ⠹ \u001B[?25h\u001B[?25l\u001B[2K\u001B[1Gtransferring model data ⠸ \u001B[?25h\u001B[?25l\u001B[2K\u001B[1Gtransferring model data ⠼ \u001B[?25h\u001B[?25l\u001B[2K\u001B[1Gtransferring model data ⠴ \u001B[?25h\u001B[?25l\u001B[2K\u001B[1Gtransferring model data ⠦ \u001B[?25h\u001B[?25l\u001B[2K\u001B[1Gtransferring model data ⠧ \u001B[?25h\u001B[?25l\u001B[2K\u001B[1Gtransferring model data ⠇ \u001B[?25h\u001B[?25l\u001B[2K\u001B[1Gtransferring model data ⠏ \u001B[?25h\u001B[?25l\u001B[2K\u001B[1Gtransferring model data ⠋ \u001B[?25h\u001B[?25l\u001B[2K\u001B[1Gtransferring model data ⠙ \u001B[?25h\u001B[?25l\u001B[2K\u001B[1Gtransferring model data ⠹ \u001B[?25h\u001B[?25l\u001B[2K\u001B[1Gtransferring model data ⠸ \u001B[?25h\u001B[?25l\u001B[2K\u001B[1Gtransferring model data ⠼ \u001B[?25h\u001B[?25l\u001B[2K\u001B[1Gtransferring model data ⠴ \u001B[?25h\u001B[?25l\u001B[2K\u001B[1Gtransferring model data ⠦ \u001B[?25h\u001B[?25l\u001B[2K\u001B[1Gtransferring model data ⠧ \u001B[?25h\u001B[?25l\u001B[2K\u001B[1Gtransferring model data ⠇ \u001B[?25h\u001B[?25l\u001B[2K\u001B[1Gtransferring model data ⠏ \u001B[?25h\u001B[?25l\u001B[2K\u001B[1Gtransferring model data ⠋ \u001B[?25h\u001B[?25l\u001B[2K\u001B[1Gtransferring model data ⠙ \u001B[?25h\u001B[?25l\u001B[2K\u001B[1Gtransferring model data ⠹ \u001B[?25h\u001B[?25l\u001B[2K\u001B[1Gtransferring model data ⠸ \u001B[?25h\u001B[?25l\u001B[2K\u001B[1Gtransferring model data ⠼ \u001B[?25h\u001B[?25l\u001B[2K\u001B[1Gtransferring model data ⠴ \u001B[?25h\u001B[?25l\u001B[2K\u001B[1Gtransferring model data ⠦ \u001B[?25h\u001B[?25l\u001B[2K\u001B[1Gtransferring model data ⠧ \u001B[?25h\u001B[?25l\u001B[2K\u001B[1Gtransferring model data ⠇ \u001B[?25h\u001B[?25l\u001B[2K\u001B[1Gtransferring model data ⠏ \u001B[?25h\u001B[?25l\u001B[2K\u001B[1Gtransferring model data ⠋ \u001B[?25h\u001B[?25l\u001B[2K\u001B[1Gtransferring model data ⠙ \u001B[?25h\u001B[?25l\u001B[2K\u001B[1Gtransferring model data ⠹ \u001B[?25h\u001B[?25l\u001B[2K\u001B[1Gtransferring model data ⠸ \u001B[?25h\u001B[?25l\u001B[2K\u001B[1Gtransferring model data ⠼ \u001B[?25h\u001B[?25l\u001B[2K\u001B[1Gtransferring model data ⠴ \u001B[?25h\u001B[?25l\u001B[2K\u001B[1Gtransferring model data ⠦ \u001B[?25h\u001B[?25l\u001B[2K\u001B[1Gtransferring model data ⠧ \u001B[?25h\u001B[?25l\u001B[2K\u001B[1Gtransferring model data ⠇ \u001B[?25h\u001B[?25l\u001B[2K\u001B[1Gtransferring model data ⠏ \u001B[?25h\u001B[?25l\u001B[2K\u001B[1Gtransferring model data ⠋ \u001B[?25h\u001B[?25l\u001B[2K\u001B[1Gtransferring model data ⠙ \u001B[?25h\u001B[?25l\u001B[2K\u001B[1Gtransferring model data ⠹ \u001B[?25h\u001B[?25l\u001B[2K\u001B[1Gtransferring model data ⠸ \u001B[?25h\u001B[?25l\u001B[2K\u001B[1Gtransferring model data ⠼ \u001B[?25h\u001B[?25l\u001B[2K\u001B[1Gtransferring model data ⠴ \u001B[?25h\u001B[?25l\u001B[2K\u001B[1Gtransferring model data ⠦ \u001B[?25h\u001B[?25l\u001B[2K\u001B[1Gtransferring model data ⠧ \u001B[?25h\u001B[?25l\u001B[2K\u001B[1Gtransferring model data ⠇ \u001B[?25h\u001B[?25l\u001B[2K\u001B[1Gtransferring model data ⠏ \u001B[?25h\u001B[?25l\u001B[2K\u001B[1Gtransferring model data ⠋ \u001B[?25h\u001B[?25l\u001B[2K\u001B[1Gtransferring model data ⠙ \u001B[?25h\u001B[?25l\u001B[2K\u001B[1Gtransferring model data ⠹ \u001B[?25h\u001B[?25l\u001B[2K\u001B[1Gtransferring model data ⠸ \u001B[?25h\u001B[?25l\u001B[2K\u001B[1Gtransferring model data ⠼ \u001B[?25h\u001B[?25l\u001B[2K\u001B[1Gtransferring model data ⠴ \u001B[?25h\u001B[?25l\u001B[2K\u001B[1Gtransferring model data ⠦ \u001B[?25h\u001B[?25l\u001B[2K\u001B[1Gtransferring model data ⠧ \u001B[?25h\u001B[?25l\u001B[2K\u001B[1Gtransferring model data ⠇ \u001B[?25h\u001B[?25l\u001B[2K\u001B[1Gtransferring model data ⠏ \u001B[?25h\u001B[?25l\u001B[2K\u001B[1Gtransferring model data ⠋ \u001B[?25h\u001B[?25l\u001B[2K\u001B[1Gtransferring model data ⠙ \u001B[?25h\u001B[?25l\u001B[2K\u001B[1Gtransferring model data ⠹ \u001B[?25h\u001B[?25l\u001B[2K\u001B[1Gtransferring model data ⠸ \u001B[?25h\u001B[?25l\u001B[2K\u001B[1Gtransferring model data ⠼ \u001B[?25h\u001B[?25l\u001B[2K\u001B[1Gtransferring model data ⠴ \u001B[?25h\u001B[?25l\u001B[2K\u001B[1Gtransferring model data ⠦ \u001B[?25h\u001B[?25l\u001B[2K\u001B[1Gtransferring model data ⠧ \u001B[?25h\u001B[?25l\u001B[2K\u001B[1Gtransferring model data ⠇ \u001B[?25h\u001B[?25l\u001B[2K\u001B[1Gtransferring model data ⠏ \u001B[?25h\u001B[?25l\u001B[2K\u001B[1Gtransferring model data ⠋ \u001B[?25h\u001B[?25l\u001B[2K\u001B[1Gtransferring model data ⠙ \u001B[?25h\u001B[?25l\u001B[2K\u001B[1Gtransferring model data ⠹ \u001B[?25h\u001B[?25l\u001B[2K\u001B[1Gtransferring model data ⠸ \u001B[?25h\u001B[?25l\u001B[2K\u001B[1Gtransferring model data ⠼ \u001B[?25h\u001B[?25l\u001B[2K\u001B[1Gtransferring model data ⠴ \u001B[?25h\u001B[?25l\u001B[2K\u001B[1Gtransferring model data ⠦ \u001B[?25h\u001B[?25l\u001B[2K\u001B[1Gtransferring model data ⠧ \u001B[?25h\u001B[?25l\u001B[2K\u001B[1Gtransferring model data ⠇ \u001B[?25h\u001B[?25l\u001B[2K\u001B[1Gtransferring model data ⠏ \u001B[?25h\u001B[?25l\u001B[2K\u001B[1Gtransferring model data ⠋ \u001B[?25h\u001B[?25l\u001B[2K\u001B[1Gtransferring model data ⠙ \u001B[?25h\u001B[?25l\u001B[2K\u001B[1Gtransferring model data ⠹ \u001B[?25h\u001B[?25l\u001B[2K\u001B[1Gtransferring model data ⠸ \u001B[?25h\u001B[?25l\u001B[2K\u001B[1Gtransferring model data ⠼ \u001B[?25h\u001B[?25l\u001B[2K\u001B[1Gtransferring model data ⠴ \u001B[?25h\u001B[?25l\u001B[2K\u001B[1Gtransferring model data ⠦ \u001B[?25h\u001B[?25l\u001B[2K\u001B[1Gtransferring model data ⠧ \u001B[?25h\u001B[?25l\u001B[2K\u001B[1Gtransferring model data ⠇ \u001B[?25h\u001B[?25l\u001B[2K\u001B[1Gtransferring model data ⠏ \u001B[?25h\u001B[?25l\u001B[2K\u001B[1Gtransferring model data ⠋ \u001B[?25h\u001B[?25l\u001B[2K\u001B[1Gtransferring model data ⠙ \u001B[?25h\u001B[?25l\u001B[2K\u001B[1Gtransferring model data ⠹ \u001B[?25h\u001B[?25l\u001B[2K\u001B[1Gtransferring model data ⠸ \u001B[?25h\u001B[?25l\u001B[2K\u001B[1Gtransferring model data ⠼ \u001B[?25h\u001B[?25l\u001B[2K\u001B[1Gtransferring model data ⠴ \u001B[?25h\u001B[?25l\u001B[2K\u001B[1Gtransferring model data ⠦ \u001B[?25h\u001B[?25l\u001B[2K\u001B[1Gtransferring model data ⠧ \u001B[?25h\u001B[?25l\u001B[2K\u001B[1Gtransferring model data ⠇ \u001B[?25h\u001B[?25l\u001B[2K\u001B[1Gtransferring model data ⠏ \u001B[?25h\u001B[?25l\u001B[2K\u001B[1Gtransferring model data ⠋ \u001B[?25h\u001B[?25l\u001B[2K\u001B[1Gtransferring model data ⠙ \u001B[?25h\u001B[?25l\u001B[2K\u001B[1Gtransferring model data ⠹ \u001B[?25h\u001B[?25l\u001B[2K\u001B[1Gtransferring model data ⠸ \u001B[?25h\u001B[?25l\u001B[2K\u001B[1Gtransferring model data ⠼ \u001B[?25h\u001B[?25l\u001B[2K\u001B[1Gtransferring model data ⠴ \u001B[?25h\u001B[?25l\u001B[2K\u001B[1Gtransferring model data ⠦ \u001B[?25h\u001B[?25l\u001B[2K\u001B[1Gtransferring model data ⠧ \u001B[?25h\u001B[?25l\u001B[2K\u001B[1Gtransferring model data ⠇ \u001B[?25h\u001B[?25l\u001B[2K\u001B[1Gtransferring model data ⠏ \u001B[?25h\u001B[?25l\u001B[2K\u001B[1Gtransferring model data ⠋ \u001B[?25h\u001B[?25l\u001B[2K\u001B[1Gtransferring model data ⠙ \u001B[?25h\u001B[?25l\u001B[2K\u001B[1Gtransferring model data ⠹ \u001B[?25h\u001B[?25l\u001B[2K\u001B[1Gtransferring model data ⠸ \u001B[?25h\u001B[?25l\u001B[2K\u001B[1Gtransferring model data ⠼ \u001B[?25h\u001B[?25l\u001B[2K\u001B[1Gtransferring model data ⠴ \u001B[?25h\u001B[?25l\u001B[2K\u001B[1Gtransferring model data ⠦ \u001B[?25h\u001B[?25l\u001B[2K\u001B[1Gtransferring model data ⠧ \u001B[?25h\u001B[?25l\u001B[2K\u001B[1Gtransferring model data ⠇ \u001B[?25h\u001B[?25l\u001B[2K\u001B[1Gtransferring model data ⠏ \u001B[?25h\u001B[?25l\u001B[2K\u001B[1Gtransferring model data ⠋ \u001B[?25h\u001B[?25l\u001B[2K\u001B[1Gtransferring model data ⠙ \u001B[?25h\u001B[?25l\u001B[2K\u001B[1Gtransferring model data ⠹ \u001B[?25h\u001B[?25l\u001B[2K\u001B[1Gtransferring model data ⠸ \u001B[?25h\u001B[?25l\u001B[2K\u001B[1Gtransferring model data ⠼ \u001B[?25h\u001B[?25l\u001B[2K\u001B[1Gtransferring model data ⠴ \u001B[?25h\u001B[?25l\u001B[2K\u001B[1Gtransferring model data ⠦ \u001B[?25h\u001B[?25l\u001B[2K\u001B[1Gtransferring model data ⠧ \u001B[?25h\u001B[?25l\u001B[2K\u001B[1Gtransferring model data ⠇ \u001B[?25h\u001B[?25l\u001B[2K\u001B[1Gtransferring model data ⠏ \u001B[?25h\u001B[?25l\u001B[2K\u001B[1Gtransferring model data ⠋ \u001B[?25h\u001B[?25l\u001B[2K\u001B[1Gtransferring model data ⠙ \u001B[?25h\u001B[?25l\u001B[2K\u001B[1Gtransferring model data ⠹ \u001B[?25h\u001B[?25l\u001B[2K\u001B[1Gtransferring model data ⠸ \u001B[?25h\u001B[?25l\u001B[2K\u001B[1Gtransferring model data ⠼ \u001B[?25h\u001B[?25l\u001B[2K\u001B[1Gtransferring model data ⠴ \u001B[?25h\u001B[?25l\u001B[2K\u001B[1Gtransferring model data ⠦ \u001B[?25h\u001B[?25l\u001B[2K\u001B[1Gtransferring model data ⠧ \u001B[?25h\u001B[?25l\u001B[2K\u001B[1Gtransferring model data ⠇ \u001B[?25h\u001B[?25l\u001B[2K\u001B[1Gtransferring model data ⠏ \u001B[?25h\u001B[?25l\u001B[2K\u001B[1Gtransferring model data ⠋ \u001B[?25h\u001B[?25l\u001B[2K\u001B[1Gtransferring model data ⠙ \u001B[?25h\u001B[?25l\u001B[2K\u001B[1Gtransferring model data ⠹ \u001B[?25h\u001B[?25l\u001B[2K\u001B[1Gtransferring model data ⠸ \u001B[?25h\u001B[?25l\u001B[2K\u001B[1Gtransferring model data ⠼ \u001B[?25h\u001B[?25l\u001B[2K\u001B[1Gtransferring model data ⠴ \u001B[?25h\u001B[?25l\u001B[2K\u001B[1Gtransferring model data ⠦ \u001B[?25h\u001B[?25l\u001B[2K\u001B[1Gtransferring model data ⠧ \u001B[?25h\u001B[?25l\u001B[2K\u001B[1Gtransferring model data ⠇ \u001B[?25h\u001B[?25l\u001B[2K\u001B[1Gtransferring model data ⠏ \u001B[?25h\u001B[?25l\u001B[2K\u001B[1Gtransferring model data ⠋ \u001B[?25h\u001B[?25l\u001B[2K\u001B[1Gtransferring model data ⠙ \u001B[?25h\u001B[?25l\u001B[2K\u001B[1Gtransferring model data ⠹ \u001B[?25h\u001B[?25l\u001B[2K\u001B[1Gtransferring model data ⠸ \u001B[?25h\u001B[?25l\u001B[2K\u001B[1Gtransferring model data ⠼ \u001B[?25h\u001B[?25l\u001B[2K\u001B[1Gtransferring model data ⠴ \u001B[?25h\u001B[?25l\u001B[2K\u001B[1Gtransferring model data ⠦ \u001B[?25h\u001B[?25l\u001B[2K\u001B[1Gtransferring model data ⠧ \u001B[?25h\u001B[?25l\u001B[2K\u001B[1Gtransferring model data ⠇ \u001B[?25h\u001B[?25l\u001B[2K\u001B[1Gtransferring model data ⠏ \u001B[?25h\u001B[?25l\u001B[2K\u001B[1Gtransferring model data ⠋ \u001B[?25h\u001B[?25l\u001B[2K\u001B[1Gtransferring model data ⠙ \u001B[?25h\u001B[?25l\u001B[2K\u001B[1Gtransferring model data ⠹ \u001B[?25h\u001B[?25l\u001B[2K\u001B[1Gtransferring model data ⠸ \u001B[?25h\u001B[?25l\u001B[2K\u001B[1Gtransferring model data ⠼ \u001B[?25h\u001B[?25l\u001B[2K\u001B[1Gtransferring model data ⠴ \u001B[?25h\u001B[?25l\u001B[2K\u001B[1Gtransferring model data ⠦ \u001B[?25h\u001B[?25l\u001B[2K\u001B[1Gtransferring model data ⠧ \u001B[?25h\u001B[?25l\u001B[2K\u001B[1Gtransferring model data ⠇ \u001B[?25h\u001B[?25l\u001B[2K\u001B[1Gtransferring model data ⠏ \u001B[?25h\u001B[?25l\u001B[2K\u001B[1Gtransferring model data ⠋ \u001B[?25h\u001B[?25l\u001B[2K\u001B[1Gtransferring model data ⠙ \u001B[?25h\u001B[?25l\u001B[2K\u001B[1Gtransferring model data ⠹ \u001B[?25h\u001B[?25l\u001B[2K\u001B[1Gtransferring model data ⠸ \u001B[?25h\u001B[?25l\u001B[2K\u001B[1Gtransferring model data ⠼ \u001B[?25h\u001B[?25l\u001B[2K\u001B[1Gtransferring model data ⠴ \u001B[?25h\u001B[?25l\u001B[2K\u001B[1Gtransferring model data ⠦ \u001B[?25h\u001B[?25l\u001B[2K\u001B[1Gtransferring model data ⠧ \u001B[?25h\u001B[?25l\u001B[2K\u001B[1Gtransferring model data ⠇ \u001B[?25h\u001B[?25l\u001B[2K\u001B[1Gtransferring model data ⠏ \u001B[?25h\u001B[?25l\u001B[2K\u001B[1Gtransferring model data ⠋ \u001B[?25h\u001B[?25l\u001B[2K\u001B[1Gtransferring model data ⠙ \u001B[?25h\u001B[?25l\u001B[2K\u001B[1Gtransferring model data ⠹ \u001B[?25h\u001B[?25l\u001B[2K\u001B[1Gtransferring model data ⠸ \u001B[?25h\u001B[?25l\u001B[2K\u001B[1Gtransferring model data ⠼ \u001B[?25h\u001B[?25l\u001B[2K\u001B[1Gtransferring model data ⠴ \u001B[?25h\u001B[?25l\u001B[2K\u001B[1Gtransferring model data ⠦ \u001B[?25h\u001B[?25l\u001B[2K\u001B[1Gtransferring model data ⠧ \u001B[?25h\u001B[?25l\u001B[2K\u001B[1Gtransferring model data ⠇ \u001B[?25h\u001B[?25l\u001B[2K\u001B[1Gtransferring model data ⠏ \u001B[?25h\u001B[?25l\u001B[2K\u001B[1Gtransferring model data ⠋ \u001B[?25h\u001B[?25l\u001B[2K\u001B[1Gtransferring model data ⠙ \u001B[?25h\u001B[?25l\u001B[2K\u001B[1Gtransferring model data ⠹ \u001B[?25h\u001B[?25l\u001B[2K\u001B[1Gtransferring model data ⠸ \u001B[?25h\u001B[?25l\u001B[2K\u001B[1Gtransferring model data ⠼ \u001B[?25h\u001B[?25l\u001B[2K\u001B[1Gtransferring model data ⠴ \u001B[?25h\u001B[?25l\u001B[2K\u001B[1Gtransferring model data ⠦ \u001B[?25h\u001B[?25l\u001B[2K\u001B[1Gtransferring model data ⠧ \u001B[?25h\u001B[?25l\u001B[2K\u001B[1Gtransferring model data ⠇ \u001B[?25h\u001B[?25l\u001B[2K\u001B[1Gtransferring model data ⠏ \u001B[?25h\u001B[?25l\u001B[2K\u001B[1Gtransferring model data ⠋ \u001B[?25h\u001B[?25l\u001B[2K\u001B[1Gtransferring model data ⠙ \u001B[?25h\u001B[?25l\u001B[2K\u001B[1Gtransferring model data ⠹ \u001B[?25h\u001B[?25l\u001B[2K\u001B[1Gtransferring model data ⠸ \u001B[?25h\u001B[?25l\u001B[2K\u001B[1Gtransferring model data ⠼ \u001B[?25h\u001B[?25l\u001B[2K\u001B[1Gtransferring model data ⠴ \u001B[?25h\u001B[?25l\u001B[2K\u001B[1Gtransferring model data ⠦ \u001B[?25h\u001B[?25l\u001B[2K\u001B[1Gtransferring model data ⠧ \u001B[?25h\u001B[?25l\u001B[2K\u001B[1Gtransferring model data ⠇ \u001B[?25h\u001B[?25l\u001B[2K\u001B[1Gtransferring model data ⠏ \u001B[?25h\u001B[?25l\u001B[2K\u001B[1Gtransferring model data ⠋ \u001B[?25h\u001B[?25l\u001B[2K\u001B[1Gtransferring model data ⠙ \u001B[?25h\u001B[?25l\u001B[2K\u001B[1Gtransferring model data ⠹ \u001B[?25h\u001B[?25l\u001B[2K\u001B[1Gtransferring model data ⠸ \u001B[?25h\u001B[?25l\u001B[2K\u001B[1Gtransferring model data ⠼ \u001B[?25h\u001B[?25l\u001B[2K\u001B[1Gtransferring model data ⠴ \u001B[?25h\u001B[?25l\u001B[2K\u001B[1Gtransferring model data ⠦ \u001B[?25h\u001B[?25l\u001B[2K\u001B[1Gtransferring model data ⠧ \u001B[?25h\u001B[?25l\u001B[2K\u001B[1Gtransferring model data ⠇ \u001B[?25h\u001B[?25l\u001B[2K\u001B[1Gtransferring model data ⠏ \u001B[?25h\u001B[?25l\u001B[2K\u001B[1Gtransferring model data ⠋ \u001B[?25h\u001B[?25l\u001B[2K\u001B[1Gtransferring model data ⠙ \u001B[?25h\u001B[?25l\u001B[2K\u001B[1Gtransferring model data ⠹ \u001B[?25h\u001B[?25l\u001B[2K\u001B[1Gtransferring model data ⠸ \u001B[?25h\u001B[?25l\u001B[2K\u001B[1Gtransferring model data ⠼ \u001B[?25h\u001B[?25l\u001B[2K\u001B[1Gtransferring model data ⠴ \u001B[?25h\u001B[?25l\u001B[2K\u001B[1Gtransferring model data ⠦ \u001B[?25h\u001B[?25l\u001B[2K\u001B[1Gtransferring model data ⠧ \u001B[?25h\u001B[?25l\u001B[2K\u001B[1Gtransferring model data ⠇ \u001B[?25h\u001B[?25l\u001B[2K\u001B[1Gtransferring model data ⠏ \u001B[?25h\u001B[?25l\u001B[2K\u001B[1Gtransferring model data ⠋ \u001B[?25h\u001B[?25l\u001B[2K\u001B[1Gtransferring model data ⠙ \u001B[?25h\u001B[?25l\u001B[2K\u001B[1Gtransferring model data ⠹ \u001B[?25h\u001B[?25l\u001B[2K\u001B[1Gtransferring model data ⠸ \u001B[?25h\u001B[?25l\u001B[2K\u001B[1Gtransferring model data ⠼ \u001B[?25h\u001B[?25l\u001B[2K\u001B[1Gtransferring model data ⠴ \u001B[?25h\u001B[?25l\u001B[2K\u001B[1Gtransferring model data ⠦ \u001B[?25h\u001B[?25l\u001B[2K\u001B[1Gtransferring model data ⠧ \u001B[?25h\u001B[?25l\u001B[2K\u001B[1Gtransferring model data ⠇ \u001B[?25h\u001B[?25l\u001B[2K\u001B[1Gtransferring model data ⠏ \u001B[?25h\u001B[?25l\u001B[2K\u001B[1Gtransferring model data ⠋ \u001B[?25h\u001B[?25l\u001B[2K\u001B[1Gtransferring model data ⠙ \u001B[?25h\u001B[?25l\u001B[2K\u001B[1Gtransferring model data ⠹ \u001B[?25h\u001B[?25l\u001B[2K\u001B[1Gtransferring model data ⠸ \u001B[?25h\u001B[?25l\u001B[2K\u001B[1Gtransferring model data ⠼ \u001B[?25h\u001B[?25l\u001B[2K\u001B[1Gtransferring model data ⠴ \u001B[?25h\u001B[?25l\u001B[2K\u001B[1Gtransferring model data ⠦ \u001B[?25h\u001B[?25l\u001B[2K\u001B[1Gtransferring model data ⠧ \u001B[?25h\u001B[?25l\u001B[2K\u001B[1Gtransferring model data ⠇ \u001B[?25h\u001B[?25l\u001B[2K\u001B[1Gtransferring model data ⠏ \u001B[?25h\u001B[?25l\u001B[2K\u001B[1Gtransferring model data ⠋ \u001B[?25h\u001B[?25l\u001B[2K\u001B[1Gtransferring model data ⠙ \u001B[?25h\u001B[?25l\u001B[2K\u001B[1Gtransferring model data ⠹ \u001B[?25h\u001B[?25l\u001B[2K\u001B[1Gtransferring model data ⠸ \u001B[?25h\u001B[?25l\u001B[2K\u001B[1Gtransferring model data ⠼ \u001B[?25h\u001B[?25l\u001B[2K\u001B[1Gtransferring model data ⠴ \u001B[?25h\u001B[?25l\u001B[2K\u001B[1Gtransferring model data ⠦ \u001B[?25h\u001B[?25l\u001B[2K\u001B[1Gtransferring model data ⠧ \u001B[?25h\u001B[?25l\u001B[2K\u001B[1Gtransferring model data ⠇ \u001B[?25h\u001B[?25l\u001B[2K\u001B[1Gtransferring model data ⠏ \u001B[?25h\u001B[?25l\u001B[2K\u001B[1Gtransferring model data ⠋ \u001B[?25h\u001B[?25l\u001B[2K\u001B[1Gtransferring model data ⠙ \u001B[?25h\u001B[?25l\u001B[2K\u001B[1Gtransferring model data ⠹ \u001B[?25h\u001B[?25l\u001B[2K\u001B[1Gtransferring model data ⠸ \u001B[?25h\u001B[?25l\u001B[2K\u001B[1Gtransferring model data ⠼ \u001B[?25h\u001B[?25l\u001B[2K\u001B[1Gtransferring model data ⠴ \u001B[?25h\u001B[?25l\u001B[2K\u001B[1Gtransferring model data ⠦ \u001B[?25h\u001B[?25l\u001B[2K\u001B[1Gtransferring model data ⠧ \u001B[?25h\u001B[?25l\u001B[2K\u001B[1Gtransferring model data ⠇ \u001B[?25h\u001B[?25l\u001B[2K\u001B[1Gtransferring model data ⠏ \u001B[?25h\u001B[?25l\u001B[2K\u001B[1Gtransferring model data ⠋ \u001B[?25h\u001B[?25l\u001B[2K\u001B[1Gtransferring model data ⠙ \u001B[?25h\u001B[?25l\u001B[2K\u001B[1Gtransferring model data ⠹ \u001B[?25h\u001B[?25l\u001B[2K\u001B[1Gtransferring model data ⠸ \u001B[?25h\u001B[?25l\u001B[2K\u001B[1Gtransferring model data ⠼ \u001B[?25h\u001B[?25l\u001B[2K\u001B[1Gtransferring model data ⠴ \u001B[?25h\u001B[?25l\u001B[2K\u001B[1Gtransferring model data ⠦ \u001B[?25h\u001B[?25l\u001B[2K\u001B[1Gtransferring model data ⠧ \u001B[?25h\u001B[?25l\u001B[2K\u001B[1Gtransferring model data ⠇ \u001B[?25h\u001B[?25l\u001B[2K\u001B[1Gtransferring model data ⠏ \u001B[?25h\u001B[?25l\u001B[2K\u001B[1Gtransferring model data ⠋ \u001B[?25h\u001B[?25l\u001B[2K\u001B[1Gtransferring model data ⠙ \u001B[?25h\u001B[?25l\u001B[2K\u001B[1Gtransferring model data ⠹ \u001B[?25h\u001B[?25l\u001B[2K\u001B[1Gtransferring model data ⠸ \u001B[?25h\u001B[?25l\u001B[2K\u001B[1Gtransferring model data ⠼ \u001B[?25h\u001B[?25l\u001B[2K\u001B[1Gtransferring model data ⠴ \u001B[?25h\u001B[?25l\u001B[2K\u001B[1Gtransferring model data ⠦ \u001B[?25h\u001B[?25l\u001B[2K\u001B[1Gtransferring model data ⠧ \u001B[?25h\u001B[?25l\u001B[2K\u001B[1Gtransferring model data ⠇ \u001B[?25h\u001B[?25l\u001B[2K\u001B[1Gtransferring model data ⠏ \u001B[?25h\u001B[?25l\u001B[2K\u001B[1Gtransferring model data ⠋ \u001B[?25h\u001B[?25l\u001B[2K\u001B[1Gtransferring model data ⠙ \u001B[?25h\u001B[?25l\u001B[2K\u001B[1Gtransferring model data ⠹ \u001B[?25h\u001B[?25l\u001B[2K\u001B[1Gtransferring model data ⠸ \u001B[?25h\u001B[?25l\u001B[2K\u001B[1Gtransferring model data ⠼ \u001B[?25h\u001B[?25l\u001B[2K\u001B[1Gtransferring model data ⠴ \u001B[?25h\u001B[?25l\u001B[2K\u001B[1Gtransferring model data ⠦ \u001B[?25h\u001B[?25l\u001B[2K\u001B[1Gtransferring model data ⠧ \u001B[?25h\u001B[?25l\u001B[2K\u001B[1Gtransferring model data ⠇ \u001B[?25h\u001B[?25l\u001B[2K\u001B[1Gtransferring model data ⠏ \u001B[?25h\u001B[?25l\u001B[2K\u001B[1Gtransferring model data ⠋ \u001B[?25h\u001B[?25l\u001B[2K\u001B[1Gtransferring model data ⠙ \u001B[?25h\u001B[?25l\u001B[2K\u001B[1Gtransferring model data ⠹ \u001B[?25h\u001B[?25l\u001B[2K\u001B[1Gtransferring model data ⠸ \u001B[?25h\u001B[?25l\u001B[2K\u001B[1Gtransferring model data ⠼ \u001B[?25h\u001B[?25l\u001B[2K\u001B[1Gtransferring model data ⠴ \u001B[?25h\u001B[?25l\u001B[2K\u001B[1Gtransferring model data ⠦ \u001B[?25h\u001B[?25l\u001B[2K\u001B[1Gtransferring model data ⠧ \u001B[?25h\u001B[?25l\u001B[2K\u001B[1Gtransferring model data ⠇ \u001B[?25h\u001B[?25l\u001B[2K\u001B[1Gtransferring model data ⠏ \u001B[?25h\u001B[?25l\u001B[2K\u001B[1Gtransferring model data ⠋ \u001B[?25h\u001B[?25l\u001B[2K\u001B[1Gtransferring model data ⠙ \u001B[?25h\u001B[?25l\u001B[2K\u001B[1Gtransferring model data ⠹ \u001B[?25h\u001B[?25l\u001B[2K\u001B[1Gtransferring model data ⠸ \u001B[?25h\u001B[?25l\u001B[2K\u001B[1Gtransferring model data ⠼ \u001B[?25h\u001B[?25l\u001B[2K\u001B[1Gtransferring model data ⠴ \u001B[?25h\u001B[?25l\u001B[2K\u001B[1Gtransferring model data ⠦ \u001B[?25h\u001B[?25l\u001B[2K\u001B[1Gtransferring model data ⠧ \u001B[?25h\u001B[?25l\u001B[2K\u001B[1Gtransferring model data ⠇ \u001B[?25h\u001B[?25l\u001B[2K\u001B[1Gtransferring model data ⠏ \u001B[?25h\u001B[?25l\u001B[2K\u001B[1Gtransferring model data ⠋ \u001B[?25h\u001B[?25l\u001B[2K\u001B[1Gtransferring model data ⠙ \u001B[?25h\u001B[?25l\u001B[2K\u001B[1Gtransferring model data ⠹ \u001B[?25h\u001B[?25l\u001B[2K\u001B[1Gtransferring model data ⠸ \u001B[?25h\u001B[?25l\u001B[2K\u001B[1Gtransferring model data ⠼ \u001B[?25h\u001B[?25l\u001B[2K\u001B[1Gtransferring model data ⠴ \u001B[?25h\u001B[?25l\u001B[2K\u001B[1Gtransferring model data ⠦ \u001B[?25h\u001B[?25l\u001B[2K\u001B[1Gtransferring model data ⠧ \u001B[?25h\u001B[?25l\u001B[2K\u001B[1Gtransferring model data ⠇ \u001B[?25h\u001B[?25l\u001B[2K\u001B[1Gtransferring model data ⠏ \u001B[?25h\u001B[?25l\u001B[2K\u001B[1Gtransferring model data ⠋ \u001B[?25h\u001B[?25l\u001B[2K\u001B[1Gtransferring model data ⠙ \u001B[?25h\u001B[?25l\u001B[2K\u001B[1Gtransferring model data ⠹ \u001B[?25h\u001B[?25l\u001B[2K\u001B[1Gtransferring model data ⠸ \u001B[?25h\u001B[?25l\u001B[2K\u001B[1Gtransferring model data ⠼ \u001B[?25h\u001B[?25l\u001B[2K\u001B[1Gtransferring model data ⠴ \u001B[?25h\u001B[?25l\u001B[2K\u001B[1Gtransferring model data ⠦ \u001B[?25h\u001B[?25l\u001B[2K\u001B[1Gtransferring model data ⠧ \u001B[?25h\u001B[?25l\u001B[2K\u001B[1Gtransferring model data ⠇ \u001B[?25h\u001B[?25l\u001B[2K\u001B[1Gtransferring model data ⠏ \u001B[?25h\u001B[?25l\u001B[2K\u001B[1Gtransferring model data ⠋ \u001B[?25h\u001B[?25l\u001B[2K\u001B[1Gtransferring model data ⠙ \u001B[?25h\u001B[?25l\u001B[2K\u001B[1Gtransferring model data ⠹ \u001B[?25h\u001B[?25l\u001B[2K\u001B[1Gtransferring model data ⠸ \u001B[?25h\u001B[?25l\u001B[2K\u001B[1Gtransferring model data ⠼ \u001B[?25h\u001B[?25l\u001B[2K\u001B[1Gtransferring model data ⠴ \u001B[?25h\u001B[?25l\u001B[2K\u001B[1Gtransferring model data ⠦ \u001B[?25h\u001B[?25l\u001B[2K\u001B[1Gtransferring model data ⠧ \u001B[?25h\u001B[?25l\u001B[2K\u001B[1Gtransferring model data ⠇ \u001B[?25h\u001B[?25l\u001B[2K\u001B[1Gtransferring model data ⠏ \u001B[?25h\u001B[?25l\u001B[2K\u001B[1Gtransferring model data ⠋ \u001B[?25h\u001B[?25l\u001B[2K\u001B[1Gtransferring model data ⠙ \u001B[?25h\u001B[?25l\u001B[2K\u001B[1Gtransferring model data ⠹ \u001B[?25h\u001B[?25l\u001B[2K\u001B[1Gtransferring model data ⠸ \u001B[?25h\u001B[?25l\u001B[2K\u001B[1Gtransferring model data ⠼ \u001B[?25h\u001B[?25l\u001B[2K\u001B[1Gtransferring model data ⠴ \u001B[?25h\u001B[?25l\u001B[2K\u001B[1Gtransferring model data ⠦ \u001B[?25h\u001B[?25l\u001B[2K\u001B[1Gtransferring model data ⠧ \u001B[?25h\u001B[?25l\u001B[2K\u001B[1Gtransferring model data ⠇ \u001B[?25h\u001B[?25l\u001B[2K\u001B[1Gtransferring model data ⠏ \u001B[?25h\u001B[?25l\u001B[2K\u001B[1Gtransferring model data ⠋ \u001B[?25h\u001B[?25l\u001B[2K\u001B[1Gtransferring model data ⠙ \u001B[?25h\u001B[?25l\u001B[2K\u001B[1Gtransferring model data ⠹ \u001B[?25h\u001B[?25l\u001B[2K\u001B[1Gtransferring model data ⠸ \u001B[?25h\u001B[?25l\u001B[2K\u001B[1Gtransferring model data ⠼ \u001B[?25h\u001B[?25l\u001B[2K\u001B[1Gtransferring model data ⠴ \u001B[?25h\u001B[?25l\u001B[2K\u001B[1Gtransferring model data ⠦ \u001B[?25h\u001B[?25l\u001B[2K\u001B[1Gtransferring model data ⠧ \u001B[?25h\u001B[?25l\u001B[2K\u001B[1Gtransferring model data ⠇ \u001B[?25h\u001B[?25l\u001B[2K\u001B[1Gtransferring model data ⠏ \u001B[?25h\u001B[?25l\u001B[2K\u001B[1Gtransferring model data ⠋ \u001B[?25h\u001B[?25l\u001B[2K\u001B[1Gtransferring model data ⠙ \u001B[?25h\u001B[?25l\u001B[2K\u001B[1Gtransferring model data ⠹ \u001B[?25h\u001B[?25l\u001B[2K\u001B[1Gtransferring model data ⠸ \u001B[?25h\u001B[?25l\u001B[2K\u001B[1Gtransferring model data ⠼ \u001B[?25h\u001B[?25l\u001B[2K\u001B[1Gtransferring model data ⠴ \u001B[?25h\u001B[?25l\u001B[2K\u001B[1Gtransferring model data ⠦ \u001B[?25h\u001B[?25l\u001B[2K\u001B[1Gtransferring model data ⠧ \u001B[?25h\u001B[?25l\u001B[2K\u001B[1Gtransferring model data ⠇ \u001B[?25h\u001B[?25l\u001B[2K\u001B[1Gtransferring model data ⠏ \u001B[?25h\u001B[?25l\u001B[2K\u001B[1Gtransferring model data ⠋ \u001B[?25h\u001B[?25l\u001B[2K\u001B[1Gtransferring model data ⠙ \u001B[?25h\u001B[?25l\u001B[2K\u001B[1Gtransferring model data ⠹ \u001B[?25h\u001B[?25l\u001B[2K\u001B[1Gtransferring model data ⠸ \u001B[?25h\u001B[?25l\u001B[2K\u001B[1Gtransferring model data ⠼ \u001B[?25h\u001B[?25l\u001B[2K\u001B[1Gtransferring model data ⠴ \u001B[?25h\u001B[?25l\u001B[2K\u001B[1Gtransferring model data ⠦ \u001B[?25h\u001B[?25l\u001B[2K\u001B[1Gtransferring model data ⠧ \u001B[?25h\u001B[?25l\u001B[2K\u001B[1Gtransferring model data ⠇ \u001B[?25h\u001B[?25l\u001B[2K\u001B[1Gtransferring model data ⠏ \u001B[?25h\u001B[?25l\u001B[2K\u001B[1Gtransferring model data ⠋ \u001B[?25h\u001B[?25l\u001B[2K\u001B[1Gtransferring model data ⠙ \u001B[?25h\u001B[?25l\u001B[2K\u001B[1Gtransferring model data ⠹ \u001B[?25h\u001B[?25l\u001B[2K\u001B[1Gtransferring model data ⠸ \u001B[?25h\u001B[?25l\u001B[2K\u001B[1Gtransferring model data ⠼ \u001B[?25h\u001B[?25l\u001B[2K\u001B[1Gtransferring model data ⠴ \u001B[?25h\u001B[?25l\u001B[2K\u001B[1Gtransferring model data ⠦ \u001B[?25h\u001B[?25l\u001B[2K\u001B[1Gtransferring model data ⠧ \u001B[?25h\u001B[?25l\u001B[2K\u001B[1Gtransferring model data ⠇ \u001B[?25h\u001B[?25l\u001B[2K\u001B[1Gtransferring model data ⠏ \u001B[?25h\u001B[?25l\u001B[2K\u001B[1Gtransferring model data ⠋ \u001B[?25h\u001B[?25l\u001B[2K\u001B[1Gtransferring model data ⠙ \u001B[?25h\u001B[?25l\u001B[2K\u001B[1Gtransferring model data ⠹ \u001B[?25h\u001B[?25l\u001B[2K\u001B[1Gtransferring model data ⠸ \u001B[?25h\u001B[?25l\u001B[2K\u001B[1Gtransferring model data ⠼ \u001B[?25h\u001B[?25l\u001B[2K\u001B[1Gtransferring model data ⠴ \u001B[?25h\u001B[?25l\u001B[2K\u001B[1Gtransferring model data ⠦ \u001B[?25h\u001B[?25l\u001B[2K\u001B[1Gtransferring model data ⠧ \u001B[?25h\u001B[?25l\u001B[2K\u001B[1Gtransferring model data ⠇ \u001B[?25h\u001B[?25l\u001B[2K\u001B[1Gtransferring model data ⠏ \u001B[?25h\u001B[?25l\u001B[2K\u001B[1Gtransferring model data ⠋ \u001B[?25h\u001B[?25l\u001B[2K\u001B[1Gtransferring model data ⠙ \u001B[?25h\u001B[?25l\u001B[2K\u001B[1Gtransferring model data ⠹ \u001B[?25h\u001B[?25l\u001B[2K\u001B[1Gtransferring model data ⠸ \u001B[?25h\u001B[?25l\u001B[2K\u001B[1Gtransferring model data ⠼ \u001B[?25h\u001B[?25l\u001B[2K\u001B[1Gtransferring model data ⠴ \u001B[?25h\u001B[?25l\u001B[2K\u001B[1Gtransferring model data ⠦ \u001B[?25h\u001B[?25l\u001B[2K\u001B[1Gtransferring model data ⠧ \u001B[?25h\u001B[?25l\u001B[2K\u001B[1Gtransferring model data ⠇ \u001B[?25h\u001B[?25l\u001B[2K\u001B[1Gtransferring model data ⠏ \u001B[?25h\u001B[?25l\u001B[2K\u001B[1Gtransferring model data ⠋ \u001B[?25h\u001B[?25l\u001B[2K\u001B[1Gtransferring model data ⠙ \u001B[?25h\u001B[?25l\u001B[2K\u001B[1Gtransferring model data ⠹ \u001B[?25h\u001B[?25l\u001B[2K\u001B[1Gtransferring model data ⠸ \u001B[?25h\u001B[?25l\u001B[2K\u001B[1Gtransferring model data ⠼ \u001B[?25h\u001B[?25l\u001B[2K\u001B[1Gtransferring model data ⠴ \u001B[?25h\u001B[?25l\u001B[2K\u001B[1Gtransferring model data ⠦ \u001B[?25h\u001B[?25l\u001B[2K\u001B[1Gtransferring model data ⠧ \u001B[?25h\u001B[?25l\u001B[2K\u001B[1Gtransferring model data ⠇ \u001B[?25h\u001B[?25l\u001B[2K\u001B[1Gtransferring model data ⠏ \u001B[?25h\u001B[?25l\u001B[2K\u001B[1Gtransferring model data ⠋ \u001B[?25h\u001B[?25l\u001B[2K\u001B[1Gtransferring model data ⠙ \u001B[?25h\u001B[?25l\u001B[2K\u001B[1Gtransferring model data ⠹ \u001B[?25h\u001B[?25l\u001B[2K\u001B[1Gtransferring model data ⠸ \u001B[?25h\u001B[?25l\u001B[2K\u001B[1Gtransferring model data ⠼ \u001B[?25h\u001B[?25l\u001B[2K\u001B[1Gtransferring model data ⠴ \u001B[?25h\u001B[?25l\u001B[2K\u001B[1Gtransferring model data ⠦ \u001B[?25h\u001B[?25l\u001B[2K\u001B[1Gtransferring model data ⠧ \u001B[?25h\u001B[?25l\u001B[2K\u001B[1Gtransferring model data ⠇ \u001B[?25h\u001B[?25l\u001B[2K\u001B[1Gtransferring model data ⠏ \u001B[?25h\u001B[?25l\u001B[2K\u001B[1Gtransferring model data ⠋ \u001B[?25h\u001B[?25l\u001B[2K\u001B[1Gtransferring model data ⠙ \u001B[?25h\u001B[?25l\u001B[2K\u001B[1Gtransferring model data ⠹ \u001B[?25h\u001B[?25l\u001B[2K\u001B[1Gtransferring model data ⠸ \u001B[?25h\u001B[?25l\u001B[2K\u001B[1Gtransferring model data ⠼ \u001B[?25h\u001B[?25l\u001B[2K\u001B[1Gtransferring model data ⠴ \u001B[?25h\u001B[?25l\u001B[2K\u001B[1Gtransferring model data ⠦ \u001B[?25h\u001B[?25l\u001B[2K\u001B[1Gtransferring model data ⠧ \u001B[?25h\u001B[?25l\u001B[2K\u001B[1Gtransferring model data ⠇ \u001B[?25h\u001B[?25l\u001B[2K\u001B[1Gtransferring model data ⠏ \u001B[?25h\u001B[?25l\u001B[2K\u001B[1Gtransferring model data ⠋ \u001B[?25h\u001B[?25l\u001B[2K\u001B[1Gtransferring model data ⠙ \u001B[?25h\u001B[?25l\u001B[2K\u001B[1Gtransferring model data ⠹ \u001B[?25h\u001B[?25l\u001B[2K\u001B[1Gtransferring model data ⠸ \u001B[?25h\u001B[?25l\u001B[2K\u001B[1Gtransferring model data ⠼ \u001B[?25h\u001B[?25l\u001B[2K\u001B[1Gtransferring model data ⠴ \u001B[?25h\u001B[?25l\u001B[2K\u001B[1Gtransferring model data ⠦ \u001B[?25h\u001B[?25l\u001B[2K\u001B[1Gtransferring model data ⠧ \u001B[?25h\u001B[?25l\u001B[2K\u001B[1Gtransferring model data ⠇ \u001B[?25h\u001B[?25l\u001B[2K\u001B[1Gtransferring model data ⠏ \u001B[?25h\u001B[?25l\u001B[2K\u001B[1Gtransferring model data ⠋ \u001B[?25h\u001B[?25l\u001B[2K\u001B[1Gtransferring model data ⠙ \u001B[?25h\u001B[?25l\u001B[2K\u001B[1Gtransferring model data ⠹ \u001B[?25h\u001B[?25l\u001B[2K\u001B[1Gtransferring model data ⠸ \u001B[?25h\u001B[?25l\u001B[2K\u001B[1Gtransferring model data ⠼ \u001B[?25h\u001B[?25l\u001B[2K\u001B[1Gtransferring model data ⠴ \u001B[?25h\u001B[?25l\u001B[2K\u001B[1Gtransferring model data ⠦ \u001B[?25h\u001B[?25l\u001B[2K\u001B[1Gtransferring model data ⠧ \u001B[?25h\u001B[?25l\u001B[2K\u001B[1Gtransferring model data ⠇ \u001B[?25h\u001B[?25l\u001B[2K\u001B[1Gtransferring model data ⠏ \u001B[?25h\u001B[?25l\u001B[2K\u001B[1Gtransferring model data ⠋ \u001B[?25h\u001B[?25l\u001B[2K\u001B[1Gtransferring model data ⠙ \u001B[?25h\u001B[?25l\u001B[2K\u001B[1Gtransferring model data ⠹ \u001B[?25h\u001B[?25l\u001B[2K\u001B[1Gtransferring model data ⠸ \u001B[?25h\u001B[?25l\u001B[2K\u001B[1Gtransferring model data ⠼ \u001B[?25h\u001B[?25l\u001B[2K\u001B[1Gtransferring model data ⠴ \u001B[?25h\u001B[?25l\u001B[2K\u001B[1Gtransferring model data ⠦ \u001B[?25h\u001B[?25l\u001B[2K\u001B[1Gtransferring model data ⠧ \u001B[?25h\u001B[?25l\u001B[2K\u001B[1Gtransferring model data ⠇ \u001B[?25h\u001B[?25l\u001B[2K\u001B[1Gtransferring model data ⠏ \u001B[?25h\u001B[?25l\u001B[2K\u001B[1Gtransferring model data ⠋ \u001B[?25h\u001B[?25l\u001B[2K\u001B[1Gtransferring model data ⠙ \u001B[?25h\u001B[?25l\u001B[2K\u001B[1Gtransferring model data ⠹ \u001B[?25h\u001B[?25l\u001B[2K\u001B[1Gtransferring model data ⠸ \u001B[?25h\u001B[?25l\u001B[2K\u001B[1Gtransferring model data ⠼ \u001B[?25h\u001B[?25l\u001B[2K\u001B[1Gtransferring model data ⠴ \u001B[?25h\u001B[?25l\u001B[2K\u001B[1Gtransferring model data ⠦ \u001B[?25h\u001B[?25l\u001B[2K\u001B[1Gtransferring model data ⠧ \u001B[?25h\u001B[?25l\u001B[2K\u001B[1Gtransferring model data ⠇ \u001B[?25h\u001B[?25l\u001B[2K\u001B[1Gtransferring model data ⠏ \u001B[?25h\u001B[?25l\u001B[2K\u001B[1Gtransferring model data ⠋ \u001B[?25h\u001B[?25l\u001B[2K\u001B[1Gtransferring model data ⠙ \u001B[?25h\u001B[?25l\u001B[2K\u001B[1Gtransferring model data ⠹ \u001B[?25h\u001B[?25l\u001B[2K\u001B[1Gtransferring model data ⠸ \u001B[?25h\u001B[?25l\u001B[2K\u001B[1Gtransferring model data ⠼ \u001B[?25h\u001B[?25l\u001B[2K\u001B[1Gtransferring model data ⠴ \u001B[?25h\u001B[?25l\u001B[2K\u001B[1Gtransferring model data ⠦ \u001B[?25h\u001B[?25l\u001B[2K\u001B[1Gtransferring model data ⠧ \u001B[?25h\u001B[?25l\u001B[2K\u001B[1Gtransferring model data ⠇ \u001B[?25h\u001B[?25l\u001B[2K\u001B[1Gtransferring model data ⠏ \u001B[?25h\u001B[?25l\u001B[2K\u001B[1Gtransferring model data ⠋ \u001B[?25h\u001B[?25l\u001B[2K\u001B[1Gtransferring model data ⠙ \u001B[?25h\u001B[?25l\u001B[2K\u001B[1Gtransferring model data ⠹ \u001B[?25h\u001B[?25l\u001B[2K\u001B[1Gtransferring model data ⠸ \u001B[?25h\u001B[?25l\u001B[2K\u001B[1Gtransferring model data ⠼ \u001B[?25h\u001B[?25l\u001B[2K\u001B[1Gtransferring model data ⠴ \u001B[?25h\u001B[?25l\u001B[2K\u001B[1Gtransferring model data ⠦ \u001B[?25h\u001B[?25l\u001B[2K\u001B[1Gtransferring model data ⠧ \u001B[?25h\u001B[?25l\u001B[2K\u001B[1Gtransferring model data ⠇ \u001B[?25h\u001B[?25l\u001B[2K\u001B[1Gtransferring model data ⠏ \u001B[?25h\u001B[?25l\u001B[2K\u001B[1Gtransferring model data ⠋ \u001B[?25h\u001B[?25l\u001B[2K\u001B[1Gtransferring model data ⠙ \u001B[?25h\u001B[?25l\u001B[2K\u001B[1Gtransferring model data ⠹ \u001B[?25h\u001B[?25l\u001B[2K\u001B[1Gtransferring model data ⠸ \u001B[?25h\u001B[?25l\u001B[2K\u001B[1Gtransferring model data ⠼ \u001B[?25h\u001B[?25l\u001B[2K\u001B[1Gtransferring model data ⠴ \u001B[?25h\u001B[?25l\u001B[2K\u001B[1Gtransferring model data ⠦ \u001B[?25h\u001B[?25l\u001B[2K\u001B[1Gtransferring model data ⠧ \u001B[?25h\u001B[?25l\u001B[2K\u001B[1Gtransferring model data ⠇ \u001B[?25h\u001B[?25l\u001B[2K\u001B[1Gtransferring model data ⠏ \u001B[?25h\u001B[?25l\u001B[2K\u001B[1Gtransferring model data ⠋ \u001B[?25h\u001B[?25l\u001B[2K\u001B[1Gtransferring model data ⠙ \u001B[?25h\u001B[?25l\u001B[2K\u001B[1Gtransferring model data ⠹ \u001B[?25h\u001B[?25l\u001B[2K\u001B[1Gtransferring model data ⠸ \u001B[?25h\u001B[?25l\u001B[2K\u001B[1Gtransferring model data ⠼ \u001B[?25h\u001B[?25l\u001B[2K\u001B[1Gtransferring model data ⠴ \u001B[?25h\u001B[?25l\u001B[2K\u001B[1Gtransferring model data ⠦ \u001B[?25h\u001B[?25l\u001B[2K\u001B[1Gtransferring model data ⠧ \u001B[?25h\u001B[?25l\u001B[2K\u001B[1Gtransferring model data ⠇ \u001B[?25h\u001B[?25l\u001B[2K\u001B[1Gtransferring model data ⠏ \u001B[?25h\u001B[?25l\u001B[2K\u001B[1Gtransferring model data ⠋ \u001B[?25h\u001B[?25l\u001B[2K\u001B[1Gtransferring model data ⠙ \u001B[?25h\u001B[?25l\u001B[2K\u001B[1Gtransferring model data ⠹ \u001B[?25h\u001B[?25l\u001B[2K\u001B[1Gtransferring model data ⠸ \u001B[?25h\u001B[?25l\u001B[2K\u001B[1Gtransferring model data ⠼ \u001B[?25h\u001B[?25l\u001B[2K\u001B[1Gtransferring model data ⠴ \u001B[?25h\u001B[?25l\u001B[2K\u001B[1Gtransferring model data ⠦ \u001B[?25h\u001B[?25l\u001B[2K\u001B[1Gtransferring model data ⠧ \u001B[?25h\u001B[?25l\u001B[2K\u001B[1Gtransferring model data ⠇ \u001B[?25h\u001B[?25l\u001B[2K\u001B[1Gtransferring model data ⠏ \u001B[?25h\u001B[?25l\u001B[2K\u001B[1Gtransferring model data ⠋ \u001B[?25h\u001B[?25l\u001B[2K\u001B[1Gtransferring model data ⠙ \u001B[?25h\u001B[?25l\u001B[2K\u001B[1Gtransferring model data ⠹ \u001B[?25h\u001B[?25l\u001B[2K\u001B[1Gtransferring model data ⠸ \u001B[?25h\u001B[?25l\u001B[2K\u001B[1Gtransferring model data ⠼ \u001B[?25h\u001B[?25l\u001B[2K\u001B[1Gtransferring model data ⠴ \u001B[?25h\u001B[?25l\u001B[2K\u001B[1Gtransferring model data ⠦ \u001B[?25h\u001B[?25l\u001B[2K\u001B[1Gtransferring model data ⠧ \u001B[?25h\u001B[?25l\u001B[2K\u001B[1Gtransferring model data ⠇ \u001B[?25h\u001B[?25l\u001B[2K\u001B[1Gtransferring model data ⠏ \u001B[?25h\u001B[?25l\u001B[2K\u001B[1Gtransferring model data ⠋ \u001B[?25h\u001B[?25l\u001B[2K\u001B[1Gtransferring model data ⠙ \u001B[?25h\u001B[?25l\u001B[2K\u001B[1Gtransferring model data ⠹ \u001B[?25h\u001B[?25l\u001B[2K\u001B[1Gtransferring model data ⠸ \u001B[?25h\u001B[?25l\u001B[2K\u001B[1Gtransferring model data ⠼ \u001B[?25h\u001B[?25l\u001B[2K\u001B[1Gtransferring model data ⠴ \u001B[?25h\u001B[?25l\u001B[2K\u001B[1Gtransferring model data ⠦ \u001B[?25h\u001B[?25l\u001B[2K\u001B[1Gtransferring model data ⠧ \u001B[?25h\u001B[?25l\u001B[2K\u001B[1Gtransferring model data ⠇ \u001B[?25h\u001B[?25l\u001B[2K\u001B[1Gtransferring model data ⠏ \u001B[?25h\u001B[?25l\u001B[2K\u001B[1Gtransferring model data ⠋ \u001B[?25h\u001B[?25l\u001B[2K\u001B[1Gtransferring model data ⠙ \u001B[?25h\u001B[?25l\u001B[2K\u001B[1Gtransferring model data ⠹ \u001B[?25h\u001B[?25l\u001B[2K\u001B[1Gtransferring model data ⠸ \u001B[?25h\u001B[?25l\u001B[2K\u001B[1Gtransferring model data ⠼ \u001B[?25h\u001B[?25l\u001B[2K\u001B[1Gtransferring model data ⠴ \u001B[?25h\u001B[?25l\u001B[2K\u001B[1Gtransferring model data ⠦ \u001B[?25h\u001B[?25l\u001B[2K\u001B[1Gtransferring model data ⠧ \u001B[?25h\u001B[?25l\u001B[2K\u001B[1Gtransferring model data ⠇ \u001B[?25h\u001B[?25l\u001B[2K\u001B[1Gtransferring model data ⠏ \u001B[?25h\u001B[?25l\u001B[2K\u001B[1Gtransferring model data ⠋ \u001B[?25h\u001B[?25l\u001B[2K\u001B[1Gtransferring model data ⠙ \u001B[?25h\u001B[?25l\u001B[2K\u001B[1Gtransferring model data ⠹ \u001B[?25h\u001B[?25l\u001B[2K\u001B[1Gtransferring model data ⠸ \u001B[?25h\u001B[?25l\u001B[2K\u001B[1Gtransferring model data ⠼ \u001B[?25h\u001B[?25l\u001B[2K\u001B[1Gtransferring model data ⠴ \u001B[?25h\u001B[?25l\u001B[2K\u001B[1Gtransferring model data ⠦ \u001B[?25h\u001B[?25l\u001B[2K\u001B[1Gtransferring model data ⠧ \u001B[?25h\u001B[?25l\u001B[2K\u001B[1Gtransferring model data ⠇ \u001B[?25h\u001B[?25l\u001B[2K\u001B[1Gtransferring model data ⠏ \u001B[?25h\u001B[?25l\u001B[2K\u001B[1Gtransferring model data ⠋ \u001B[?25h\u001B[?25l\u001B[2K\u001B[1Gtransferring model data ⠙ \u001B[?25h\u001B[?25l\u001B[2K\u001B[1Gtransferring model data ⠹ \u001B[?25h\u001B[?25l\u001B[2K\u001B[1Gtransferring model data ⠸ \u001B[?25h\u001B[?25l\u001B[2K\u001B[1Gtransferring model data ⠼ \u001B[?25h\u001B[?25l\u001B[2K\u001B[1Gtransferring model data ⠴ \u001B[?25h\u001B[?25l\u001B[2K\u001B[1Gtransferring model data ⠦ \u001B[?25h\u001B[?25l\u001B[2K\u001B[1Gtransferring model data ⠧ \u001B[?25h\u001B[?25l\u001B[2K\u001B[1Gtransferring model data ⠇ \u001B[?25h\u001B[?25l\u001B[2K\u001B[1Gtransferring model data ⠏ \u001B[?25h\u001B[?25l\u001B[2K\u001B[1Gtransferring model data ⠋ \u001B[?25h\u001B[?25l\u001B[2K\u001B[1Gtransferring model data ⠙ \u001B[?25h\u001B[?25l\u001B[2K\u001B[1Gtransferring model data ⠹ \u001B[?25h\u001B[?25l\u001B[2K\u001B[1Gtransferring model data ⠸ \u001B[?25h\u001B[?25l\u001B[2K\u001B[1Gtransferring model data ⠼ \u001B[?25h\u001B[?25l\u001B[2K\u001B[1Gtransferring model data ⠴ \u001B[?25h\u001B[?25l\u001B[2K\u001B[1Gtransferring model data ⠦ \u001B[?25h\u001B[?25l\u001B[2K\u001B[1Gtransferring model data ⠧ \u001B[?25h\u001B[?25l\u001B[2K\u001B[1Gtransferring model data ⠇ \u001B[?25h\u001B[?25l\u001B[2K\u001B[1Gtransferring model data ⠏ \u001B[?25h\u001B[?25l\u001B[2K\u001B[1Gtransferring model data ⠋ \u001B[?25h\u001B[?25l\u001B[2K\u001B[1Gtransferring model data ⠙ \u001B[?25h\u001B[?25l\u001B[2K\u001B[1Gtransferring model data ⠹ \u001B[?25h\u001B[?25l\u001B[2K\u001B[1Gtransferring model data ⠸ \u001B[?25h\u001B[?25l\u001B[2K\u001B[1Gtransferring model data ⠼ \u001B[?25h\u001B[?25l\u001B[2K\u001B[1Gtransferring model data ⠴ \u001B[?25h\u001B[?25l\u001B[2K\u001B[1Gtransferring model data ⠦ \u001B[?25h\u001B[?25l\u001B[2K\u001B[1Gtransferring model data ⠧ \u001B[?25h\u001B[?25l\u001B[2K\u001B[1Gtransferring model data ⠇ \u001B[?25h\u001B[?25l\u001B[2K\u001B[1Gtransferring model data ⠏ \u001B[?25h\u001B[?25l\u001B[2K\u001B[1Gtransferring model data ⠋ \u001B[?25h\u001B[?25l\u001B[2K\u001B[1Gtransferring model data ⠙ \u001B[?25h\u001B[?25l\u001B[2K\u001B[1Gtransferring model data ⠹ \u001B[?25h\u001B[?25l\u001B[2K\u001B[1Gtransferring model data ⠸ \u001B[?25h\u001B[?25l\u001B[2K\u001B[1Gtransferring model data ⠼ \u001B[?25h\u001B[?25l\u001B[2K\u001B[1Gtransferring model data ⠴ \u001B[?25h\u001B[?25l\u001B[2K\u001B[1Gtransferring model data ⠦ \u001B[?25h\u001B[?25l\u001B[2K\u001B[1Gtransferring model data ⠧ \u001B[?25h\u001B[?25l\u001B[2K\u001B[1Gtransferring model data ⠇ \u001B[?25h\u001B[?25l\u001B[2K\u001B[1Gtransferring model data ⠏ \u001B[?25h\u001B[?25l\u001B[2K\u001B[1Gtransferring model data ⠋ \u001B[?25h\u001B[?25l\u001B[2K\u001B[1Gtransferring model data ⠙ \u001B[?25h\u001B[?25l\u001B[2K\u001B[1Gtransferring model data ⠹ \u001B[?25h\u001B[?25l\u001B[2K\u001B[1Gtransferring model data ⠸ \u001B[?25h\u001B[?25l\u001B[2K\u001B[1Gtransferring model data ⠼ \u001B[?25h\u001B[?25l\u001B[2K\u001B[1Gtransferring model data ⠴ \u001B[?25h\u001B[?25l\u001B[2K\u001B[1Gtransferring model data ⠦ \u001B[?25h\u001B[?25l\u001B[2K\u001B[1Gtransferring model data ⠧ \u001B[?25h\u001B[?25l\u001B[2K\u001B[1Gtransferring model data ⠇ \u001B[?25h\u001B[?25l\u001B[2K\u001B[1Gtransferring model data ⠏ \u001B[?25h\u001B[?25l\u001B[2K\u001B[1Gtransferring model data ⠋ \u001B[?25h\u001B[?25l\u001B[2K\u001B[1Gtransferring model data ⠙ \u001B[?25h\u001B[?25l\u001B[2K\u001B[1Gtransferring model data ⠹ \u001B[?25h\u001B[?25l\u001B[2K\u001B[1Gtransferring model data ⠸ \u001B[?25h\u001B[?25l\u001B[2K\u001B[1Gtransferring model data ⠼ \u001B[?25h\u001B[?25l\u001B[2K\u001B[1Gtransferring model data ⠴ \u001B[?25h\u001B[?25l\u001B[2K\u001B[1Gtransferring model data ⠦ \u001B[?25h\u001B[?25l\u001B[2K\u001B[1Gtransferring model data ⠧ \u001B[?25h\u001B[?25l\u001B[2K\u001B[1Gtransferring model data ⠇ \u001B[?25h\u001B[?25l\u001B[2K\u001B[1Gtransferring model data ⠏ \u001B[?25h\u001B[?25l\u001B[2K\u001B[1Gtransferring model data ⠋ \u001B[?25h\u001B[?25l\u001B[2K\u001B[1Gtransferring model data ⠙ \u001B[?25h\u001B[?25l\u001B[2K\u001B[1Gtransferring model data ⠹ \u001B[?25h\u001B[?25l\u001B[2K\u001B[1Gtransferring model data ⠸ \u001B[?25h\u001B[?25l\u001B[2K\u001B[1Gtransferring model data ⠼ \u001B[?25h\u001B[?25l\u001B[2K\u001B[1Gtransferring model data ⠴ \u001B[?25h\u001B[?25l\u001B[2K\u001B[1Gtransferring model data ⠦ \u001B[?25h\u001B[?25l\u001B[2K\u001B[1Gtransferring model data ⠧ \u001B[?25h\u001B[?25l\u001B[2K\u001B[1Gtransferring model data ⠇ \u001B[?25h\u001B[?25l\u001B[2K\u001B[1Gtransferring model data ⠏ \u001B[?25h\u001B[?25l\u001B[2K\u001B[1Gtransferring model data ⠋ \u001B[?25h\u001B[?25l\u001B[2K\u001B[1Gtransferring model data ⠙ \u001B[?25h\u001B[?25l\u001B[2K\u001B[1Gtransferring model data ⠹ \u001B[?25h\u001B[?25l\u001B[2K\u001B[1Gtransferring model data ⠸ \u001B[?25h\u001B[?25l\u001B[2K\u001B[1Gtransferring model data ⠼ \u001B[?25h\u001B[?25l\u001B[2K\u001B[1Gtransferring model data ⠴ \u001B[?25h\u001B[?25l\u001B[2K\u001B[1Gtransferring model data ⠦ \u001B[?25h\u001B[?25l\u001B[2K\u001B[1Gtransferring model data ⠧ \u001B[?25h\u001B[?25l\u001B[2K\u001B[1Gtransferring model data ⠇ \u001B[?25h\u001B[?25l\u001B[2K\u001B[1Gtransferring model data ⠏ \u001B[?25h\u001B[?25l\u001B[2K\u001B[1Gtransferring model data ⠋ \u001B[?25h\u001B[?25l\u001B[2K\u001B[1Gtransferring model data ⠙ \u001B[?25h\u001B[?25l\u001B[2K\u001B[1Gtransferring model data ⠹ \u001B[?25h\u001B[?25l\u001B[2K\u001B[1Gtransferring model data ⠸ \u001B[?25h\u001B[?25l\u001B[2K\u001B[1Gtransferring model data ⠼ \u001B[?25h\u001B[?25l\u001B[2K\u001B[1Gtransferring model data ⠴ \u001B[?25h\u001B[?25l\u001B[2K\u001B[1Gtransferring model data ⠦ \u001B[?25h\u001B[?25l\u001B[2K\u001B[1Gtransferring model data ⠧ \u001B[?25h\u001B[?25l\u001B[2K\u001B[1Gtransferring model data ⠇ \u001B[?25h\u001B[?25l\u001B[2K\u001B[1Gtransferring model data ⠏ \u001B[?25h\u001B[?25l\u001B[2K\u001B[1Gtransferring model data ⠋ \u001B[?25h\u001B[?25l\u001B[2K\u001B[1Gtransferring model data ⠙ \u001B[?25h\u001B[?25l\u001B[2K\u001B[1Gtransferring model data ⠹ \u001B[?25h\u001B[?25l\u001B[2K\u001B[1Gtransferring model data ⠸ \u001B[?25h\u001B[?25l\u001B[2K\u001B[1Gtransferring model data ⠼ \u001B[?25h\u001B[?25l\u001B[2K\u001B[1Gtransferring model data ⠴ \u001B[?25h\u001B[?25l\u001B[2K\u001B[1Gtransferring model data ⠦ \u001B[?25h\u001B[?25l\u001B[2K\u001B[1Gtransferring model data ⠧ \u001B[?25h\u001B[?25l\u001B[2K\u001B[1Gtransferring model data ⠇ \u001B[?25h\u001B[?25l\u001B[2K\u001B[1Gtransferring model data ⠏ \u001B[?25h\u001B[?25l\u001B[2K\u001B[1Gtransferring model data ⠋ \u001B[?25h\u001B[?25l\u001B[2K\u001B[1Gtransferring model data ⠙ \u001B[?25h\u001B[?25l\u001B[2K\u001B[1Gtransferring model data ⠹ \u001B[?25h\u001B[?25l\u001B[2K\u001B[1Gtransferring model data ⠸ \u001B[?25h\u001B[?25l\u001B[2K\u001B[1Gtransferring model data ⠼ \u001B[?25h\u001B[?25l\u001B[2K\u001B[1Gtransferring model data ⠴ \u001B[?25h\u001B[?25l\u001B[2K\u001B[1Gtransferring model data ⠦ \u001B[?25h\u001B[?25l\u001B[2K\u001B[1Gtransferring model data ⠧ \u001B[?25h\u001B[?25l\u001B[2K\u001B[1Gtransferring model data ⠇ \u001B[?25h\u001B[?25l\u001B[2K\u001B[1Gtransferring model data ⠏ \u001B[?25h\u001B[?25l\u001B[2K\u001B[1Gtransferring model data ⠋ \u001B[?25h\u001B[?25l\u001B[2K\u001B[1Gtransferring model data ⠙ \u001B[?25h\u001B[?25l\u001B[2K\u001B[1Gtransferring model data ⠹ \u001B[?25h\u001B[?25l\u001B[2K\u001B[1Gtransferring model data ⠸ \u001B[?25h\u001B[?25l\u001B[2K\u001B[1Gtransferring model data ⠼ \u001B[?25h\u001B[?25l\u001B[2K\u001B[1Gtransferring model data ⠴ \u001B[?25h\u001B[?25l\u001B[2K\u001B[1Gtransferring model data ⠦ \u001B[?25h\u001B[?25l\u001B[2K\u001B[1Gtransferring model data ⠧ \u001B[?25h\u001B[?25l\u001B[2K\u001B[1Gtransferring model data ⠇ \u001B[?25h\u001B[?25l\u001B[2K\u001B[1Gtransferring model data ⠏ \u001B[?25h\u001B[?25l\u001B[2K\u001B[1Gtransferring model data ⠋ \u001B[?25h\u001B[?25l\u001B[2K\u001B[1Gtransferring model data ⠙ \u001B[?25h\u001B[?25l\u001B[2K\u001B[1Gtransferring model data ⠹ \u001B[?25h\u001B[?25l\u001B[2K\u001B[1Gtransferring model data ⠸ \u001B[?25h\u001B[?25l\u001B[2K\u001B[1Gtransferring model data ⠼ \u001B[?25h\u001B[?25l\u001B[2K\u001B[1Gtransferring model data ⠴ \u001B[?25h\u001B[?25l\u001B[2K\u001B[1Gtransferring model data ⠦ \u001B[?25h\u001B[?25l\u001B[2K\u001B[1Gtransferring model data ⠧ \u001B[?25h\u001B[?25l\u001B[2K\u001B[1Gtransferring model data ⠇ \u001B[?25h\u001B[?25l\u001B[2K\u001B[1Gtransferring model data ⠏ \u001B[?25h\u001B[?25l\u001B[2K\u001B[1Gtransferring model data ⠋ \u001B[?25h\u001B[?25l\u001B[2K\u001B[1Gtransferring model data \r\n",
      "creating new layer sha256:09d3945c5b299a1e1566d565bd18719481c69d31916c3b4de76ce9ff3488e877 \r\n",
      "using existing layer sha256:73b313b5552db6b64ad509eea4dd785887ec44607838beffbf940f7df8dd3f59 \r\n",
      "using existing layer sha256:5b8fa1ff6c1520b5e4b1fd4c50d2c317b90c2ce9b92b2df00668eccf98c337bb \r\n",
      "using existing layer sha256:586b548a58a078d011059ccfc2a6022a1998789364a0a57d4cabe289d1ce5cea \r\n",
      "using existing layer sha256:b1500fc6ea77a26c2ed144fd5bb988eacfca3ef537ff9bce209697a341ab9546 \r\n",
      "creating new layer sha256:c149b0f46fa992529935d827e6f62bb6f7cc213d99530b136c7d50ef00457555 \r\n",
      "writing manifest ⠋ \u001B[?25h\u001B[?25l\u001B[2K\u001B[1G\u001B[A\u001B[2K\u001B[1G\u001B[A\u001B[2K\u001B[1G\u001B[A\u001B[2K\u001B[1G\u001B[A\u001B[2K\u001B[1G\u001B[A\u001B[2K\u001B[1G\u001B[A\u001B[2K\u001B[1G\u001B[A\u001B[2K\u001B[1Gtransferring model data \r\n",
      "creating new layer sha256:09d3945c5b299a1e1566d565bd18719481c69d31916c3b4de76ce9ff3488e877 \r\n",
      "using existing layer sha256:73b313b5552db6b64ad509eea4dd785887ec44607838beffbf940f7df8dd3f59 \r\n",
      "using existing layer sha256:5b8fa1ff6c1520b5e4b1fd4c50d2c317b90c2ce9b92b2df00668eccf98c337bb \r\n",
      "using existing layer sha256:586b548a58a078d011059ccfc2a6022a1998789364a0a57d4cabe289d1ce5cea \r\n",
      "using existing layer sha256:b1500fc6ea77a26c2ed144fd5bb988eacfca3ef537ff9bce209697a341ab9546 \r\n",
      "creating new layer sha256:c149b0f46fa992529935d827e6f62bb6f7cc213d99530b136c7d50ef00457555 \r\n",
      "writing manifest ⠙ \u001B[?25h\u001B[?25l\u001B[2K\u001B[1G\u001B[A\u001B[2K\u001B[1G\u001B[A\u001B[2K\u001B[1G\u001B[A\u001B[2K\u001B[1G\u001B[A\u001B[2K\u001B[1G\u001B[A\u001B[2K\u001B[1G\u001B[A\u001B[2K\u001B[1G\u001B[A\u001B[2K\u001B[1Gtransferring model data \r\n",
      "creating new layer sha256:09d3945c5b299a1e1566d565bd18719481c69d31916c3b4de76ce9ff3488e877 \r\n",
      "using existing layer sha256:73b313b5552db6b64ad509eea4dd785887ec44607838beffbf940f7df8dd3f59 \r\n",
      "using existing layer sha256:5b8fa1ff6c1520b5e4b1fd4c50d2c317b90c2ce9b92b2df00668eccf98c337bb \r\n",
      "using existing layer sha256:586b548a58a078d011059ccfc2a6022a1998789364a0a57d4cabe289d1ce5cea \r\n",
      "using existing layer sha256:b1500fc6ea77a26c2ed144fd5bb988eacfca3ef537ff9bce209697a341ab9546 \r\n",
      "creating new layer sha256:c149b0f46fa992529935d827e6f62bb6f7cc213d99530b136c7d50ef00457555 \r\n",
      "writing manifest ⠹ \u001B[?25h\u001B[?25l\u001B[2K\u001B[1G\u001B[A\u001B[2K\u001B[1G\u001B[A\u001B[2K\u001B[1G\u001B[A\u001B[2K\u001B[1G\u001B[A\u001B[2K\u001B[1G\u001B[A\u001B[2K\u001B[1G\u001B[A\u001B[2K\u001B[1G\u001B[A\u001B[2K\u001B[1Gtransferring model data \r\n",
      "creating new layer sha256:09d3945c5b299a1e1566d565bd18719481c69d31916c3b4de76ce9ff3488e877 \r\n",
      "using existing layer sha256:73b313b5552db6b64ad509eea4dd785887ec44607838beffbf940f7df8dd3f59 \r\n",
      "using existing layer sha256:5b8fa1ff6c1520b5e4b1fd4c50d2c317b90c2ce9b92b2df00668eccf98c337bb \r\n",
      "using existing layer sha256:586b548a58a078d011059ccfc2a6022a1998789364a0a57d4cabe289d1ce5cea \r\n",
      "using existing layer sha256:b1500fc6ea77a26c2ed144fd5bb988eacfca3ef537ff9bce209697a341ab9546 \r\n",
      "creating new layer sha256:c149b0f46fa992529935d827e6f62bb6f7cc213d99530b136c7d50ef00457555 \r\n",
      "writing manifest ⠸ \u001B[?25h\u001B[?25l\u001B[2K\u001B[1G\u001B[A\u001B[2K\u001B[1G\u001B[A\u001B[2K\u001B[1G\u001B[A\u001B[2K\u001B[1G\u001B[A\u001B[2K\u001B[1G\u001B[A\u001B[2K\u001B[1G\u001B[A\u001B[2K\u001B[1G\u001B[A\u001B[2K\u001B[1Gtransferring model data \r\n",
      "creating new layer sha256:09d3945c5b299a1e1566d565bd18719481c69d31916c3b4de76ce9ff3488e877 \r\n",
      "using existing layer sha256:73b313b5552db6b64ad509eea4dd785887ec44607838beffbf940f7df8dd3f59 \r\n",
      "using existing layer sha256:5b8fa1ff6c1520b5e4b1fd4c50d2c317b90c2ce9b92b2df00668eccf98c337bb \r\n",
      "using existing layer sha256:586b548a58a078d011059ccfc2a6022a1998789364a0a57d4cabe289d1ce5cea \r\n",
      "using existing layer sha256:b1500fc6ea77a26c2ed144fd5bb988eacfca3ef537ff9bce209697a341ab9546 \r\n",
      "creating new layer sha256:c149b0f46fa992529935d827e6f62bb6f7cc213d99530b136c7d50ef00457555 \r\n",
      "writing manifest ⠼ \u001B[?25h[GIN] 2024/09/12 - 08:10:10 | 200 |         1m11s |       127.0.0.1 | POST     \"/api/create\"\n",
      "\u001B[?25l\u001B[2K\u001B[1G\u001B[A\u001B[2K\u001B[1G\u001B[A\u001B[2K\u001B[1G\u001B[A\u001B[2K\u001B[1G\u001B[A\u001B[2K\u001B[1G\u001B[A\u001B[2K\u001B[1G\u001B[A\u001B[2K\u001B[1G\u001B[A\u001B[2K\u001B[1Gtransferring model data \r\n",
      "creating new layer sha256:09d3945c5b299a1e1566d565bd18719481c69d31916c3b4de76ce9ff3488e877 \r\n",
      "using existing layer sha256:73b313b5552db6b64ad509eea4dd785887ec44607838beffbf940f7df8dd3f59 \r\n",
      "using existing layer sha256:5b8fa1ff6c1520b5e4b1fd4c50d2c317b90c2ce9b92b2df00668eccf98c337bb \r\n",
      "using existing layer sha256:586b548a58a078d011059ccfc2a6022a1998789364a0a57d4cabe289d1ce5cea \r\n",
      "using existing layer sha256:b1500fc6ea77a26c2ed144fd5bb988eacfca3ef537ff9bce209697a341ab9546 \r\n",
      "creating new layer sha256:c149b0f46fa992529935d827e6f62bb6f7cc213d99530b136c7d50ef00457555 \r\n",
      "writing manifest \r\n",
      "success \u001B[?25h\r\n",
      "结束\n"
     ]
    }
   ]
  }
 ]
}
