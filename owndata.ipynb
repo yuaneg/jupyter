{
 "cells": [
  {
   "cell_type": "code",
   "metadata": {
    "id": "zwFnJsE6vjf8",
    "executionInfo": {
     "status": "ok",
     "timestamp": 1726715023304,
     "user_tz": -480,
     "elapsed": 74060,
     "user": {
      "displayName": "",
      "userId": ""
     }
    },
    "jupyter": {
     "is_executing": true
    }
   },
   "source": [
    "%%capture\n",
    "# Installs Unsloth, Xformers (Flash Attention) and all other packages!\n",
    "!pip install \"unsloth[colab-new] @ git+https://github.com/unslothai/unsloth.git\"\n",
    "xformers = \"xformers==0.0.28.post3\"\n",
    "!pip install --no-deps {xformers} trl peft accelerate bitsandbytes triton\n",
    "import torch\n",
    "torch.__version__\n",
    "# 安装 ollama\n",
    "!curl -fsSL https://ollama.com/install.sh | sh"
   ],
   "outputs": [],
   "execution_count": null
  },
  {
   "cell_type": "code",
   "source": [
    "from unsloth import FastLanguageModel\n",
    "import torch\n",
    "max_seq_length = 2048 # Choose any! We auto support RoPE Scaling internally!\n",
    "dtype = None # None for auto detection. Float16 for Tesla T4, V100, Bfloat16 for Ampere+\n",
    "load_in_4bit = True # Use 4bit quantization to reduce memory usage. Can be False.\n",
    " # More models at https://huggingface.co/unsloth\n",
    "model, tokenizer = FastLanguageModel.from_pretrained(\n",
    "    model_name = \"meta-llama/Meta-Llama-3.1-8B-Instruct\",\n",
    "    max_seq_length = max_seq_length,\n",
    "    dtype = dtype,\n",
    "    load_in_4bit = load_in_4bit,\n",
    "    # token = \"hf_...\", # use one if using gated models like meta-llama/Llama-2-7b-hf\n",
    ")"
   ],
   "metadata": {
    "colab": {
     "base_uri": "https://localhost:8080/"
    },
    "id": "lZOfuTBzO0GA",
    "executionInfo": {
     "status": "ok",
     "timestamp": 1726734873880,
     "user_tz": -480,
     "elapsed": 167297,
     "user": {
      "displayName": "",
      "userId": ""
     }
    },
    "outputId": "402ac3b2-653a-4202-faab-595694e7cec8"
   },
   "outputs": [],
   "execution_count": null
  },
  {
   "cell_type": "code",
   "source": [
    "model = FastLanguageModel.get_peft_model(\n",
    "    model,\n",
    "    r = 16, # Choose any number > 0 ! Suggested 8, 16, 32, 64, 128\n",
    "    #target_modules = [\"q_proj\", \"k_proj\", \"v_proj\", \"o_proj\"],\n",
    "\n",
    "    target_modules = [\"q_proj\", \"k_proj\", \"v_proj\", \"o_proj\",\n",
    "                      \"gate_proj\", \"up_proj\", \"down_proj\",],\n",
    "    lora_alpha = 16,\n",
    "    lora_dropout = 0, # Supports any, but = 0 is optimized\n",
    "    bias = \"none\",    # Supports any, but = \"none\" is optimized\n",
    "    # [NEW] \"unsloth\" uses 30% less VRAM, fits 2x larger batch sizes!\n",
    "    use_gradient_checkpointing = \"unsloth\", # True or \"unsloth\" for very long context\n",
    "    random_state = 3407,\n",
    "    use_rslora = False,  # We support rank stabilized LoRA\n",
    "    loftq_config = None, # And LoftQ\n",
    ")"
   ],
   "metadata": {
    "colab": {
     "base_uri": "https://localhost:8080/"
    },
    "id": "HWWRlAuDRmKd",
    "executionInfo": {
     "status": "ok",
     "timestamp": 1726734875729,
     "user_tz": -480,
     "elapsed": 1834,
     "user": {
      "displayName": "",
      "userId": ""
     }
    },
    "outputId": "4eb135aa-1acf-4c34-a3f5-34b990bc905c"
   },
   "outputs": [],
   "execution_count": null
  },
  {
   "cell_type": "code",
   "source": [
    "from datasets import load_dataset, concatenate_datasets,Dataset\n",
    "import pandas as pd\n",
    "\n",
    "# 加载本地数据集\n",
    "#dataset = load_dataset('json', data_files='/home/jovyan/train.jsonl', split='train')\n",
    "# dataset = load_dataset(\"vicgalle/alpaca-gpt4\", split = \"train\")\n",
    "dataset1 = load_dataset('json', data_files='/home/jovyan/traindata/common_en_70k.jsonl', split='train')\n",
    "print(len(dataset1))\n",
    "dataset2 = load_dataset('json', data_files='/home/jovyan/traindata/common_zh_70k.jsonl', split='train')\n",
    "print(len(dataset2))\n",
    "dataset3 = load_dataset('json', data_files='/home/jovyan/traindata/computer_cn_26k_continue.jsonl', split='train')\n",
    "print(len(dataset3))\n",
    "dataset4 = load_dataset('json', data_files='/home/jovyan/traindata/computer_en_26k_continue.jsonl', split='train')\n",
    "print(len(dataset4))\n",
    "dataset6 = load_dataset('json', data_files='/home/jovyan/traindata/computer_en_26k(fixed).jsonl', split='train')\n",
    "print(len(dataset6))\n",
    "dataset5 = load_dataset('json', data_files='/home/jovyan/traindata/computer_zh_26k(fixed).jsonl', split='train')\n",
    "print(len(dataset5))\n",
    "dataset7 = load_dataset('json', data_files='/home/jovyan/traindata/unknow_zh_38k.jsonl', split='train')\n",
    "print(len(dataset7))\n",
    "dataset8 = load_dataset('json', data_files='/home/jovyan/traindata/unknow_zh_38k_continue.jsonl', split='train')\n",
    "# 定义转换函数，将每个 conversation 转换为指定格式\n",
    "combined_dataset = concatenate_datasets([dataset1, dataset2, dataset3,dataset4, dataset5,dataset6,dataset7, dataset8])\n",
    "\n",
    "# 定义转换函数，将每个 conversation 转换为指定格式\n",
    "def convert_conversation_format(conversation):\n",
    "    new_format = {'conversations': []}\n",
    "\n",
    "    # 遍历每个对话，将 human 和 assistant 成对地插入\n",
    "    for convo in conversation:\n",
    "        new_format['conversations'].append({'content': convo['human'], 'role': 'user'})\n",
    "        new_format['conversations'].append({'content': convo['assistant'], 'role': 'assistant'})\n",
    "\n",
    "    return new_format\n",
    "# 遍历 dataset 并进行转换\n",
    "converted_data = [convert_conversation_format(item['conversation']) for item in combined_dataset]\n",
    "\n",
    "# 打印转换后的第一个结果\n",
    "\n",
    "# Convert the list of converted data into a DataFrame\n",
    "df = pd.DataFrame(converted_data)\n",
    "\n",
    "# Create a Dataset from the DataFrame\n",
    "converted_data_dataset = Dataset.from_pandas(df)\n",
    "\n",
    "# Verify the dataset\n",
    "print(converted_data_dataset[0])"
   ],
   "metadata": {
    "colab": {
     "base_uri": "https://localhost:8080/"
    },
    "id": "1aa0aRijSQbN",
    "executionInfo": {
     "status": "ok",
     "timestamp": 1726734916124,
     "user_tz": -480,
     "elapsed": 40392,
     "user": {
      "displayName": "",
      "userId": ""
     }
    },
    "outputId": "c9737795-95b8-460f-acec-10c91f4bfd58"
   },
   "outputs": [],
   "execution_count": null
  },
  {
   "cell_type": "code",
   "source": [
    "from datasets import load_dataset,concatenate_datasets\n",
    "# 加载本地数据集\n",
    "dataset = load_dataset('json', data_files='/home/jovyan/traindata/traintrain.jsonl', split='train')\n",
    "## 数据集整合\n",
    "from unsloth import to_sharegpt\n",
    "dataset = to_sharegpt(\n",
    "    dataset,\n",
    "    merged_prompt = \"{instruction}[[\\n{input}]]\",\n",
    "    output_column_name = \"output\",\n",
    "    conversation_extension = 4, # Select more to handle longer conversations\n",
    ")\n",
    "from unsloth import standardize_sharegpt\n",
    "dataset = standardize_sharegpt(dataset)\n",
    "for _ in range(10):\n",
    "    dataset = concatenate_datasets([dataset, dataset])\n",
    "print(len(dataset))\n",
    "dataset = concatenate_datasets([dataset,converted_data_dataset])"
   ],
   "metadata": {
    "colab": {
     "base_uri": "https://localhost:8080/"
    },
    "id": "Qvv3UEogSUxU",
    "executionInfo": {
     "status": "ok",
     "timestamp": 1726734916973,
     "user_tz": -480,
     "elapsed": 848,
     "user": {
      "displayName": "",
      "userId": ""
     }
    },
    "outputId": "5b5fa79b-3781-403a-d177-197cc02b2cd0"
   },
   "outputs": [],
   "execution_count": null
  },
  {
   "cell_type": "code",
   "source": [
    "chat_template = \"\"\"<|begin_of_text|><|start_header_id|>system<|end_header_id|>\n",
    "\n",
    "{SYSTEM}<|eot_id|><|start_header_id|>user<|end_header_id|>\n",
    "\n",
    "{INPUT}<|eot_id|><|start_header_id|>assistant<|end_header_id|>\n",
    "\n",
    "{OUTPUT}<|eot_id|>\"\"\"\n",
    "from unsloth import apply_chat_template\n",
    "dataset = apply_chat_template(\n",
    "    dataset,\n",
    "    tokenizer = tokenizer,\n",
    "    chat_template = chat_template,\n",
    "    #default_system_message = \"你是中企动力的客服\",\n",
    ")\n",
    "print(dataset[0])\n",
    "print(len(dataset))\n"
   ],
   "metadata": {
    "colab": {
     "base_uri": "https://localhost:8080/",
     "height": 74,
     "referenced_widgets": [
      "281493f74117434b943ebfa50cb0b0b2",
      "fd92e9c027b1427289559915307c9b1d",
      "1a4c0e192a534c359a6149c32bc186b0",
      "120c6745d54c48d3937165afe6190348",
      "e01b0f49f8bb4cbdb6ee4efb521e96a0",
      "7dd35b8a844140ada5fb4e5aa8f737c2",
      "d96ea0ca57a54039b82b88e9c7b67df2",
      "63fc31d9f894401da3d2ec26c8f51836",
      "3176f52ebbf04d5e94e39ee46595b7ef",
      "b350934fcd654574bc79a6dd7eddb352",
      "1a792ae0447d4e67bd059d9588c99bfa"
     ]
    },
    "id": "ISOO1-QnSXOU",
    "executionInfo": {
     "status": "ok",
     "timestamp": 1726734939543,
     "user_tz": -480,
     "elapsed": 22512,
     "user": {
      "displayName": "",
      "userId": ""
     }
    },
    "outputId": "5144b645-cd16-4c64-ce8d-59b44c8d7fae"
   },
   "outputs": [],
   "execution_count": null
  },
  {
   "cell_type": "code",
   "source": [
    "from trl import SFTTrainer\n",
    "from transformers import TrainingArguments\n",
    "from unsloth import is_bfloat16_supported\n",
    "trainer = SFTTrainer(\n",
    "    model = model,\n",
    "    tokenizer = tokenizer,\n",
    "    train_dataset = dataset,\n",
    "    dataset_text_field = \"text\",\n",
    "    max_seq_length = max_seq_length,\n",
    "    dataset_num_proc = 2,\n",
    "    packing = False, # Can make training 5x faster for short sequences.\n",
    "    args = TrainingArguments(\n",
    "        per_device_train_batch_size = 2,\n",
    "        gradient_accumulation_steps = 4,\n",
    "        warmup_steps = 5,\n",
    "        max_steps = 120,\n",
    "        # num_train_epochs = 1, # For longer training runs!\n",
    "        learning_rate = 2e-4,\n",
    "        fp16 = not is_bfloat16_supported(),\n",
    "        bf16 = is_bfloat16_supported(),\n",
    "        logging_steps = 1,\n",
    "        optim = \"adamw_8bit\",\n",
    "        weight_decay = 0.01,\n",
    "        lr_scheduler_type = \"linear\",\n",
    "        seed = 3407,\n",
    "        output_dir = \"outputs\",\n",
    "    ),\n",
    ")"
   ],
   "metadata": {
    "colab": {
     "base_uri": "https://localhost:8080/",
     "height": 72,
     "referenced_widgets": [
      "5b0ea5f65bff4f97a3f814ed85b55636",
      "0e916c384de34d119644f569740e61d7",
      "9c867d7647504bf4bb7e56f80f5a06fc",
      "8fc77448506c45428c31fe01b529ee5c",
      "aeba6ec07fd0441b9f129957353c6bdd",
      "f6c69dfe544f45ffb295cb6545a94d7d",
      "d3e5a58d96944f31be48c2d7a29863f5",
      "90c042bb2d60489e93fb487cb63b54cf",
      "b8f1dc375a464d11b5c96cb649692a90",
      "e211a2163ae14b6db848ad2f0e0886cc",
      "b3d8fc29d4ee4a8e9bd9c3ef4b92d06c"
     ]
    },
    "id": "eHSrLNZKSbpY",
    "executionInfo": {
     "status": "ok",
     "timestamp": 1726735139656,
     "user_tz": -480,
     "elapsed": 200113,
     "user": {
      "displayName": "",
      "userId": ""
     }
    },
    "outputId": "6c6748c8-e688-43f1-cbbc-d1c95398a391"
   },
   "outputs": [],
   "execution_count": null
  },
  {
   "cell_type": "code",
   "source": "trainer_stats = trainer.train()",
   "metadata": {
    "colab": {
     "base_uri": "https://localhost:8080/",
     "height": 1000
    },
    "id": "wmp4DGWCSfSs",
    "executionInfo": {
     "status": "ok",
     "timestamp": 1726736717111,
     "user_tz": -480,
     "elapsed": 1577450,
     "user": {
      "displayName": "",
      "userId": ""
     }
    },
    "outputId": "ffc51fb6-7df6-4dea-b9a9-27487bbad5a4"
   },
   "outputs": [],
   "execution_count": null
  },
  {
   "cell_type": "code",
   "source": [
    "FastLanguageModel.for_inference(model) # Enable native 2x faster inference\n",
    "messages = [                         # Change below!\n",
    "    {\"role\": \"user\",      \"content\": \"中企和中企动力是一家公司吗\"}]\n",
    "input_ids = tokenizer.apply_chat_template(\n",
    "    messages,\n",
    "    add_generation_prompt = True,\n",
    "    return_tensors = \"pt\",\n",
    ").to(\"cuda\")\n",
    "\n",
    "from transformers import TextStreamer\n",
    "text_streamer = TextStreamer(tokenizer, skip_prompt = True)\n",
    "_ = model.generate(input_ids, streamer = text_streamer, max_new_tokens = 128, pad_token_id = tokenizer.eos_token_id)"
   ],
   "metadata": {
    "colab": {
     "base_uri": "https://localhost:8080/"
    },
    "id": "HCeAdCLTXj2K",
    "executionInfo": {
     "status": "ok",
     "timestamp": 1726736801170,
     "user_tz": -480,
     "elapsed": 1600,
     "user": {
      "displayName": "",
      "userId": ""
     }
    },
    "outputId": "778f972c-b3e5-4d9c-ddcf-d70b7634cb1f"
   },
   "outputs": [],
   "execution_count": null
  },
  {
   "cell_type": "code",
   "source": [
    "model.save_pretrained(\"lora_model\") # Local saving\n",
    "tokenizer.save_pretrained(\"lora_model\")\n",
    "model.save_pretrained_gguf(\"model\", tokenizer, quantization_method = \"q4_k_m\")\n",
    "# model.push_to_hub(\"your_name/lora_model\", token = \"...\") # Online saving\n",
    "# tokenizer.push_to_hub(\"your_name/lora_model\", token = \"...\") # Online saving\n",
    "#model.save_pretrained_gguf(\"model\", tokenizer, quantization_method = [\"q4_k_m\", \"q8_0\", \"q5_k_m\",],)\n",
    "\n",
    "# Save to 8bit Q8_0\n",
    "#if False: model.save_pretrained_gguf(\"model\", tokenizer,)\n",
    "#if False: model.save_pretrained_gguf(\"model\", tokenizer, quantization_method = \"q4_k_m\")\n"
   ],
   "metadata": {
    "id": "sCGILP2UiN7j",
    "executionInfo": {
     "status": "ok",
     "timestamp": 1726737462526,
     "user_tz": -480,
     "elapsed": 595083,
     "user": {
      "displayName": "",
      "userId": ""
     }
    },
    "outputId": "e56f5eeb-f819-44e2-f449-027351b4972e",
    "colab": {
     "base_uri": "https://localhost:8080/"
    }
   },
   "outputs": [],
   "execution_count": null
  },
  {
   "cell_type": "code",
   "source": [
    "!cp /home/jovyan/traindata/Modelfile ./model/Modelfile\n",
    "\n",
    "!cat ./model/Modelfile"
   ],
   "metadata": {
    "id": "O6tgvwqrktxK",
    "executionInfo": {
     "status": "ok",
     "timestamp": 1726737487298,
     "user_tz": -480,
     "elapsed": 311,
     "user": {
      "displayName": "",
      "userId": ""
     }
    },
    "outputId": "1452040e-8cf8-4ade-b685-13ee431468c1",
    "colab": {
     "base_uri": "https://localhost:8080/"
    }
   },
   "outputs": [],
   "execution_count": null
  },
  {
   "cell_type": "code",
   "source": [
    "import subprocess\n",
    "subprocess.Popen([\"ollama\", \"serve\"])\n",
    "import time\n",
    "time.sleep(3) # Wait for a few seconds for Ollama to load!\n",
    "!ollama create wt1107 -f ./model/Modelfile\n",
    "!kill -9 $(pgrep -f ollama)\n",
    "print(\"结束\")"
   ],
   "metadata": {
    "id": "MexI9n9Xkzyk",
    "executionInfo": {
     "status": "ok",
     "timestamp": 1726737654226,
     "user_tz": -480,
     "elapsed": 100236,
     "user": {
      "displayName": "",
      "userId": ""
     }
    },
    "outputId": "5fa4ee87-8094-4f5a-f2af-b9a12438d250",
    "colab": {
     "base_uri": "https://localhost:8080/"
    }
   },
   "outputs": [],
   "execution_count": null
  }
 ],
 "metadata": {
  "colab": {
   "name": "欢迎使用 Colaboratory",
   "toc_visible": true,
   "provenance": [
    {
     "file_id": "/v2/external/notebooks/intro.ipynb",
     "timestamp": 1726738195687
    }
   ]
  },
  "kernelspec": {
   "display_name": "Python 3 (ipykernel)",
   "name": "python3",
   "language": "python"
  },
  "widgets": {
   "application/vnd.jupyter.widget-state+json": {
    "281493f74117434b943ebfa50cb0b0b2": {
     "model_module": "@jupyter-widgets/controls",
     "model_name": "HBoxModel",
     "model_module_version": "2.0.0",
     "state": {
      "_dom_classes": [],
      "_model_module": "@jupyter-widgets/controls",
      "_model_module_version": "2.0.0",
      "_model_name": "HBoxModel",
      "_view_count": null,
      "_view_module": "@jupyter-widgets/controls",
      "_view_module_version": "2.0.0",
      "_view_name": "HBoxView",
      "box_style": "",
      "children": [
       "IPY_MODEL_fd92e9c027b1427289559915307c9b1d",
       "IPY_MODEL_1a4c0e192a534c359a6149c32bc186b0",
       "IPY_MODEL_120c6745d54c48d3937165afe6190348"
      ],
      "layout": "IPY_MODEL_e01b0f49f8bb4cbdb6ee4efb521e96a0",
      "tabbable": null,
      "tooltip": null
     }
    },
    "fd92e9c027b1427289559915307c9b1d": {
     "model_module": "@jupyter-widgets/controls",
     "model_name": "HTMLModel",
     "model_module_version": "2.0.0",
     "state": {
      "_dom_classes": [],
      "_model_module": "@jupyter-widgets/controls",
      "_model_module_version": "2.0.0",
      "_model_name": "HTMLModel",
      "_view_count": null,
      "_view_module": "@jupyter-widgets/controls",
      "_view_module_version": "2.0.0",
      "_view_name": "HTMLView",
      "description": "",
      "description_allow_html": false,
      "layout": "IPY_MODEL_7dd35b8a844140ada5fb4e5aa8f737c2",
      "placeholder": "​",
      "style": "IPY_MODEL_d96ea0ca57a54039b82b88e9c7b67df2",
      "tabbable": null,
      "tooltip": null,
      "value": "Map: 100%"
     }
    },
    "1a4c0e192a534c359a6149c32bc186b0": {
     "model_module": "@jupyter-widgets/controls",
     "model_name": "FloatProgressModel",
     "model_module_version": "2.0.0",
     "state": {
      "_dom_classes": [],
      "_model_module": "@jupyter-widgets/controls",
      "_model_module_version": "2.0.0",
      "_model_name": "FloatProgressModel",
      "_view_count": null,
      "_view_module": "@jupyter-widgets/controls",
      "_view_module_version": "2.0.0",
      "_view_name": "ProgressView",
      "bar_style": "success",
      "description": "",
      "description_allow_html": false,
      "layout": "IPY_MODEL_63fc31d9f894401da3d2ec26c8f51836",
      "max": 301323,
      "min": 0,
      "orientation": "horizontal",
      "style": "IPY_MODEL_3176f52ebbf04d5e94e39ee46595b7ef",
      "tabbable": null,
      "tooltip": null,
      "value": 301323
     }
    },
    "120c6745d54c48d3937165afe6190348": {
     "model_module": "@jupyter-widgets/controls",
     "model_name": "HTMLModel",
     "model_module_version": "2.0.0",
     "state": {
      "_dom_classes": [],
      "_model_module": "@jupyter-widgets/controls",
      "_model_module_version": "2.0.0",
      "_model_name": "HTMLModel",
      "_view_count": null,
      "_view_module": "@jupyter-widgets/controls",
      "_view_module_version": "2.0.0",
      "_view_name": "HTMLView",
      "description": "",
      "description_allow_html": false,
      "layout": "IPY_MODEL_b350934fcd654574bc79a6dd7eddb352",
      "placeholder": "​",
      "style": "IPY_MODEL_1a792ae0447d4e67bd059d9588c99bfa",
      "tabbable": null,
      "tooltip": null,
      "value": " 301323/301323 [00:22&lt;00:00, 8803.24 examples/s]"
     }
    },
    "e01b0f49f8bb4cbdb6ee4efb521e96a0": {
     "model_module": "@jupyter-widgets/base",
     "model_name": "LayoutModel",
     "model_module_version": "2.0.0",
     "state": {
      "_model_module": "@jupyter-widgets/base",
      "_model_module_version": "2.0.0",
      "_model_name": "LayoutModel",
      "_view_count": null,
      "_view_module": "@jupyter-widgets/base",
      "_view_module_version": "2.0.0",
      "_view_name": "LayoutView",
      "align_content": null,
      "align_items": null,
      "align_self": null,
      "border_bottom": null,
      "border_left": null,
      "border_right": null,
      "border_top": null,
      "bottom": null,
      "display": null,
      "flex": null,
      "flex_flow": null,
      "grid_area": null,
      "grid_auto_columns": null,
      "grid_auto_flow": null,
      "grid_auto_rows": null,
      "grid_column": null,
      "grid_gap": null,
      "grid_row": null,
      "grid_template_areas": null,
      "grid_template_columns": null,
      "grid_template_rows": null,
      "height": null,
      "justify_content": null,
      "justify_items": null,
      "left": null,
      "margin": null,
      "max_height": null,
      "max_width": null,
      "min_height": null,
      "min_width": null,
      "object_fit": null,
      "object_position": null,
      "order": null,
      "overflow": null,
      "padding": null,
      "right": null,
      "top": null,
      "visibility": null,
      "width": null
     }
    },
    "7dd35b8a844140ada5fb4e5aa8f737c2": {
     "model_module": "@jupyter-widgets/base",
     "model_name": "LayoutModel",
     "model_module_version": "2.0.0",
     "state": {
      "_model_module": "@jupyter-widgets/base",
      "_model_module_version": "2.0.0",
      "_model_name": "LayoutModel",
      "_view_count": null,
      "_view_module": "@jupyter-widgets/base",
      "_view_module_version": "2.0.0",
      "_view_name": "LayoutView",
      "align_content": null,
      "align_items": null,
      "align_self": null,
      "border_bottom": null,
      "border_left": null,
      "border_right": null,
      "border_top": null,
      "bottom": null,
      "display": null,
      "flex": null,
      "flex_flow": null,
      "grid_area": null,
      "grid_auto_columns": null,
      "grid_auto_flow": null,
      "grid_auto_rows": null,
      "grid_column": null,
      "grid_gap": null,
      "grid_row": null,
      "grid_template_areas": null,
      "grid_template_columns": null,
      "grid_template_rows": null,
      "height": null,
      "justify_content": null,
      "justify_items": null,
      "left": null,
      "margin": null,
      "max_height": null,
      "max_width": null,
      "min_height": null,
      "min_width": null,
      "object_fit": null,
      "object_position": null,
      "order": null,
      "overflow": null,
      "padding": null,
      "right": null,
      "top": null,
      "visibility": null,
      "width": null
     }
    },
    "d96ea0ca57a54039b82b88e9c7b67df2": {
     "model_module": "@jupyter-widgets/controls",
     "model_name": "HTMLStyleModel",
     "model_module_version": "2.0.0",
     "state": {
      "_model_module": "@jupyter-widgets/controls",
      "_model_module_version": "2.0.0",
      "_model_name": "HTMLStyleModel",
      "_view_count": null,
      "_view_module": "@jupyter-widgets/base",
      "_view_module_version": "2.0.0",
      "_view_name": "StyleView",
      "background": null,
      "description_width": "",
      "font_size": null,
      "text_color": null
     }
    },
    "63fc31d9f894401da3d2ec26c8f51836": {
     "model_module": "@jupyter-widgets/base",
     "model_name": "LayoutModel",
     "model_module_version": "2.0.0",
     "state": {
      "_model_module": "@jupyter-widgets/base",
      "_model_module_version": "2.0.0",
      "_model_name": "LayoutModel",
      "_view_count": null,
      "_view_module": "@jupyter-widgets/base",
      "_view_module_version": "2.0.0",
      "_view_name": "LayoutView",
      "align_content": null,
      "align_items": null,
      "align_self": null,
      "border_bottom": null,
      "border_left": null,
      "border_right": null,
      "border_top": null,
      "bottom": null,
      "display": null,
      "flex": null,
      "flex_flow": null,
      "grid_area": null,
      "grid_auto_columns": null,
      "grid_auto_flow": null,
      "grid_auto_rows": null,
      "grid_column": null,
      "grid_gap": null,
      "grid_row": null,
      "grid_template_areas": null,
      "grid_template_columns": null,
      "grid_template_rows": null,
      "height": null,
      "justify_content": null,
      "justify_items": null,
      "left": null,
      "margin": null,
      "max_height": null,
      "max_width": null,
      "min_height": null,
      "min_width": null,
      "object_fit": null,
      "object_position": null,
      "order": null,
      "overflow": null,
      "padding": null,
      "right": null,
      "top": null,
      "visibility": null,
      "width": null
     }
    },
    "3176f52ebbf04d5e94e39ee46595b7ef": {
     "model_module": "@jupyter-widgets/controls",
     "model_name": "ProgressStyleModel",
     "model_module_version": "2.0.0",
     "state": {
      "_model_module": "@jupyter-widgets/controls",
      "_model_module_version": "2.0.0",
      "_model_name": "ProgressStyleModel",
      "_view_count": null,
      "_view_module": "@jupyter-widgets/base",
      "_view_module_version": "2.0.0",
      "_view_name": "StyleView",
      "bar_color": null,
      "description_width": ""
     }
    },
    "b350934fcd654574bc79a6dd7eddb352": {
     "model_module": "@jupyter-widgets/base",
     "model_name": "LayoutModel",
     "model_module_version": "2.0.0",
     "state": {
      "_model_module": "@jupyter-widgets/base",
      "_model_module_version": "2.0.0",
      "_model_name": "LayoutModel",
      "_view_count": null,
      "_view_module": "@jupyter-widgets/base",
      "_view_module_version": "2.0.0",
      "_view_name": "LayoutView",
      "align_content": null,
      "align_items": null,
      "align_self": null,
      "border_bottom": null,
      "border_left": null,
      "border_right": null,
      "border_top": null,
      "bottom": null,
      "display": null,
      "flex": null,
      "flex_flow": null,
      "grid_area": null,
      "grid_auto_columns": null,
      "grid_auto_flow": null,
      "grid_auto_rows": null,
      "grid_column": null,
      "grid_gap": null,
      "grid_row": null,
      "grid_template_areas": null,
      "grid_template_columns": null,
      "grid_template_rows": null,
      "height": null,
      "justify_content": null,
      "justify_items": null,
      "left": null,
      "margin": null,
      "max_height": null,
      "max_width": null,
      "min_height": null,
      "min_width": null,
      "object_fit": null,
      "object_position": null,
      "order": null,
      "overflow": null,
      "padding": null,
      "right": null,
      "top": null,
      "visibility": null,
      "width": null
     }
    },
    "1a792ae0447d4e67bd059d9588c99bfa": {
     "model_module": "@jupyter-widgets/controls",
     "model_name": "HTMLStyleModel",
     "model_module_version": "2.0.0",
     "state": {
      "_model_module": "@jupyter-widgets/controls",
      "_model_module_version": "2.0.0",
      "_model_name": "HTMLStyleModel",
      "_view_count": null,
      "_view_module": "@jupyter-widgets/base",
      "_view_module_version": "2.0.0",
      "_view_name": "StyleView",
      "background": null,
      "description_width": "",
      "font_size": null,
      "text_color": null
     }
    },
    "5b0ea5f65bff4f97a3f814ed85b55636": {
     "model_module": "@jupyter-widgets/controls",
     "model_name": "HBoxModel",
     "model_module_version": "2.0.0",
     "state": {
      "_dom_classes": [],
      "_model_module": "@jupyter-widgets/controls",
      "_model_module_version": "2.0.0",
      "_model_name": "HBoxModel",
      "_view_count": null,
      "_view_module": "@jupyter-widgets/controls",
      "_view_module_version": "2.0.0",
      "_view_name": "HBoxView",
      "box_style": "",
      "children": [
       "IPY_MODEL_0e916c384de34d119644f569740e61d7",
       "IPY_MODEL_9c867d7647504bf4bb7e56f80f5a06fc",
       "IPY_MODEL_8fc77448506c45428c31fe01b529ee5c"
      ],
      "layout": "IPY_MODEL_aeba6ec07fd0441b9f129957353c6bdd",
      "tabbable": null,
      "tooltip": null
     }
    },
    "0e916c384de34d119644f569740e61d7": {
     "model_module": "@jupyter-widgets/controls",
     "model_name": "HTMLModel",
     "model_module_version": "2.0.0",
     "state": {
      "_dom_classes": [],
      "_model_module": "@jupyter-widgets/controls",
      "_model_module_version": "2.0.0",
      "_model_name": "HTMLModel",
      "_view_count": null,
      "_view_module": "@jupyter-widgets/controls",
      "_view_module_version": "2.0.0",
      "_view_name": "HTMLView",
      "description": "",
      "description_allow_html": false,
      "layout": "IPY_MODEL_f6c69dfe544f45ffb295cb6545a94d7d",
      "placeholder": "​",
      "style": "IPY_MODEL_d3e5a58d96944f31be48c2d7a29863f5",
      "tabbable": null,
      "tooltip": null,
      "value": "Map (num_proc=2): 100%"
     }
    },
    "9c867d7647504bf4bb7e56f80f5a06fc": {
     "model_module": "@jupyter-widgets/controls",
     "model_name": "FloatProgressModel",
     "model_module_version": "2.0.0",
     "state": {
      "_dom_classes": [],
      "_model_module": "@jupyter-widgets/controls",
      "_model_module_version": "2.0.0",
      "_model_name": "FloatProgressModel",
      "_view_count": null,
      "_view_module": "@jupyter-widgets/controls",
      "_view_module_version": "2.0.0",
      "_view_name": "ProgressView",
      "bar_style": "success",
      "description": "",
      "description_allow_html": false,
      "layout": "IPY_MODEL_90c042bb2d60489e93fb487cb63b54cf",
      "max": 301323,
      "min": 0,
      "orientation": "horizontal",
      "style": "IPY_MODEL_b8f1dc375a464d11b5c96cb649692a90",
      "tabbable": null,
      "tooltip": null,
      "value": 301323
     }
    },
    "8fc77448506c45428c31fe01b529ee5c": {
     "model_module": "@jupyter-widgets/controls",
     "model_name": "HTMLModel",
     "model_module_version": "2.0.0",
     "state": {
      "_dom_classes": [],
      "_model_module": "@jupyter-widgets/controls",
      "_model_module_version": "2.0.0",
      "_model_name": "HTMLModel",
      "_view_count": null,
      "_view_module": "@jupyter-widgets/controls",
      "_view_module_version": "2.0.0",
      "_view_name": "HTMLView",
      "description": "",
      "description_allow_html": false,
      "layout": "IPY_MODEL_e211a2163ae14b6db848ad2f0e0886cc",
      "placeholder": "​",
      "style": "IPY_MODEL_b3d8fc29d4ee4a8e9bd9c3ef4b92d06c",
      "tabbable": null,
      "tooltip": null,
      "value": " 301323/301323 [03:19&lt;00:00, 507.71 examples/s]"
     }
    },
    "aeba6ec07fd0441b9f129957353c6bdd": {
     "model_module": "@jupyter-widgets/base",
     "model_name": "LayoutModel",
     "model_module_version": "2.0.0",
     "state": {
      "_model_module": "@jupyter-widgets/base",
      "_model_module_version": "2.0.0",
      "_model_name": "LayoutModel",
      "_view_count": null,
      "_view_module": "@jupyter-widgets/base",
      "_view_module_version": "2.0.0",
      "_view_name": "LayoutView",
      "align_content": null,
      "align_items": null,
      "align_self": null,
      "border_bottom": null,
      "border_left": null,
      "border_right": null,
      "border_top": null,
      "bottom": null,
      "display": null,
      "flex": null,
      "flex_flow": null,
      "grid_area": null,
      "grid_auto_columns": null,
      "grid_auto_flow": null,
      "grid_auto_rows": null,
      "grid_column": null,
      "grid_gap": null,
      "grid_row": null,
      "grid_template_areas": null,
      "grid_template_columns": null,
      "grid_template_rows": null,
      "height": null,
      "justify_content": null,
      "justify_items": null,
      "left": null,
      "margin": null,
      "max_height": null,
      "max_width": null,
      "min_height": null,
      "min_width": null,
      "object_fit": null,
      "object_position": null,
      "order": null,
      "overflow": null,
      "padding": null,
      "right": null,
      "top": null,
      "visibility": null,
      "width": null
     }
    },
    "f6c69dfe544f45ffb295cb6545a94d7d": {
     "model_module": "@jupyter-widgets/base",
     "model_name": "LayoutModel",
     "model_module_version": "2.0.0",
     "state": {
      "_model_module": "@jupyter-widgets/base",
      "_model_module_version": "2.0.0",
      "_model_name": "LayoutModel",
      "_view_count": null,
      "_view_module": "@jupyter-widgets/base",
      "_view_module_version": "2.0.0",
      "_view_name": "LayoutView",
      "align_content": null,
      "align_items": null,
      "align_self": null,
      "border_bottom": null,
      "border_left": null,
      "border_right": null,
      "border_top": null,
      "bottom": null,
      "display": null,
      "flex": null,
      "flex_flow": null,
      "grid_area": null,
      "grid_auto_columns": null,
      "grid_auto_flow": null,
      "grid_auto_rows": null,
      "grid_column": null,
      "grid_gap": null,
      "grid_row": null,
      "grid_template_areas": null,
      "grid_template_columns": null,
      "grid_template_rows": null,
      "height": null,
      "justify_content": null,
      "justify_items": null,
      "left": null,
      "margin": null,
      "max_height": null,
      "max_width": null,
      "min_height": null,
      "min_width": null,
      "object_fit": null,
      "object_position": null,
      "order": null,
      "overflow": null,
      "padding": null,
      "right": null,
      "top": null,
      "visibility": null,
      "width": null
     }
    },
    "d3e5a58d96944f31be48c2d7a29863f5": {
     "model_module": "@jupyter-widgets/controls",
     "model_name": "HTMLStyleModel",
     "model_module_version": "2.0.0",
     "state": {
      "_model_module": "@jupyter-widgets/controls",
      "_model_module_version": "2.0.0",
      "_model_name": "HTMLStyleModel",
      "_view_count": null,
      "_view_module": "@jupyter-widgets/base",
      "_view_module_version": "2.0.0",
      "_view_name": "StyleView",
      "background": null,
      "description_width": "",
      "font_size": null,
      "text_color": null
     }
    },
    "90c042bb2d60489e93fb487cb63b54cf": {
     "model_module": "@jupyter-widgets/base",
     "model_name": "LayoutModel",
     "model_module_version": "2.0.0",
     "state": {
      "_model_module": "@jupyter-widgets/base",
      "_model_module_version": "2.0.0",
      "_model_name": "LayoutModel",
      "_view_count": null,
      "_view_module": "@jupyter-widgets/base",
      "_view_module_version": "2.0.0",
      "_view_name": "LayoutView",
      "align_content": null,
      "align_items": null,
      "align_self": null,
      "border_bottom": null,
      "border_left": null,
      "border_right": null,
      "border_top": null,
      "bottom": null,
      "display": null,
      "flex": null,
      "flex_flow": null,
      "grid_area": null,
      "grid_auto_columns": null,
      "grid_auto_flow": null,
      "grid_auto_rows": null,
      "grid_column": null,
      "grid_gap": null,
      "grid_row": null,
      "grid_template_areas": null,
      "grid_template_columns": null,
      "grid_template_rows": null,
      "height": null,
      "justify_content": null,
      "justify_items": null,
      "left": null,
      "margin": null,
      "max_height": null,
      "max_width": null,
      "min_height": null,
      "min_width": null,
      "object_fit": null,
      "object_position": null,
      "order": null,
      "overflow": null,
      "padding": null,
      "right": null,
      "top": null,
      "visibility": null,
      "width": null
     }
    },
    "b8f1dc375a464d11b5c96cb649692a90": {
     "model_module": "@jupyter-widgets/controls",
     "model_name": "ProgressStyleModel",
     "model_module_version": "2.0.0",
     "state": {
      "_model_module": "@jupyter-widgets/controls",
      "_model_module_version": "2.0.0",
      "_model_name": "ProgressStyleModel",
      "_view_count": null,
      "_view_module": "@jupyter-widgets/base",
      "_view_module_version": "2.0.0",
      "_view_name": "StyleView",
      "bar_color": null,
      "description_width": ""
     }
    },
    "e211a2163ae14b6db848ad2f0e0886cc": {
     "model_module": "@jupyter-widgets/base",
     "model_name": "LayoutModel",
     "model_module_version": "2.0.0",
     "state": {
      "_model_module": "@jupyter-widgets/base",
      "_model_module_version": "2.0.0",
      "_model_name": "LayoutModel",
      "_view_count": null,
      "_view_module": "@jupyter-widgets/base",
      "_view_module_version": "2.0.0",
      "_view_name": "LayoutView",
      "align_content": null,
      "align_items": null,
      "align_self": null,
      "border_bottom": null,
      "border_left": null,
      "border_right": null,
      "border_top": null,
      "bottom": null,
      "display": null,
      "flex": null,
      "flex_flow": null,
      "grid_area": null,
      "grid_auto_columns": null,
      "grid_auto_flow": null,
      "grid_auto_rows": null,
      "grid_column": null,
      "grid_gap": null,
      "grid_row": null,
      "grid_template_areas": null,
      "grid_template_columns": null,
      "grid_template_rows": null,
      "height": null,
      "justify_content": null,
      "justify_items": null,
      "left": null,
      "margin": null,
      "max_height": null,
      "max_width": null,
      "min_height": null,
      "min_width": null,
      "object_fit": null,
      "object_position": null,
      "order": null,
      "overflow": null,
      "padding": null,
      "right": null,
      "top": null,
      "visibility": null,
      "width": null
     }
    },
    "b3d8fc29d4ee4a8e9bd9c3ef4b92d06c": {
     "model_module": "@jupyter-widgets/controls",
     "model_name": "HTMLStyleModel",
     "model_module_version": "2.0.0",
     "state": {
      "_model_module": "@jupyter-widgets/controls",
      "_model_module_version": "2.0.0",
      "_model_name": "HTMLStyleModel",
      "_view_count": null,
      "_view_module": "@jupyter-widgets/base",
      "_view_module_version": "2.0.0",
      "_view_name": "StyleView",
      "background": null,
      "description_width": "",
      "font_size": null,
      "text_color": null
     }
    }
   }
  }
 },
 "nbformat": 4,
 "nbformat_minor": 0
}
